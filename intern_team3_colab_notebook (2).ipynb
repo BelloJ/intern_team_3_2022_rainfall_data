{
  "cells": [
    {
      "cell_type": "markdown",
      "source": [
        "# Geographic Coordinates of South East England, England, United Kingdom\n",
        "\n",
        "South East England is a region in England, United Kingdom at \n",
        "\n",
        "Latitude 51°12′00.00″ North, \n",
        "\n",
        "Longitude 0°16′12.00″ East.\n",
        "\n",
        "<div align=\"center\" style=\"width: 950px; font-size: 80%; text-align: center; margin: 0 auto\">\n",
        "# <img src=\"https://th.bing.com/th/id/R.ed73d16944c7c2231de8760dbd41d316?rik=WGs2aM1RoCve1w&riu=http%3a%2f%2fwikitravel.org%2fupload%2fshared%2fthumb%2f6%2f64%2fSouth_East_England_map.png%2f600px-South_East_England_map.png&ehk=QVWbCAG7R7Llm7gptlF7xl3YTROhSVg8LQUroXTTbuM%3d&risl=&pid=ImgRaw&r=0&sres=1&sresct=1\"\n",
        "     alt=\"Dummy image 1\"\n",
        "     style=\"float: center; padding-bottom=0.5em\"\n",
        "     width=950px/>"
      ],
      "metadata": {
        "id": "LhPzz3ICj8C8"
      }
    },
    {
      "cell_type": "markdown",
      "source": [
        "# Install and Import Dependencies "
      ],
      "metadata": {
        "id": "SKeUA0bdN4O1"
      }
    },
    {
      "cell_type": "code",
      "execution_count": 172,
      "metadata": {
        "colab": {
          "base_uri": "https://localhost:8080/"
        },
        "id": "fI6DK6SWGe3C",
        "outputId": "4a43467d-e1ac-463b-8242-3571a517e877"
      },
      "outputs": [
        {
          "output_type": "stream",
          "name": "stdout",
          "text": [
            "Looking in indexes: https://pypi.org/simple, https://us-python.pkg.dev/colab-wheels/public/simple/\n",
            "Requirement already satisfied: geopandas in /usr/local/lib/python3.7/dist-packages (0.10.2)\n",
            "Requirement already satisfied: pandas>=0.25.0 in /usr/local/lib/python3.7/dist-packages (from geopandas) (1.3.5)\n",
            "Requirement already satisfied: shapely>=1.6 in /usr/local/lib/python3.7/dist-packages (from geopandas) (1.8.4)\n",
            "Requirement already satisfied: pyproj>=2.2.0 in /usr/local/lib/python3.7/dist-packages (from geopandas) (3.2.1)\n",
            "Requirement already satisfied: fiona>=1.8 in /usr/local/lib/python3.7/dist-packages (from geopandas) (1.8.21)\n",
            "Requirement already satisfied: click>=4.0 in /usr/local/lib/python3.7/dist-packages (from fiona>=1.8->geopandas) (7.1.2)\n",
            "Requirement already satisfied: six>=1.7 in /usr/local/lib/python3.7/dist-packages (from fiona>=1.8->geopandas) (1.15.0)\n",
            "Requirement already satisfied: attrs>=17 in /usr/local/lib/python3.7/dist-packages (from fiona>=1.8->geopandas) (22.1.0)\n",
            "Requirement already satisfied: setuptools in /usr/local/lib/python3.7/dist-packages (from fiona>=1.8->geopandas) (57.4.0)\n",
            "Requirement already satisfied: click-plugins>=1.0 in /usr/local/lib/python3.7/dist-packages (from fiona>=1.8->geopandas) (1.1.1)\n",
            "Requirement already satisfied: munch in /usr/local/lib/python3.7/dist-packages (from fiona>=1.8->geopandas) (2.5.0)\n",
            "Requirement already satisfied: cligj>=0.5 in /usr/local/lib/python3.7/dist-packages (from fiona>=1.8->geopandas) (0.7.2)\n",
            "Requirement already satisfied: certifi in /usr/local/lib/python3.7/dist-packages (from fiona>=1.8->geopandas) (2022.6.15)\n",
            "Requirement already satisfied: python-dateutil>=2.7.3 in /usr/local/lib/python3.7/dist-packages (from pandas>=0.25.0->geopandas) (2.8.2)\n",
            "Requirement already satisfied: numpy>=1.17.3 in /usr/local/lib/python3.7/dist-packages (from pandas>=0.25.0->geopandas) (1.21.6)\n",
            "Requirement already satisfied: pytz>=2017.3 in /usr/local/lib/python3.7/dist-packages (from pandas>=0.25.0->geopandas) (2022.2.1)\n"
          ]
        }
      ],
      "source": [
        "      !pip install geopandas"
      ]
    },
    {
      "cell_type": "code",
      "execution_count": 173,
      "metadata": {
        "colab": {
          "base_uri": "https://localhost:8080/"
        },
        "id": "i8nC6_ehzGwP",
        "outputId": "d3fa6404-e928-453e-e1b9-a88249a0a59f"
      },
      "outputs": [
        {
          "output_type": "stream",
          "name": "stdout",
          "text": [
            "Looking in indexes: https://pypi.org/simple, https://us-python.pkg.dev/colab-wheels/public/simple/\n",
            "Requirement already satisfied: pygeos==0.13.0 in /usr/local/lib/python3.7/dist-packages (0.13)\n",
            "Requirement already satisfied: numpy>=1.13 in /usr/local/lib/python3.7/dist-packages (from pygeos==0.13.0) (1.21.6)\n",
            "Looking in indexes: https://pypi.org/simple, https://us-python.pkg.dev/colab-wheels/public/simple/\n",
            "Requirement already satisfied: contextily in /usr/local/lib/python3.7/dist-packages (1.2.0)\n",
            "Requirement already satisfied: pillow in /usr/local/lib/python3.7/dist-packages (from contextily) (7.1.2)\n",
            "Requirement already satisfied: requests in /usr/local/lib/python3.7/dist-packages (from contextily) (2.23.0)\n",
            "Requirement already satisfied: matplotlib in /usr/local/lib/python3.7/dist-packages (from contextily) (3.2.2)\n",
            "Requirement already satisfied: xyzservices in /usr/local/lib/python3.7/dist-packages (from contextily) (2022.9.0)\n",
            "Requirement already satisfied: mercantile in /usr/local/lib/python3.7/dist-packages (from contextily) (1.2.1)\n",
            "Requirement already satisfied: joblib in /usr/local/lib/python3.7/dist-packages (from contextily) (1.1.0)\n",
            "Requirement already satisfied: geopy in /usr/local/lib/python3.7/dist-packages (from contextily) (1.17.0)\n",
            "Requirement already satisfied: rasterio in /usr/local/lib/python3.7/dist-packages (from contextily) (1.2.10)\n",
            "Requirement already satisfied: geographiclib<2,>=1.49 in /usr/local/lib/python3.7/dist-packages (from geopy->contextily) (1.52)\n",
            "Requirement already satisfied: numpy>=1.11 in /usr/local/lib/python3.7/dist-packages (from matplotlib->contextily) (1.21.6)\n",
            "Requirement already satisfied: cycler>=0.10 in /usr/local/lib/python3.7/dist-packages (from matplotlib->contextily) (0.11.0)\n",
            "Requirement already satisfied: pyparsing!=2.0.4,!=2.1.2,!=2.1.6,>=2.0.1 in /usr/local/lib/python3.7/dist-packages (from matplotlib->contextily) (3.0.9)\n",
            "Requirement already satisfied: kiwisolver>=1.0.1 in /usr/local/lib/python3.7/dist-packages (from matplotlib->contextily) (1.4.4)\n",
            "Requirement already satisfied: python-dateutil>=2.1 in /usr/local/lib/python3.7/dist-packages (from matplotlib->contextily) (2.8.2)\n",
            "Requirement already satisfied: typing-extensions in /usr/local/lib/python3.7/dist-packages (from kiwisolver>=1.0.1->matplotlib->contextily) (4.1.1)\n",
            "Requirement already satisfied: six>=1.5 in /usr/local/lib/python3.7/dist-packages (from python-dateutil>=2.1->matplotlib->contextily) (1.15.0)\n",
            "Requirement already satisfied: click>=3.0 in /usr/local/lib/python3.7/dist-packages (from mercantile->contextily) (7.1.2)\n",
            "Requirement already satisfied: snuggs>=1.4.1 in /usr/local/lib/python3.7/dist-packages (from rasterio->contextily) (1.4.7)\n",
            "Requirement already satisfied: affine in /usr/local/lib/python3.7/dist-packages (from rasterio->contextily) (2.3.1)\n",
            "Requirement already satisfied: certifi in /usr/local/lib/python3.7/dist-packages (from rasterio->contextily) (2022.6.15)\n",
            "Requirement already satisfied: setuptools in /usr/local/lib/python3.7/dist-packages (from rasterio->contextily) (57.4.0)\n",
            "Requirement already satisfied: click-plugins in /usr/local/lib/python3.7/dist-packages (from rasterio->contextily) (1.1.1)\n",
            "Requirement already satisfied: cligj>=0.5 in /usr/local/lib/python3.7/dist-packages (from rasterio->contextily) (0.7.2)\n",
            "Requirement already satisfied: attrs in /usr/local/lib/python3.7/dist-packages (from rasterio->contextily) (22.1.0)\n",
            "Requirement already satisfied: urllib3!=1.25.0,!=1.25.1,<1.26,>=1.21.1 in /usr/local/lib/python3.7/dist-packages (from requests->contextily) (1.24.3)\n",
            "Requirement already satisfied: idna<3,>=2.5 in /usr/local/lib/python3.7/dist-packages (from requests->contextily) (2.10)\n",
            "Requirement already satisfied: chardet<4,>=3.0.2 in /usr/local/lib/python3.7/dist-packages (from requests->contextily) (3.0.4)\n"
          ]
        }
      ],
      "source": [
        "!pip install pygeos==0.13.0\n",
        "!pip install contextily"
      ]
    },
    {
      "cell_type": "code",
      "execution_count": 174,
      "metadata": {
        "id": "hJms3_cED14I"
      },
      "outputs": [],
      "source": [
        "# Import necessary modules first\n",
        "import plotly.express as px\n",
        "import folium\n",
        "import matplotlib.pyplot as plt\n",
        "from shapely import wkt\n",
        "from pyproj import CRS\n",
        "import pandas as pd \n",
        "import contextily as cx\n",
        "import pygeos\n",
        "import geopandas as gpd\n",
        "from shapely import wkt\n",
        "from shapely.geometry import Point, Polygon\n",
        "import fiona"
      ]
    },
    {
      "cell_type": "markdown",
      "metadata": {
        "id": "K0mDG5F-GzyQ"
      },
      "source": [
        "# Create a Pandas DataFrame"
      ]
    },
    {
      "cell_type": "code",
      "execution_count": 175,
      "metadata": {
        "colab": {
          "base_uri": "https://localhost:8080/",
          "height": 372
        },
        "id": "h_rPXgitG0UK",
        "outputId": "2b293409-9b2f-4f52-d309-b7b3e9519bf7"
      },
      "outputs": [
        {
          "output_type": "stream",
          "name": "stdout",
          "text": [
            "Optimized data has a datatype of: <class 'pandas.core.frame.DataFrame'>\n",
            "Its shape is; (90, 7)\n"
          ]
        },
        {
          "output_type": "execute_result",
          "data": {
            "text/plain": [
              "                               STATION_NO  STATION_LATITUDE  \\\n",
              "0  CM53010213-cbd2-4f6d-b3ca-48380c1a9182         50.890245   \n",
              "1  CM145cd21b-3329-4d9f-b44c-14da1a9824a2         51.146506   \n",
              "2  CM1f9fd786-9dcd-4a88-9fd7-14ebf61ad0b2         50.794966   \n",
              "3  CMae692cd6-fefe-4e1b-8777-25a90d8017fa         51.112963   \n",
              "4  CM17f5cc28-e241-4bef-9afb-4b1fdbe2deba         51.336560   \n",
              "\n",
              "   STATION_LONGITUDE OBJECT_TYPE OBJECT_TYPE_SHORTNAME  \\\n",
              "0           0.557153   Catchment                    CM   \n",
              "1          -0.004037   Catchment                    CM   \n",
              "2          -1.023181   Catchment                    CM   \n",
              "3           0.183215   Catchment                    CM   \n",
              "4           1.369312   Catchment                    CM   \n",
              "\n",
              "                                    STATION_AREA_WKT             CREATIONTIME  \n",
              "0  POLYGON ((0.555378 50.88834,0.555892 50.889354...  2022-03-23 18:02:52.000  \n",
              "1  POLYGON ((-0.010209 51.147913,-0.003574 51.147...  2022-03-23 18:02:52.000  \n",
              "2  POLYGON ((-1.016756 50.792095,-1.017329 50.792...  2022-03-23 18:02:53.000  \n",
              "3  POLYGON ((0.186719 51.11561,0.18656 51.115525,...  2022-03-23 18:02:54.000  \n",
              "4  POLYGON ((1.381381 51.333004,1.38128 51.333037...  2022-03-23 18:02:54.000  "
            ],
            "text/html": [
              "\n",
              "  <div id=\"df-7bd8b38c-508c-4863-b8b3-9dfa981852c6\">\n",
              "    <div class=\"colab-df-container\">\n",
              "      <div>\n",
              "<style scoped>\n",
              "    .dataframe tbody tr th:only-of-type {\n",
              "        vertical-align: middle;\n",
              "    }\n",
              "\n",
              "    .dataframe tbody tr th {\n",
              "        vertical-align: top;\n",
              "    }\n",
              "\n",
              "    .dataframe thead th {\n",
              "        text-align: right;\n",
              "    }\n",
              "</style>\n",
              "<table border=\"1\" class=\"dataframe\">\n",
              "  <thead>\n",
              "    <tr style=\"text-align: right;\">\n",
              "      <th></th>\n",
              "      <th>STATION_NO</th>\n",
              "      <th>STATION_LATITUDE</th>\n",
              "      <th>STATION_LONGITUDE</th>\n",
              "      <th>OBJECT_TYPE</th>\n",
              "      <th>OBJECT_TYPE_SHORTNAME</th>\n",
              "      <th>STATION_AREA_WKT</th>\n",
              "      <th>CREATIONTIME</th>\n",
              "    </tr>\n",
              "  </thead>\n",
              "  <tbody>\n",
              "    <tr>\n",
              "      <th>0</th>\n",
              "      <td>CM53010213-cbd2-4f6d-b3ca-48380c1a9182</td>\n",
              "      <td>50.890245</td>\n",
              "      <td>0.557153</td>\n",
              "      <td>Catchment</td>\n",
              "      <td>CM</td>\n",
              "      <td>POLYGON ((0.555378 50.88834,0.555892 50.889354...</td>\n",
              "      <td>2022-03-23 18:02:52.000</td>\n",
              "    </tr>\n",
              "    <tr>\n",
              "      <th>1</th>\n",
              "      <td>CM145cd21b-3329-4d9f-b44c-14da1a9824a2</td>\n",
              "      <td>51.146506</td>\n",
              "      <td>-0.004037</td>\n",
              "      <td>Catchment</td>\n",
              "      <td>CM</td>\n",
              "      <td>POLYGON ((-0.010209 51.147913,-0.003574 51.147...</td>\n",
              "      <td>2022-03-23 18:02:52.000</td>\n",
              "    </tr>\n",
              "    <tr>\n",
              "      <th>2</th>\n",
              "      <td>CM1f9fd786-9dcd-4a88-9fd7-14ebf61ad0b2</td>\n",
              "      <td>50.794966</td>\n",
              "      <td>-1.023181</td>\n",
              "      <td>Catchment</td>\n",
              "      <td>CM</td>\n",
              "      <td>POLYGON ((-1.016756 50.792095,-1.017329 50.792...</td>\n",
              "      <td>2022-03-23 18:02:53.000</td>\n",
              "    </tr>\n",
              "    <tr>\n",
              "      <th>3</th>\n",
              "      <td>CMae692cd6-fefe-4e1b-8777-25a90d8017fa</td>\n",
              "      <td>51.112963</td>\n",
              "      <td>0.183215</td>\n",
              "      <td>Catchment</td>\n",
              "      <td>CM</td>\n",
              "      <td>POLYGON ((0.186719 51.11561,0.18656 51.115525,...</td>\n",
              "      <td>2022-03-23 18:02:54.000</td>\n",
              "    </tr>\n",
              "    <tr>\n",
              "      <th>4</th>\n",
              "      <td>CM17f5cc28-e241-4bef-9afb-4b1fdbe2deba</td>\n",
              "      <td>51.336560</td>\n",
              "      <td>1.369312</td>\n",
              "      <td>Catchment</td>\n",
              "      <td>CM</td>\n",
              "      <td>POLYGON ((1.381381 51.333004,1.38128 51.333037...</td>\n",
              "      <td>2022-03-23 18:02:54.000</td>\n",
              "    </tr>\n",
              "  </tbody>\n",
              "</table>\n",
              "</div>\n",
              "      <button class=\"colab-df-convert\" onclick=\"convertToInteractive('df-7bd8b38c-508c-4863-b8b3-9dfa981852c6')\"\n",
              "              title=\"Convert this dataframe to an interactive table.\"\n",
              "              style=\"display:none;\">\n",
              "        \n",
              "  <svg xmlns=\"http://www.w3.org/2000/svg\" height=\"24px\"viewBox=\"0 0 24 24\"\n",
              "       width=\"24px\">\n",
              "    <path d=\"M0 0h24v24H0V0z\" fill=\"none\"/>\n",
              "    <path d=\"M18.56 5.44l.94 2.06.94-2.06 2.06-.94-2.06-.94-.94-2.06-.94 2.06-2.06.94zm-11 1L8.5 8.5l.94-2.06 2.06-.94-2.06-.94L8.5 2.5l-.94 2.06-2.06.94zm10 10l.94 2.06.94-2.06 2.06-.94-2.06-.94-.94-2.06-.94 2.06-2.06.94z\"/><path d=\"M17.41 7.96l-1.37-1.37c-.4-.4-.92-.59-1.43-.59-.52 0-1.04.2-1.43.59L10.3 9.45l-7.72 7.72c-.78.78-.78 2.05 0 2.83L4 21.41c.39.39.9.59 1.41.59.51 0 1.02-.2 1.41-.59l7.78-7.78 2.81-2.81c.8-.78.8-2.07 0-2.86zM5.41 20L4 18.59l7.72-7.72 1.47 1.35L5.41 20z\"/>\n",
              "  </svg>\n",
              "      </button>\n",
              "      \n",
              "  <style>\n",
              "    .colab-df-container {\n",
              "      display:flex;\n",
              "      flex-wrap:wrap;\n",
              "      gap: 12px;\n",
              "    }\n",
              "\n",
              "    .colab-df-convert {\n",
              "      background-color: #E8F0FE;\n",
              "      border: none;\n",
              "      border-radius: 50%;\n",
              "      cursor: pointer;\n",
              "      display: none;\n",
              "      fill: #1967D2;\n",
              "      height: 32px;\n",
              "      padding: 0 0 0 0;\n",
              "      width: 32px;\n",
              "    }\n",
              "\n",
              "    .colab-df-convert:hover {\n",
              "      background-color: #E2EBFA;\n",
              "      box-shadow: 0px 1px 2px rgba(60, 64, 67, 0.3), 0px 1px 3px 1px rgba(60, 64, 67, 0.15);\n",
              "      fill: #174EA6;\n",
              "    }\n",
              "\n",
              "    [theme=dark] .colab-df-convert {\n",
              "      background-color: #3B4455;\n",
              "      fill: #D2E3FC;\n",
              "    }\n",
              "\n",
              "    [theme=dark] .colab-df-convert:hover {\n",
              "      background-color: #434B5C;\n",
              "      box-shadow: 0px 1px 3px 1px rgba(0, 0, 0, 0.15);\n",
              "      filter: drop-shadow(0px 1px 2px rgba(0, 0, 0, 0.3));\n",
              "      fill: #FFFFFF;\n",
              "    }\n",
              "  </style>\n",
              "\n",
              "      <script>\n",
              "        const buttonEl =\n",
              "          document.querySelector('#df-7bd8b38c-508c-4863-b8b3-9dfa981852c6 button.colab-df-convert');\n",
              "        buttonEl.style.display =\n",
              "          google.colab.kernel.accessAllowed ? 'block' : 'none';\n",
              "\n",
              "        async function convertToInteractive(key) {\n",
              "          const element = document.querySelector('#df-7bd8b38c-508c-4863-b8b3-9dfa981852c6');\n",
              "          const dataTable =\n",
              "            await google.colab.kernel.invokeFunction('convertToInteractive',\n",
              "                                                     [key], {});\n",
              "          if (!dataTable) return;\n",
              "\n",
              "          const docLinkHtml = 'Like what you see? Visit the ' +\n",
              "            '<a target=\"_blank\" href=https://colab.research.google.com/notebooks/data_table.ipynb>data table notebook</a>'\n",
              "            + ' to learn more about interactive tables.';\n",
              "          element.innerHTML = '';\n",
              "          dataTable['output_type'] = 'display_data';\n",
              "          await google.colab.output.renderOutput(dataTable, element);\n",
              "          const docLink = document.createElement('div');\n",
              "          docLink.innerHTML = docLinkHtml;\n",
              "          element.appendChild(docLink);\n",
              "        }\n",
              "      </script>\n",
              "    </div>\n",
              "  </div>\n",
              "  "
            ]
          },
          "metadata": {},
          "execution_count": 175
        }
      ],
      "source": [
        "pd.set_option('display.max_rows', None)\n",
        "pd.set_option('max_columns', None)\n",
        "\n",
        "optimized = pd.read_csv('Optimised_rainfall_objects_202209.csv')\n",
        "print('Optimized data has a datatype of:', type(optimized))\n",
        "print('Its shape is;',optimized.shape)\n",
        "optimized.head()"
      ]
    },
    {
      "cell_type": "markdown",
      "source": [
        "## Optimized Rainfall Data"
      ],
      "metadata": {
        "id": "Ae9cc7uZVZtB"
      }
    },
    {
      "cell_type": "code",
      "execution_count": 176,
      "metadata": {
        "colab": {
          "base_uri": "https://localhost:8080/"
        },
        "id": "He4cjrMgGuoX",
        "outputId": "7be20a75-2ddd-4835-9c39-93c6d7aad3d8"
      },
      "outputs": [
        {
          "output_type": "stream",
          "name": "stdout",
          "text": [
            "<class 'pandas.core.frame.DataFrame'>\n",
            "RangeIndex: 90 entries, 0 to 89\n",
            "Data columns (total 7 columns):\n",
            " #   Column                 Non-Null Count  Dtype  \n",
            "---  ------                 --------------  -----  \n",
            " 0   STATION_NO             90 non-null     object \n",
            " 1   STATION_LATITUDE       90 non-null     float64\n",
            " 2   STATION_LONGITUDE      90 non-null     float64\n",
            " 3   OBJECT_TYPE            90 non-null     object \n",
            " 4   OBJECT_TYPE_SHORTNAME  90 non-null     object \n",
            " 5   STATION_AREA_WKT       90 non-null     object \n",
            " 6   CREATIONTIME           90 non-null     object \n",
            "dtypes: float64(2), object(5)\n",
            "memory usage: 5.0+ KB\n"
          ]
        }
      ],
      "source": [
        "optimized.info()"
      ]
    },
    {
      "cell_type": "markdown",
      "source": [
        "## Non-optimized Rainfall Data"
      ],
      "metadata": {
        "id": "AMaf9x5QVjBW"
      }
    },
    {
      "cell_type": "code",
      "execution_count": 177,
      "metadata": {
        "colab": {
          "base_uri": "https://localhost:8080/",
          "height": 241
        },
        "id": "IlCoailYHQbE",
        "outputId": "f2f43f66-0345-4273-9241-86e0c02a9d85"
      },
      "outputs": [
        {
          "output_type": "stream",
          "name": "stdout",
          "text": [
            "Non-ptimized data has a datatype of: <class 'pandas.core.frame.DataFrame'>\n",
            "Its shape is; (597, 7)\n"
          ]
        },
        {
          "output_type": "execute_result",
          "data": {
            "text/plain": [
              "                               STATION_NO  STATION_LATITUDE  \\\n",
              "0  HSadee6548-d797-49a3-a2a0-b7e8348f0b27         51.130919   \n",
              "1  HSfd30138a-5a83-450a-81d3-7d1335d69c09         50.846194   \n",
              "2  HSefb5e85c-71f8-42a4-b529-44cdd306486d         50.839552   \n",
              "3  HS9037443f-c430-4468-86b8-8c2c0362e1c6         51.416060   \n",
              "4  HS27e9d11e-c6ce-4e8f-ba3a-aac71fd09ff3         50.824115   \n",
              "\n",
              "   STATION_LONGITUDE OBJECT_TYPE OBJECT_TYPE_SHORTNAME STATION_AREA_WKT  \\\n",
              "0           1.317469     Hotspot                    HS              NaN   \n",
              "1          -1.055814     Hotspot                    HS              NaN   \n",
              "2          -1.044914     Hotspot                    HS              NaN   \n",
              "3           0.752698     Hotspot                    HS              NaN   \n",
              "4          -0.426342     Hotspot                    HS              NaN   \n",
              "\n",
              "              CREATIONTIME  \n",
              "0  2019-05-23 10:22:57.000  \n",
              "1  2019-05-20 11:42:16.000  \n",
              "2  2019-05-20 12:12:35.000  \n",
              "3  2019-05-23 14:28:36.000  \n",
              "4  2018-04-10 12:31:01.000  "
            ],
            "text/html": [
              "\n",
              "  <div id=\"df-1a3e047d-088f-40fd-bd4c-9d97dc8390c7\">\n",
              "    <div class=\"colab-df-container\">\n",
              "      <div>\n",
              "<style scoped>\n",
              "    .dataframe tbody tr th:only-of-type {\n",
              "        vertical-align: middle;\n",
              "    }\n",
              "\n",
              "    .dataframe tbody tr th {\n",
              "        vertical-align: top;\n",
              "    }\n",
              "\n",
              "    .dataframe thead th {\n",
              "        text-align: right;\n",
              "    }\n",
              "</style>\n",
              "<table border=\"1\" class=\"dataframe\">\n",
              "  <thead>\n",
              "    <tr style=\"text-align: right;\">\n",
              "      <th></th>\n",
              "      <th>STATION_NO</th>\n",
              "      <th>STATION_LATITUDE</th>\n",
              "      <th>STATION_LONGITUDE</th>\n",
              "      <th>OBJECT_TYPE</th>\n",
              "      <th>OBJECT_TYPE_SHORTNAME</th>\n",
              "      <th>STATION_AREA_WKT</th>\n",
              "      <th>CREATIONTIME</th>\n",
              "    </tr>\n",
              "  </thead>\n",
              "  <tbody>\n",
              "    <tr>\n",
              "      <th>0</th>\n",
              "      <td>HSadee6548-d797-49a3-a2a0-b7e8348f0b27</td>\n",
              "      <td>51.130919</td>\n",
              "      <td>1.317469</td>\n",
              "      <td>Hotspot</td>\n",
              "      <td>HS</td>\n",
              "      <td>NaN</td>\n",
              "      <td>2019-05-23 10:22:57.000</td>\n",
              "    </tr>\n",
              "    <tr>\n",
              "      <th>1</th>\n",
              "      <td>HSfd30138a-5a83-450a-81d3-7d1335d69c09</td>\n",
              "      <td>50.846194</td>\n",
              "      <td>-1.055814</td>\n",
              "      <td>Hotspot</td>\n",
              "      <td>HS</td>\n",
              "      <td>NaN</td>\n",
              "      <td>2019-05-20 11:42:16.000</td>\n",
              "    </tr>\n",
              "    <tr>\n",
              "      <th>2</th>\n",
              "      <td>HSefb5e85c-71f8-42a4-b529-44cdd306486d</td>\n",
              "      <td>50.839552</td>\n",
              "      <td>-1.044914</td>\n",
              "      <td>Hotspot</td>\n",
              "      <td>HS</td>\n",
              "      <td>NaN</td>\n",
              "      <td>2019-05-20 12:12:35.000</td>\n",
              "    </tr>\n",
              "    <tr>\n",
              "      <th>3</th>\n",
              "      <td>HS9037443f-c430-4468-86b8-8c2c0362e1c6</td>\n",
              "      <td>51.416060</td>\n",
              "      <td>0.752698</td>\n",
              "      <td>Hotspot</td>\n",
              "      <td>HS</td>\n",
              "      <td>NaN</td>\n",
              "      <td>2019-05-23 14:28:36.000</td>\n",
              "    </tr>\n",
              "    <tr>\n",
              "      <th>4</th>\n",
              "      <td>HS27e9d11e-c6ce-4e8f-ba3a-aac71fd09ff3</td>\n",
              "      <td>50.824115</td>\n",
              "      <td>-0.426342</td>\n",
              "      <td>Hotspot</td>\n",
              "      <td>HS</td>\n",
              "      <td>NaN</td>\n",
              "      <td>2018-04-10 12:31:01.000</td>\n",
              "    </tr>\n",
              "  </tbody>\n",
              "</table>\n",
              "</div>\n",
              "      <button class=\"colab-df-convert\" onclick=\"convertToInteractive('df-1a3e047d-088f-40fd-bd4c-9d97dc8390c7')\"\n",
              "              title=\"Convert this dataframe to an interactive table.\"\n",
              "              style=\"display:none;\">\n",
              "        \n",
              "  <svg xmlns=\"http://www.w3.org/2000/svg\" height=\"24px\"viewBox=\"0 0 24 24\"\n",
              "       width=\"24px\">\n",
              "    <path d=\"M0 0h24v24H0V0z\" fill=\"none\"/>\n",
              "    <path d=\"M18.56 5.44l.94 2.06.94-2.06 2.06-.94-2.06-.94-.94-2.06-.94 2.06-2.06.94zm-11 1L8.5 8.5l.94-2.06 2.06-.94-2.06-.94L8.5 2.5l-.94 2.06-2.06.94zm10 10l.94 2.06.94-2.06 2.06-.94-2.06-.94-.94-2.06-.94 2.06-2.06.94z\"/><path d=\"M17.41 7.96l-1.37-1.37c-.4-.4-.92-.59-1.43-.59-.52 0-1.04.2-1.43.59L10.3 9.45l-7.72 7.72c-.78.78-.78 2.05 0 2.83L4 21.41c.39.39.9.59 1.41.59.51 0 1.02-.2 1.41-.59l7.78-7.78 2.81-2.81c.8-.78.8-2.07 0-2.86zM5.41 20L4 18.59l7.72-7.72 1.47 1.35L5.41 20z\"/>\n",
              "  </svg>\n",
              "      </button>\n",
              "      \n",
              "  <style>\n",
              "    .colab-df-container {\n",
              "      display:flex;\n",
              "      flex-wrap:wrap;\n",
              "      gap: 12px;\n",
              "    }\n",
              "\n",
              "    .colab-df-convert {\n",
              "      background-color: #E8F0FE;\n",
              "      border: none;\n",
              "      border-radius: 50%;\n",
              "      cursor: pointer;\n",
              "      display: none;\n",
              "      fill: #1967D2;\n",
              "      height: 32px;\n",
              "      padding: 0 0 0 0;\n",
              "      width: 32px;\n",
              "    }\n",
              "\n",
              "    .colab-df-convert:hover {\n",
              "      background-color: #E2EBFA;\n",
              "      box-shadow: 0px 1px 2px rgba(60, 64, 67, 0.3), 0px 1px 3px 1px rgba(60, 64, 67, 0.15);\n",
              "      fill: #174EA6;\n",
              "    }\n",
              "\n",
              "    [theme=dark] .colab-df-convert {\n",
              "      background-color: #3B4455;\n",
              "      fill: #D2E3FC;\n",
              "    }\n",
              "\n",
              "    [theme=dark] .colab-df-convert:hover {\n",
              "      background-color: #434B5C;\n",
              "      box-shadow: 0px 1px 3px 1px rgba(0, 0, 0, 0.15);\n",
              "      filter: drop-shadow(0px 1px 2px rgba(0, 0, 0, 0.3));\n",
              "      fill: #FFFFFF;\n",
              "    }\n",
              "  </style>\n",
              "\n",
              "      <script>\n",
              "        const buttonEl =\n",
              "          document.querySelector('#df-1a3e047d-088f-40fd-bd4c-9d97dc8390c7 button.colab-df-convert');\n",
              "        buttonEl.style.display =\n",
              "          google.colab.kernel.accessAllowed ? 'block' : 'none';\n",
              "\n",
              "        async function convertToInteractive(key) {\n",
              "          const element = document.querySelector('#df-1a3e047d-088f-40fd-bd4c-9d97dc8390c7');\n",
              "          const dataTable =\n",
              "            await google.colab.kernel.invokeFunction('convertToInteractive',\n",
              "                                                     [key], {});\n",
              "          if (!dataTable) return;\n",
              "\n",
              "          const docLinkHtml = 'Like what you see? Visit the ' +\n",
              "            '<a target=\"_blank\" href=https://colab.research.google.com/notebooks/data_table.ipynb>data table notebook</a>'\n",
              "            + ' to learn more about interactive tables.';\n",
              "          element.innerHTML = '';\n",
              "          dataTable['output_type'] = 'display_data';\n",
              "          await google.colab.output.renderOutput(dataTable, element);\n",
              "          const docLink = document.createElement('div');\n",
              "          docLink.innerHTML = docLinkHtml;\n",
              "          element.appendChild(docLink);\n",
              "        }\n",
              "      </script>\n",
              "    </div>\n",
              "  </div>\n",
              "  "
            ]
          },
          "metadata": {},
          "execution_count": 177
        }
      ],
      "source": [
        "non_optimized = pd.read_csv('Non-optimised_rainfall_objects_202209.csv')\n",
        "print('Non-ptimized data has a datatype of:', type(non_optimized))\n",
        "print('Its shape is;',non_optimized.shape)\n",
        "\n",
        "non_optimized.head()"
      ]
    },
    {
      "cell_type": "code",
      "execution_count": 178,
      "metadata": {
        "colab": {
          "base_uri": "https://localhost:8080/"
        },
        "id": "hUQSMPK5HXIj",
        "outputId": "ba642dc3-9286-4db3-bdb0-197df88e5225"
      },
      "outputs": [
        {
          "output_type": "stream",
          "name": "stdout",
          "text": [
            "<class 'pandas.core.frame.DataFrame'>\n",
            "RangeIndex: 597 entries, 0 to 596\n",
            "Data columns (total 7 columns):\n",
            " #   Column                 Non-Null Count  Dtype  \n",
            "---  ------                 --------------  -----  \n",
            " 0   STATION_NO             597 non-null    object \n",
            " 1   STATION_LATITUDE       597 non-null    float64\n",
            " 2   STATION_LONGITUDE      597 non-null    float64\n",
            " 3   OBJECT_TYPE            597 non-null    object \n",
            " 4   OBJECT_TYPE_SHORTNAME  597 non-null    object \n",
            " 5   STATION_AREA_WKT       56 non-null     object \n",
            " 6   CREATIONTIME           597 non-null    object \n",
            "dtypes: float64(2), object(5)\n",
            "memory usage: 32.8+ KB\n"
          ]
        }
      ],
      "source": [
        "non_optimized.info()"
      ]
    },
    {
      "cell_type": "code",
      "execution_count": 179,
      "metadata": {
        "colab": {
          "base_uri": "https://localhost:8080/"
        },
        "id": "xwjY2o6eHb10",
        "outputId": "1f3d9996-ed79-40e8-ba85-b60b6478eb30"
      },
      "outputs": [
        {
          "output_type": "execute_result",
          "data": {
            "text/plain": [
              "STATION_NO                 0\n",
              "STATION_LATITUDE           0\n",
              "STATION_LONGITUDE          0\n",
              "OBJECT_TYPE                0\n",
              "OBJECT_TYPE_SHORTNAME      0\n",
              "STATION_AREA_WKT         541\n",
              "CREATIONTIME               0\n",
              "dtype: int64"
            ]
          },
          "metadata": {},
          "execution_count": 179
        }
      ],
      "source": [
        "non_optimized.isna().sum()"
      ]
    },
    {
      "cell_type": "code",
      "execution_count": 180,
      "metadata": {
        "colab": {
          "base_uri": "https://localhost:8080/"
        },
        "id": "k1f0USn_HiH5",
        "outputId": "765c4930-f487-4078-d1b9-217976c52574"
      },
      "outputs": [
        {
          "output_type": "execute_result",
          "data": {
            "text/plain": [
              "Hotspot             541\n",
              "Catchment            49\n",
              "Zone of interest      7\n",
              "Name: OBJECT_TYPE, dtype: int64"
            ]
          },
          "metadata": {},
          "execution_count": 180
        }
      ],
      "source": [
        "non_optimized['OBJECT_TYPE'].value_counts()"
      ]
    },
    {
      "cell_type": "markdown",
      "source": [
        "## The Geographic positions of Object-types using Pandas plotly"
      ],
      "metadata": {
        "id": "m-62r47uWWpr"
      }
    },
    {
      "cell_type": "code",
      "execution_count": 181,
      "metadata": {
        "colab": {
          "base_uri": "https://localhost:8080/",
          "height": 1000
        },
        "id": "6NqdxTOWCgOT",
        "outputId": "5cdfa1b6-7ecd-470b-fdb5-7851175d7bbb"
      },
      "outputs": [
        {
          "output_type": "display_data",
          "data": {
            "text/html": [
              "<html>\n",
              "<head><meta charset=\"utf-8\" /></head>\n",
              "<body>\n",
              "    <div>            <script src=\"https://cdnjs.cloudflare.com/ajax/libs/mathjax/2.7.5/MathJax.js?config=TeX-AMS-MML_SVG\"></script><script type=\"text/javascript\">if (window.MathJax) {MathJax.Hub.Config({SVG: {font: \"STIX-Web\"}});}</script>                <script type=\"text/javascript\">window.PlotlyConfig = {MathJaxConfig: 'local'};</script>\n",
              "        <script src=\"https://cdn.plot.ly/plotly-2.8.3.min.js\"></script>                <div id=\"3bdf3ca4-2d82-4609-91b1-646aba2d6987\" class=\"plotly-graph-div\" style=\"height:525px; width:100%;\"></div>            <script type=\"text/javascript\">                                    window.PLOTLYENV=window.PLOTLYENV || {};                                    if (document.getElementById(\"3bdf3ca4-2d82-4609-91b1-646aba2d6987\")) {                    Plotly.newPlot(                        \"3bdf3ca4-2d82-4609-91b1-646aba2d6987\",                        [{\"hovertemplate\":\"OBJECT TYPE=Catchment<br>STATION_LATITUDE=%{lat}<br>STATION_LONGITUDE=%{lon}<extra></extra>\",\"lat\":[50.890245,51.146506,50.794966,51.112963,51.33656,50.966091,51.097994,51.190502,50.860208,51.055612,51.164364,50.809654,50.914653,50.900783,51.112683,50.645507,50.687267,51.364683,51.080985,51.444357,50.886905,50.931226,51.410263,51.338843,51.110293,51.157772,50.866093,50.955214,50.729125,51.401044,51.363134,50.802275,50.973275,51.067997,51.365207,51.101808,51.26195,51.332567,51.004804,51.17362,51.105122,50.934674,50.979633,51.224979,51.082548,51.018942,51.305695,50.932834,51.18468,50.818796,50.925991,51.22664,51.076512,51.328366,51.100146,51.161111,51.22664,50.993016,50.79138,51.194265,50.892004,51.105431,50.828444,50.876392,50.969982,51.305858,51.083983,51.162469,51.124492,51.282425,50.781136,50.980294,50.888648,50.818337,50.86712,50.879077,51.339195,51.221708,51.157502,51.321441,51.24439,50.790512,51.22719,51.076149,50.976877,51.005756,51.135568,50.870752,51.25919,50.862203],\"legendgroup\":\"Catchment\",\"lon\":[0.557153,-0.004037,-1.023181,0.183215,1.369312,0.101743,1.010923,-1.523924,-1.315635,0.445166,0.544588,-0.400505,-1.390038,-1.064544,-1.491849,-1.203233,-1.41837,0.444139,0.690168,0.368965,0.539139,-0.281636,0.499032,1.169729,-0.068839,0.266676,-1.402641,0.912476,-1.167573,0.538318,0.751969,-0.056772,0.003762,0.32842,0.742669,0.71429,0.568983,1.157238,-0.071771,-0.098155,1.052875,-0.28156,0.283839,0.432125,0.509608,0.272963,1.045163,-0.224522,0.313381,0.33384,-0.437775,0.33099,-0.055782,1.000423,-0.084356,0.813472,0.426003,-1.349978,-1.136406,-1.501845,-1.345129,0.140073,-0.274268,-1.347071,0.084106,0.451277,0.391828,0.871274,0.972537,0.279488,-0.946738,-1.446135,-1.447626,0.285591,-1.282318,0.599863,0.349396,-1.49909,-1.438589,1.168115,0.680758,0.018191,0.243767,0.355019,-1.301477,-0.080317,0.486408,-1.577233,0.558862,-1.431188],\"marker\":{\"color\":\"#636efa\"},\"mode\":\"markers\",\"name\":\"Catchment\",\"showlegend\":true,\"subplot\":\"mapbox\",\"type\":\"scattermapbox\"}],                        {\"template\":{\"data\":{\"bar\":[{\"error_x\":{\"color\":\"#2a3f5f\"},\"error_y\":{\"color\":\"#2a3f5f\"},\"marker\":{\"line\":{\"color\":\"#E5ECF6\",\"width\":0.5},\"pattern\":{\"fillmode\":\"overlay\",\"size\":10,\"solidity\":0.2}},\"type\":\"bar\"}],\"barpolar\":[{\"marker\":{\"line\":{\"color\":\"#E5ECF6\",\"width\":0.5},\"pattern\":{\"fillmode\":\"overlay\",\"size\":10,\"solidity\":0.2}},\"type\":\"barpolar\"}],\"carpet\":[{\"aaxis\":{\"endlinecolor\":\"#2a3f5f\",\"gridcolor\":\"white\",\"linecolor\":\"white\",\"minorgridcolor\":\"white\",\"startlinecolor\":\"#2a3f5f\"},\"baxis\":{\"endlinecolor\":\"#2a3f5f\",\"gridcolor\":\"white\",\"linecolor\":\"white\",\"minorgridcolor\":\"white\",\"startlinecolor\":\"#2a3f5f\"},\"type\":\"carpet\"}],\"choropleth\":[{\"colorbar\":{\"outlinewidth\":0,\"ticks\":\"\"},\"type\":\"choropleth\"}],\"contour\":[{\"colorbar\":{\"outlinewidth\":0,\"ticks\":\"\"},\"colorscale\":[[0.0,\"#0d0887\"],[0.1111111111111111,\"#46039f\"],[0.2222222222222222,\"#7201a8\"],[0.3333333333333333,\"#9c179e\"],[0.4444444444444444,\"#bd3786\"],[0.5555555555555556,\"#d8576b\"],[0.6666666666666666,\"#ed7953\"],[0.7777777777777778,\"#fb9f3a\"],[0.8888888888888888,\"#fdca26\"],[1.0,\"#f0f921\"]],\"type\":\"contour\"}],\"contourcarpet\":[{\"colorbar\":{\"outlinewidth\":0,\"ticks\":\"\"},\"type\":\"contourcarpet\"}],\"heatmap\":[{\"colorbar\":{\"outlinewidth\":0,\"ticks\":\"\"},\"colorscale\":[[0.0,\"#0d0887\"],[0.1111111111111111,\"#46039f\"],[0.2222222222222222,\"#7201a8\"],[0.3333333333333333,\"#9c179e\"],[0.4444444444444444,\"#bd3786\"],[0.5555555555555556,\"#d8576b\"],[0.6666666666666666,\"#ed7953\"],[0.7777777777777778,\"#fb9f3a\"],[0.8888888888888888,\"#fdca26\"],[1.0,\"#f0f921\"]],\"type\":\"heatmap\"}],\"heatmapgl\":[{\"colorbar\":{\"outlinewidth\":0,\"ticks\":\"\"},\"colorscale\":[[0.0,\"#0d0887\"],[0.1111111111111111,\"#46039f\"],[0.2222222222222222,\"#7201a8\"],[0.3333333333333333,\"#9c179e\"],[0.4444444444444444,\"#bd3786\"],[0.5555555555555556,\"#d8576b\"],[0.6666666666666666,\"#ed7953\"],[0.7777777777777778,\"#fb9f3a\"],[0.8888888888888888,\"#fdca26\"],[1.0,\"#f0f921\"]],\"type\":\"heatmapgl\"}],\"histogram\":[{\"marker\":{\"pattern\":{\"fillmode\":\"overlay\",\"size\":10,\"solidity\":0.2}},\"type\":\"histogram\"}],\"histogram2d\":[{\"colorbar\":{\"outlinewidth\":0,\"ticks\":\"\"},\"colorscale\":[[0.0,\"#0d0887\"],[0.1111111111111111,\"#46039f\"],[0.2222222222222222,\"#7201a8\"],[0.3333333333333333,\"#9c179e\"],[0.4444444444444444,\"#bd3786\"],[0.5555555555555556,\"#d8576b\"],[0.6666666666666666,\"#ed7953\"],[0.7777777777777778,\"#fb9f3a\"],[0.8888888888888888,\"#fdca26\"],[1.0,\"#f0f921\"]],\"type\":\"histogram2d\"}],\"histogram2dcontour\":[{\"colorbar\":{\"outlinewidth\":0,\"ticks\":\"\"},\"colorscale\":[[0.0,\"#0d0887\"],[0.1111111111111111,\"#46039f\"],[0.2222222222222222,\"#7201a8\"],[0.3333333333333333,\"#9c179e\"],[0.4444444444444444,\"#bd3786\"],[0.5555555555555556,\"#d8576b\"],[0.6666666666666666,\"#ed7953\"],[0.7777777777777778,\"#fb9f3a\"],[0.8888888888888888,\"#fdca26\"],[1.0,\"#f0f921\"]],\"type\":\"histogram2dcontour\"}],\"mesh3d\":[{\"colorbar\":{\"outlinewidth\":0,\"ticks\":\"\"},\"type\":\"mesh3d\"}],\"parcoords\":[{\"line\":{\"colorbar\":{\"outlinewidth\":0,\"ticks\":\"\"}},\"type\":\"parcoords\"}],\"pie\":[{\"automargin\":true,\"type\":\"pie\"}],\"scatter\":[{\"marker\":{\"colorbar\":{\"outlinewidth\":0,\"ticks\":\"\"}},\"type\":\"scatter\"}],\"scatter3d\":[{\"line\":{\"colorbar\":{\"outlinewidth\":0,\"ticks\":\"\"}},\"marker\":{\"colorbar\":{\"outlinewidth\":0,\"ticks\":\"\"}},\"type\":\"scatter3d\"}],\"scattercarpet\":[{\"marker\":{\"colorbar\":{\"outlinewidth\":0,\"ticks\":\"\"}},\"type\":\"scattercarpet\"}],\"scattergeo\":[{\"marker\":{\"colorbar\":{\"outlinewidth\":0,\"ticks\":\"\"}},\"type\":\"scattergeo\"}],\"scattergl\":[{\"marker\":{\"colorbar\":{\"outlinewidth\":0,\"ticks\":\"\"}},\"type\":\"scattergl\"}],\"scattermapbox\":[{\"marker\":{\"colorbar\":{\"outlinewidth\":0,\"ticks\":\"\"}},\"type\":\"scattermapbox\"}],\"scatterpolar\":[{\"marker\":{\"colorbar\":{\"outlinewidth\":0,\"ticks\":\"\"}},\"type\":\"scatterpolar\"}],\"scatterpolargl\":[{\"marker\":{\"colorbar\":{\"outlinewidth\":0,\"ticks\":\"\"}},\"type\":\"scatterpolargl\"}],\"scatterternary\":[{\"marker\":{\"colorbar\":{\"outlinewidth\":0,\"ticks\":\"\"}},\"type\":\"scatterternary\"}],\"surface\":[{\"colorbar\":{\"outlinewidth\":0,\"ticks\":\"\"},\"colorscale\":[[0.0,\"#0d0887\"],[0.1111111111111111,\"#46039f\"],[0.2222222222222222,\"#7201a8\"],[0.3333333333333333,\"#9c179e\"],[0.4444444444444444,\"#bd3786\"],[0.5555555555555556,\"#d8576b\"],[0.6666666666666666,\"#ed7953\"],[0.7777777777777778,\"#fb9f3a\"],[0.8888888888888888,\"#fdca26\"],[1.0,\"#f0f921\"]],\"type\":\"surface\"}],\"table\":[{\"cells\":{\"fill\":{\"color\":\"#EBF0F8\"},\"line\":{\"color\":\"white\"}},\"header\":{\"fill\":{\"color\":\"#C8D4E3\"},\"line\":{\"color\":\"white\"}},\"type\":\"table\"}]},\"layout\":{\"annotationdefaults\":{\"arrowcolor\":\"#2a3f5f\",\"arrowhead\":0,\"arrowwidth\":1},\"autotypenumbers\":\"strict\",\"coloraxis\":{\"colorbar\":{\"outlinewidth\":0,\"ticks\":\"\"}},\"colorscale\":{\"diverging\":[[0,\"#8e0152\"],[0.1,\"#c51b7d\"],[0.2,\"#de77ae\"],[0.3,\"#f1b6da\"],[0.4,\"#fde0ef\"],[0.5,\"#f7f7f7\"],[0.6,\"#e6f5d0\"],[0.7,\"#b8e186\"],[0.8,\"#7fbc41\"],[0.9,\"#4d9221\"],[1,\"#276419\"]],\"sequential\":[[0.0,\"#0d0887\"],[0.1111111111111111,\"#46039f\"],[0.2222222222222222,\"#7201a8\"],[0.3333333333333333,\"#9c179e\"],[0.4444444444444444,\"#bd3786\"],[0.5555555555555556,\"#d8576b\"],[0.6666666666666666,\"#ed7953\"],[0.7777777777777778,\"#fb9f3a\"],[0.8888888888888888,\"#fdca26\"],[1.0,\"#f0f921\"]],\"sequentialminus\":[[0.0,\"#0d0887\"],[0.1111111111111111,\"#46039f\"],[0.2222222222222222,\"#7201a8\"],[0.3333333333333333,\"#9c179e\"],[0.4444444444444444,\"#bd3786\"],[0.5555555555555556,\"#d8576b\"],[0.6666666666666666,\"#ed7953\"],[0.7777777777777778,\"#fb9f3a\"],[0.8888888888888888,\"#fdca26\"],[1.0,\"#f0f921\"]]},\"colorway\":[\"#636efa\",\"#EF553B\",\"#00cc96\",\"#ab63fa\",\"#FFA15A\",\"#19d3f3\",\"#FF6692\",\"#B6E880\",\"#FF97FF\",\"#FECB52\"],\"font\":{\"color\":\"#2a3f5f\"},\"geo\":{\"bgcolor\":\"white\",\"lakecolor\":\"white\",\"landcolor\":\"#E5ECF6\",\"showlakes\":true,\"showland\":true,\"subunitcolor\":\"white\"},\"hoverlabel\":{\"align\":\"left\"},\"hovermode\":\"closest\",\"mapbox\":{\"style\":\"light\"},\"paper_bgcolor\":\"white\",\"plot_bgcolor\":\"#E5ECF6\",\"polar\":{\"angularaxis\":{\"gridcolor\":\"white\",\"linecolor\":\"white\",\"ticks\":\"\"},\"bgcolor\":\"#E5ECF6\",\"radialaxis\":{\"gridcolor\":\"white\",\"linecolor\":\"white\",\"ticks\":\"\"}},\"scene\":{\"xaxis\":{\"backgroundcolor\":\"#E5ECF6\",\"gridcolor\":\"white\",\"gridwidth\":2,\"linecolor\":\"white\",\"showbackground\":true,\"ticks\":\"\",\"zerolinecolor\":\"white\"},\"yaxis\":{\"backgroundcolor\":\"#E5ECF6\",\"gridcolor\":\"white\",\"gridwidth\":2,\"linecolor\":\"white\",\"showbackground\":true,\"ticks\":\"\",\"zerolinecolor\":\"white\"},\"zaxis\":{\"backgroundcolor\":\"#E5ECF6\",\"gridcolor\":\"white\",\"gridwidth\":2,\"linecolor\":\"white\",\"showbackground\":true,\"ticks\":\"\",\"zerolinecolor\":\"white\"}},\"shapedefaults\":{\"line\":{\"color\":\"#2a3f5f\"}},\"ternary\":{\"aaxis\":{\"gridcolor\":\"white\",\"linecolor\":\"white\",\"ticks\":\"\"},\"baxis\":{\"gridcolor\":\"white\",\"linecolor\":\"white\",\"ticks\":\"\"},\"bgcolor\":\"#E5ECF6\",\"caxis\":{\"gridcolor\":\"white\",\"linecolor\":\"white\",\"ticks\":\"\"}},\"title\":{\"x\":0.05},\"xaxis\":{\"automargin\":true,\"gridcolor\":\"white\",\"linecolor\":\"white\",\"ticks\":\"\",\"title\":{\"standoff\":15},\"zerolinecolor\":\"white\",\"zerolinewidth\":2},\"yaxis\":{\"automargin\":true,\"gridcolor\":\"white\",\"linecolor\":\"white\",\"ticks\":\"\",\"title\":{\"standoff\":15},\"zerolinecolor\":\"white\",\"zerolinewidth\":2}}},\"mapbox\":{\"domain\":{\"x\":[0.0,1.0],\"y\":[0.0,1.0]},\"center\":{\"lat\":51.06396103333332,\"lon\":-0.06458664444444442},\"zoom\":8,\"style\":\"carto-positron\"},\"legend\":{\"title\":{\"text\":\"OBJECT TYPE\"},\"tracegroupgap\":0},\"title\":{\"text\":\"Distribution of Optimized Object Types\"}},                        {\"responsive\": true}                    ).then(function(){\n",
              "                            \n",
              "var gd = document.getElementById('3bdf3ca4-2d82-4609-91b1-646aba2d6987');\n",
              "var x = new MutationObserver(function (mutations, observer) {{\n",
              "        var display = window.getComputedStyle(gd).display;\n",
              "        if (!display || display === 'none') {{\n",
              "            console.log([gd, 'removed!']);\n",
              "            Plotly.purge(gd);\n",
              "            observer.disconnect();\n",
              "        }}\n",
              "}});\n",
              "\n",
              "// Listen for the removal of the full notebook cells\n",
              "var notebookContainer = gd.closest('#notebook-container');\n",
              "if (notebookContainer) {{\n",
              "    x.observe(notebookContainer, {childList: true});\n",
              "}}\n",
              "\n",
              "// Listen for the clearing of the current output cell\n",
              "var outputEl = gd.closest('.output');\n",
              "if (outputEl) {{\n",
              "    x.observe(outputEl, {childList: true});\n",
              "}}\n",
              "\n",
              "                        })                };                            </script>        </div>\n",
              "</body>\n",
              "</html>"
            ]
          },
          "metadata": {}
        },
        {
          "output_type": "display_data",
          "data": {
            "text/html": [
              "<html>\n",
              "<head><meta charset=\"utf-8\" /></head>\n",
              "<body>\n",
              "    <div>            <script src=\"https://cdnjs.cloudflare.com/ajax/libs/mathjax/2.7.5/MathJax.js?config=TeX-AMS-MML_SVG\"></script><script type=\"text/javascript\">if (window.MathJax) {MathJax.Hub.Config({SVG: {font: \"STIX-Web\"}});}</script>                <script type=\"text/javascript\">window.PlotlyConfig = {MathJaxConfig: 'local'};</script>\n",
              "        <script src=\"https://cdn.plot.ly/plotly-2.8.3.min.js\"></script>                <div id=\"5c49ec81-4dff-4c20-ba11-eec1fc99a24b\" class=\"plotly-graph-div\" style=\"height:525px; width:100%;\"></div>            <script type=\"text/javascript\">                                    window.PLOTLYENV=window.PLOTLYENV || {};                                    if (document.getElementById(\"5c49ec81-4dff-4c20-ba11-eec1fc99a24b\")) {                    Plotly.newPlot(                        \"5c49ec81-4dff-4c20-ba11-eec1fc99a24b\",                        [{\"hovertemplate\":\"OBJECT TYPE=Hotspot<br>STATION_LATITUDE=%{lat}<br>STATION_LONGITUDE=%{lon}<extra></extra>\",\"lat\":[51.130919,50.846194,50.839552,51.41606,50.824115,51.367059,51.367042,51.280053,51.085664,51.086054,51.086936,51.086896,51.324886,50.789043,51.141499,50.74148,50.835344,50.868375,50.852118,51.251759,50.859547,50.859547,50.859547,51.394883,51.394741,50.855883,50.856981,50.858759,50.856801,51.262341,51.260586,51.258862,51.250314,51.262341,50.8097,50.856162,50.850255,50.828459,51.0725,50.844663,50.844481,51.357878,51.357878,50.7626,50.734274,51.3723,50.985988,50.811548,50.991728,50.991728,50.991728,50.991548,51.396286,51.244381,51.336268,51.335453,51.377458,51.377458,50.8759,50.646444,51.369667,51.369667,51.369667,51.370518,51.367091,51.368021,51.367091,50.915259,50.802911,51.251447,50.984954,50.787601,50.863191,51.072746,51.34,50.935735,50.936042,51.030245,50.876049,50.876681,50.881976,51.180002,51.180002,51.176248,51.17612,50.681227,51.333363,51.333363,51.333363,51.333363,51.332465,50.857264,50.857617,51.338151,51.338151,50.917547,50.855935,50.856205,50.7974,50.640774,51.3458,50.94228,50.948617,50.949444,50.949462,50.949515,50.945689,50.946493,50.95037,51.417287,51.417287,51.3935,51.3871,50.85095,51.376221,50.794278,51.300345,50.909967,51.36213,51.36213,50.865049,50.865049,50.865796,50.864754,50.865796,50.864889,50.58804,50.58804,50.829464,50.829424,50.829639,51.398283,51.397385,51.396487,51.397385,51.417287,51.417287,51.373493,51.364323,51.352382,51.356302,51.351622,51.35124,51.355152,51.374259,51.373877,51.373493,51.368812,51.36585,51.36528,51.364899,51.364515,51.422934,51.422934,51.313349,51.313349,51.313349,51.264223,51.071897,51.071897,51.071022,50.866255,50.866073,51.087647,50.701174,51.4215,50.93731,51.120012,51.437898,50.843048,50.675372,51.006214,51.007113,51.00713,51.007204,51.00185,51.008994,51.243268,51.243268,51.245039,51.421154,51.3791,50.867701,51.0085,50.866932,50.867105,50.855806,50.855806,50.856171,50.8849,50.8146,51.324387,50.858857,51.3321,50.949583,51.087887,50.856497,50.852084,50.9989,50.925463,50.903693,51.023136,51.060528,50.92102,51.025759,51.287155,51.2724,51.440518,50.917692,50.968917,51.272145,51.159921,50.865798,51.235295,51.420171,50.898039,51.066468,51.0548,50.849551,51.285251,51.285251,51.285251,50.671362,50.944983,51.181314,50.79573,50.86051,50.827809,50.910197,51.007028,50.868612,50.846069,50.930058,51.045219,51.366241,50.8166,51.174939,50.8029,51.218312,51.010788,51.010788,51.010788,51.010777,50.995039,50.995039,50.995039,50.995047,51.267437,51.348675,51.347778,50.99916,51.321535,51.321535,51.321535,51.321427,50.680804,50.678116,50.680595,51.1438,50.7756,50.64457,50.83846,50.83846,50.838736,51.1706,51.086063,50.984741,51.38127,51.248812,50.988949,50.993112,51.3594,50.726717,51.025603,50.662469,50.661716,51.278522,51.278522,51.278522,51.278522,51.278522,50.667819,50.667817,50.667817,50.668572,50.848954,50.848954,50.848774,51.357862,51.357862,50.844402,50.844402,50.844544,50.866068,50.866068,50.866068,50.866068,50.866347,51.359206,51.359135,50.584928,50.584928,50.584928,50.584746,50.839254,50.839524,50.7735,50.879601,50.878982,51.396388,51.396388,50.852372,51.191681,51.192579,51.209008,51.278609,51.166035,50.770618,51.3653,51.072523,50.911684,51.452246,50.925572,51.08323,51.120311,50.898831,50.789576,50.875203,51.192097,51.011298,51.171774,51.207074,50.811962,51.3609,51.1107,51.314321,51.092115,50.824332,51.1098,51.3652,51.046379,50.935166,50.934046,51.405139,51.405139,51.267337,51.267337,51.267337,51.026923,51.028722,51.028722,51.027832,51.027832,51.13934,51.13934,51.140258,51.29706,51.024107,51.019601,51.004381,51.002627,51.021375,51.021375,51.021366,50.933774,51.3325,51.171271,50.949719,51.025407,51.440105,51.1264,51.287484,51.104241,51.089837,50.917564,51.1329,51.0464,50.928642,50.599036,50.598144,50.599925,50.599123,50.912902,50.855756,51.100696,51.100613,51.237263,51.237263,51.236478,50.9563,51.253597,51.253597,51.253597,51.251754,51.26206,50.965448,51.402137,50.862274,51.121282,50.874005,51.184279,51.403867,50.900421,50.9153,50.948739,51.066023,50.886805,50.950247,50.999156,50.904738,50.904088,50.724972,51.22,50.697015,50.812462,50.975032,51.124213,50.91689,50.985538,51.218312,51.218306,51.2174,51.216508,50.852851,50.849988,50.852352,50.85986,50.860225,51.011696,51.2247,51.210459,51.069937,50.928662,50.824249,50.824249,50.823847,50.824188,51.188237,51.18823,51.187338,51.26214,50.891478,51.279551,51.279551,51.279551,51.279551,51.077102,50.667214,50.673095,51.297959,50.679852,50.679852,50.679358,50.930248,50.930248,50.931115,50.837732,50.836833,50.836853,50.836853,50.837115,51.324886,50.874562,50.873664,50.873664,50.873577,51.376892,51.37631,51.075546,51.38659,51.215604,50.912311,50.875744,51.136478,51.1553,50.787878,50.687636,51.126926,50.837765,50.969664,50.954548,50.961772,50.7819,50.833013,50.91627,50.794336,50.8385,51.3763,50.818896,50.824098,50.77497,51.120728,50.9929,51.154105,50.672113,50.672113,51.360709,51.360709,51.360709,50.69141,50.69141,50.69141,50.69141,51.147163,51.147163,50.657215,50.656665,50.945236,50.846827,50.846827,51.378766,51.3723,51.115784,51.295484,50.98699,51.212032,50.910089,51.3603,50.8383,51.240947,50.769873,51.2817,51.2206,50.821126,50.758545,51.241329,51.140245,51.097041,51.3425,51.335597,51.335597,50.963619,51.20929,51.208352,51.208352,51.2075,50.8543,51.175509,51.275764,50.943005,50.8543],\"legendgroup\":\"Hotspot\",\"lon\":[1.317469,-1.055814,-1.044914,0.752698,-0.426342,-1.366478,-1.365042,0.816131,-1.284064,-1.288984,-1.286129,-1.285559,0.462885,-1.045986,-0.009903,-1.572762,-0.642164,0.583541,-0.937636,-1.602034,-0.094596,-0.094596,-0.094596,0.295441,0.295377,0.524766,-0.403024,-0.401543,-0.403031,1.28817,1.286596,1.283606,1.268635,1.28817,0.218665,-1.194077,-1.036706,-0.804362,0.77652,-0.17617,-0.176035,0.641383,0.641383,0.27896,-0.779632,1.16596,-0.609827,-1.162663,-0.679113,-0.679113,-0.679113,-0.679133,0.484963,-0.533318,1.376721,1.373789,0.444165,0.444165,0.664609,-1.266063,0.386292,0.386292,0.386292,0.387759,0.549917,0.548532,0.549917,0.667076,-1.197724,0.610842,0.955361,-0.976968,-1.270723,1.072539,0.54644,0.796423,0.795611,-0.800672,-1.580701,-0.607049,-0.606166,1.336657,1.336657,1.34211,1.342201,-1.293518,0.611216,0.611216,0.611216,0.611216,0.611165,-0.235355,-0.234915,1.310829,1.310829,0.725084,-0.266663,-0.266682,0.280485,-1.258175,1.02052,-0.529635,-0.532268,-0.526533,-0.527942,-0.532225,-0.519079,-0.537146,-0.529351,0.34128,0.34128,1.42573,1.379,-0.713553,0.531035,-0.628388,1.238837,-1.448801,0.487868,0.487868,-0.046053,-0.046053,-0.037495,-0.029027,-0.037495,-0.037562,-1.290152,-1.290152,-0.364204,-0.361365,-0.363914,0.348964,0.348889,0.348843,0.348889,0.34128,0.34128,1.138019,1.144576,1.0863,1.0863,1.114977,1.129316,1.151131,1.109329,1.123674,1.138019,1.144884,1.087206,1.108721,1.123063,1.137405,0.462386,0.462386,0.739238,0.739238,0.739238,0.838101,-1.508962,-1.508962,-1.510442,-0.064478,-0.064343,-1.163778,-1.290078,0.793548,-1.424189,0.644937,0.328324,-0.881824,-1.196123,-1.324369,-1.325796,-1.327249,-1.338594,-1.344385,-1.337143,-1.260748,-1.260748,-1.259287,0.82425,1.31411,-1.112623,-1.334721,-0.162511,-0.162078,-0.449936,-0.449936,-0.45035,0.673241,0.357174,1.25669,-1.321106,1.42235,-0.520236,-1.330225,-0.985937,-0.991066,-0.145157,-1.316986,-1.309605,-0.451469,0.161748,-0.114863,0.997344,0.438855,0.51929,0.761066,-0.452033,0.096087,1.21479,0.254012,-0.843482,0.710972,0.563312,-1.01615,-0.3262,-0.36082,-1.395178,-1.471604,-1.471604,-1.471604,-1.342643,0.563788,0.487605,0.015149,-1.164443,-1.198432,-1.335987,-0.940812,-0.777218,-1.132278,-1.382164,-0.284121,0.588662,0.32096,1.368274,0.314815,-1.473044,-0.868132,-0.868132,-0.868132,-0.868859,-0.734594,-0.734594,-0.734594,-0.735307,0.816793,0.689656,0.689589,-1.336271,-1.252359,-1.252359,-1.252359,-1.250868,-1.198833,-1.200308,-1.198497,0.907419,0.294772,-1.226505,-0.125281,-0.125281,-0.125696,-0.002756,1.176396,0.462263,0.505881,0.006149,-1.492896,-1.492488,1.41388,-1.166267,0.568184,-1.174498,-1.168555,0.915017,0.915017,0.915017,0.915017,0.915017,-1.441008,-1.442437,-1.442437,-1.4424,-0.281128,-0.281128,-0.281134,0.519239,0.519239,-0.343241,-0.343241,-0.34308,-0.000534,-0.000534,-0.000534,-0.000534,-0.00109,1.329589,1.332428,-1.249871,-1.249871,-1.249871,-1.250863,-0.422093,-0.422084,0.268044,-0.287122,-0.287856,0.483976,0.483976,-0.151717,1.337487,1.337552,0.288216,1.284907,1.290673,-0.743809,1.10016,1.115804,0.4935,0.636355,-1.186266,1.147955,0.445748,-1.396379,-1.076553,-1.102495,0.279274,0.978642,0.556818,0.061604,-0.490479,1.03377,0.857419,0.888156,1.03781,-1.217337,0.868206,1.06239,0.194836,-1.497595,-1.496454,0.452816,0.452816,0.858365,0.858365,0.858365,-1.507983,-1.507964,-1.507964,-1.508002,-1.508002,-1.186637,-1.186637,-1.18805,0.705258,-1.304119,-1.307052,-1.32156,-1.322996,-1.299897,-1.299897,-1.298443,-1.495492,0.806123,0.628677,0.898789,-0.350425,0.372444,0.258226,0.286555,0.815665,-0.449045,-1.504612,0.263999,1.03041,-1.365566,-1.208699,-1.205903,-1.207286,-1.208288,0.721028,-0.515308,0.005273,0.009569,-1.334499,-1.334499,-1.333895,-0.138707,1.214427,1.214427,1.214427,1.215718,1.29559,0.24878,0.909601,-1.298296,0.264755,-1.029754,0.358776,0.516344,-1.186523,0.722947,0.729705,-1.315784,0.338259,0.728965,-0.094628,-1.103568,-1.359129,-1.226907,0.416,-1.518774,-0.542241,-0.866822,-0.615234,-0.18677,-0.740011,-1.473044,-1.471612,-1.470191,-1.471633,-0.498352,-0.485644,-0.498055,-0.554963,-0.555378,-1.470687,1.39699,-1.484699,0.699174,-0.383878,-0.04469,-0.04469,-0.044849,-0.044778,-1.390395,-1.388964,-1.390407,1.295309,0.542333,0.836192,0.836192,0.836192,0.836192,0.398346,-1.279861,-1.2842,0.716529,-1.333296,-1.333296,-1.333487,0.578605,0.578605,0.580076,-0.376697,-0.376728,-0.378148,-0.378148,-0.377571,0.462885,-0.510475,-0.510518,-0.510518,-0.510805,0.426819,0.426702,-0.51625,0.550716,1.146701,-1.552516,0.264262,0.865802,0.672403,-0.839961,-1.084557,0.756394,0.464269,-1.306536,-1.210427,-1.33795,-0.694997,-0.851934,-1.272563,0.051359,-0.382188,1.44921,-1.572075,-1.558943,0.101527,-0.076582,0.129025,0.88775,-1.398503,-1.398503,0.553872,0.553872,0.553872,-1.310495,-1.310495,-1.310495,-1.310495,-1.446705,-1.446705,-1.306752,-1.29905,-0.520915,-0.451669,-0.451669,0.424058,1.16596,1.164763,1.107717,-1.376467,0.789471,-0.738573,0.611698,-0.754152,-0.09902,-0.870607,1.08212,0.252288,-1.067541,-1.293683,0.505873,1.291082,0.544116,0.741333,0.671646,0.671646,0.449422,1.381737,1.3831,1.3831,1.38306,-0.132432,1.367857,1.337932,0.942961,-0.132429],\"marker\":{\"color\":\"#636efa\"},\"mode\":\"markers\",\"name\":\"Hotspot\",\"showlegend\":true,\"subplot\":\"mapbox\",\"type\":\"scattermapbox\"},{\"hovertemplate\":\"OBJECT TYPE=Catchment<br>STATION_LATITUDE=%{lat}<br>STATION_LONGITUDE=%{lon}<extra></extra>\",\"lat\":[51.108822,50.849934,50.857412,50.842027,51.17392,50.984915,51.28379,51.171994,51.214094,51.251708,50.976567,51.330673,51.349219,51.184796,51.072295,51.211932,51.192329,51.247538,51.396083,50.872293,51.35357,51.06843,50.679829,50.831535,50.821131,51.329223,51.346354,51.105969,51.195152,51.134597,51.19439,50.87798,51.300887,51.28115,51.249394,50.80776,51.298559,51.144708,51.213742,51.136701,50.884066,50.849489,50.937056,50.870309,50.882426,51.189028,50.921897,51.016972,51.125144],\"legendgroup\":\"Catchment\",\"lon\":[0.951913,-0.380189,0.273727,-0.645374,-1.382626,-0.272037,1.096902,0.902987,0.982242,1.115216,-1.494692,1.33129,0.74281,1.12571,0.808759,1.279929,1.329031,1.36514,0.423749,0.529197,1.178743,-0.497488,-1.289837,-1.209902,-1.520086,1.034511,1.032133,-0.515377,0.102849,1.206041,0.78609,-1.154654,1.224174,1.014229,1.219801,0.15422,1.276278,0.833482,0.489271,0.944691,0.467751,0.46246,-1.167685,-0.03341,-1.010695,1.107638,-0.826192,0.304629,1.267373],\"marker\":{\"color\":\"#EF553B\"},\"mode\":\"markers\",\"name\":\"Catchment\",\"showlegend\":true,\"subplot\":\"mapbox\",\"type\":\"scattermapbox\"},{\"hovertemplate\":\"OBJECT TYPE=Zone of interest<br>STATION_LATITUDE=%{lat}<br>STATION_LONGITUDE=%{lon}<extra></extra>\",\"lat\":[50.795757,51.214673,50.674052,50.91769,51.346354,51.026474,50.978936],\"legendgroup\":\"Zone of interest\",\"lon\":[0.281778,0.798888,-1.290735,-1.394943,1.032133,-1.244065,-0.115825],\"marker\":{\"color\":\"#00cc96\"},\"mode\":\"markers\",\"name\":\"Zone of interest\",\"showlegend\":true,\"subplot\":\"mapbox\",\"type\":\"scattermapbox\"}],                        {\"template\":{\"data\":{\"bar\":[{\"error_x\":{\"color\":\"#2a3f5f\"},\"error_y\":{\"color\":\"#2a3f5f\"},\"marker\":{\"line\":{\"color\":\"#E5ECF6\",\"width\":0.5},\"pattern\":{\"fillmode\":\"overlay\",\"size\":10,\"solidity\":0.2}},\"type\":\"bar\"}],\"barpolar\":[{\"marker\":{\"line\":{\"color\":\"#E5ECF6\",\"width\":0.5},\"pattern\":{\"fillmode\":\"overlay\",\"size\":10,\"solidity\":0.2}},\"type\":\"barpolar\"}],\"carpet\":[{\"aaxis\":{\"endlinecolor\":\"#2a3f5f\",\"gridcolor\":\"white\",\"linecolor\":\"white\",\"minorgridcolor\":\"white\",\"startlinecolor\":\"#2a3f5f\"},\"baxis\":{\"endlinecolor\":\"#2a3f5f\",\"gridcolor\":\"white\",\"linecolor\":\"white\",\"minorgridcolor\":\"white\",\"startlinecolor\":\"#2a3f5f\"},\"type\":\"carpet\"}],\"choropleth\":[{\"colorbar\":{\"outlinewidth\":0,\"ticks\":\"\"},\"type\":\"choropleth\"}],\"contour\":[{\"colorbar\":{\"outlinewidth\":0,\"ticks\":\"\"},\"colorscale\":[[0.0,\"#0d0887\"],[0.1111111111111111,\"#46039f\"],[0.2222222222222222,\"#7201a8\"],[0.3333333333333333,\"#9c179e\"],[0.4444444444444444,\"#bd3786\"],[0.5555555555555556,\"#d8576b\"],[0.6666666666666666,\"#ed7953\"],[0.7777777777777778,\"#fb9f3a\"],[0.8888888888888888,\"#fdca26\"],[1.0,\"#f0f921\"]],\"type\":\"contour\"}],\"contourcarpet\":[{\"colorbar\":{\"outlinewidth\":0,\"ticks\":\"\"},\"type\":\"contourcarpet\"}],\"heatmap\":[{\"colorbar\":{\"outlinewidth\":0,\"ticks\":\"\"},\"colorscale\":[[0.0,\"#0d0887\"],[0.1111111111111111,\"#46039f\"],[0.2222222222222222,\"#7201a8\"],[0.3333333333333333,\"#9c179e\"],[0.4444444444444444,\"#bd3786\"],[0.5555555555555556,\"#d8576b\"],[0.6666666666666666,\"#ed7953\"],[0.7777777777777778,\"#fb9f3a\"],[0.8888888888888888,\"#fdca26\"],[1.0,\"#f0f921\"]],\"type\":\"heatmap\"}],\"heatmapgl\":[{\"colorbar\":{\"outlinewidth\":0,\"ticks\":\"\"},\"colorscale\":[[0.0,\"#0d0887\"],[0.1111111111111111,\"#46039f\"],[0.2222222222222222,\"#7201a8\"],[0.3333333333333333,\"#9c179e\"],[0.4444444444444444,\"#bd3786\"],[0.5555555555555556,\"#d8576b\"],[0.6666666666666666,\"#ed7953\"],[0.7777777777777778,\"#fb9f3a\"],[0.8888888888888888,\"#fdca26\"],[1.0,\"#f0f921\"]],\"type\":\"heatmapgl\"}],\"histogram\":[{\"marker\":{\"pattern\":{\"fillmode\":\"overlay\",\"size\":10,\"solidity\":0.2}},\"type\":\"histogram\"}],\"histogram2d\":[{\"colorbar\":{\"outlinewidth\":0,\"ticks\":\"\"},\"colorscale\":[[0.0,\"#0d0887\"],[0.1111111111111111,\"#46039f\"],[0.2222222222222222,\"#7201a8\"],[0.3333333333333333,\"#9c179e\"],[0.4444444444444444,\"#bd3786\"],[0.5555555555555556,\"#d8576b\"],[0.6666666666666666,\"#ed7953\"],[0.7777777777777778,\"#fb9f3a\"],[0.8888888888888888,\"#fdca26\"],[1.0,\"#f0f921\"]],\"type\":\"histogram2d\"}],\"histogram2dcontour\":[{\"colorbar\":{\"outlinewidth\":0,\"ticks\":\"\"},\"colorscale\":[[0.0,\"#0d0887\"],[0.1111111111111111,\"#46039f\"],[0.2222222222222222,\"#7201a8\"],[0.3333333333333333,\"#9c179e\"],[0.4444444444444444,\"#bd3786\"],[0.5555555555555556,\"#d8576b\"],[0.6666666666666666,\"#ed7953\"],[0.7777777777777778,\"#fb9f3a\"],[0.8888888888888888,\"#fdca26\"],[1.0,\"#f0f921\"]],\"type\":\"histogram2dcontour\"}],\"mesh3d\":[{\"colorbar\":{\"outlinewidth\":0,\"ticks\":\"\"},\"type\":\"mesh3d\"}],\"parcoords\":[{\"line\":{\"colorbar\":{\"outlinewidth\":0,\"ticks\":\"\"}},\"type\":\"parcoords\"}],\"pie\":[{\"automargin\":true,\"type\":\"pie\"}],\"scatter\":[{\"marker\":{\"colorbar\":{\"outlinewidth\":0,\"ticks\":\"\"}},\"type\":\"scatter\"}],\"scatter3d\":[{\"line\":{\"colorbar\":{\"outlinewidth\":0,\"ticks\":\"\"}},\"marker\":{\"colorbar\":{\"outlinewidth\":0,\"ticks\":\"\"}},\"type\":\"scatter3d\"}],\"scattercarpet\":[{\"marker\":{\"colorbar\":{\"outlinewidth\":0,\"ticks\":\"\"}},\"type\":\"scattercarpet\"}],\"scattergeo\":[{\"marker\":{\"colorbar\":{\"outlinewidth\":0,\"ticks\":\"\"}},\"type\":\"scattergeo\"}],\"scattergl\":[{\"marker\":{\"colorbar\":{\"outlinewidth\":0,\"ticks\":\"\"}},\"type\":\"scattergl\"}],\"scattermapbox\":[{\"marker\":{\"colorbar\":{\"outlinewidth\":0,\"ticks\":\"\"}},\"type\":\"scattermapbox\"}],\"scatterpolar\":[{\"marker\":{\"colorbar\":{\"outlinewidth\":0,\"ticks\":\"\"}},\"type\":\"scatterpolar\"}],\"scatterpolargl\":[{\"marker\":{\"colorbar\":{\"outlinewidth\":0,\"ticks\":\"\"}},\"type\":\"scatterpolargl\"}],\"scatterternary\":[{\"marker\":{\"colorbar\":{\"outlinewidth\":0,\"ticks\":\"\"}},\"type\":\"scatterternary\"}],\"surface\":[{\"colorbar\":{\"outlinewidth\":0,\"ticks\":\"\"},\"colorscale\":[[0.0,\"#0d0887\"],[0.1111111111111111,\"#46039f\"],[0.2222222222222222,\"#7201a8\"],[0.3333333333333333,\"#9c179e\"],[0.4444444444444444,\"#bd3786\"],[0.5555555555555556,\"#d8576b\"],[0.6666666666666666,\"#ed7953\"],[0.7777777777777778,\"#fb9f3a\"],[0.8888888888888888,\"#fdca26\"],[1.0,\"#f0f921\"]],\"type\":\"surface\"}],\"table\":[{\"cells\":{\"fill\":{\"color\":\"#EBF0F8\"},\"line\":{\"color\":\"white\"}},\"header\":{\"fill\":{\"color\":\"#C8D4E3\"},\"line\":{\"color\":\"white\"}},\"type\":\"table\"}]},\"layout\":{\"annotationdefaults\":{\"arrowcolor\":\"#2a3f5f\",\"arrowhead\":0,\"arrowwidth\":1},\"autotypenumbers\":\"strict\",\"coloraxis\":{\"colorbar\":{\"outlinewidth\":0,\"ticks\":\"\"}},\"colorscale\":{\"diverging\":[[0,\"#8e0152\"],[0.1,\"#c51b7d\"],[0.2,\"#de77ae\"],[0.3,\"#f1b6da\"],[0.4,\"#fde0ef\"],[0.5,\"#f7f7f7\"],[0.6,\"#e6f5d0\"],[0.7,\"#b8e186\"],[0.8,\"#7fbc41\"],[0.9,\"#4d9221\"],[1,\"#276419\"]],\"sequential\":[[0.0,\"#0d0887\"],[0.1111111111111111,\"#46039f\"],[0.2222222222222222,\"#7201a8\"],[0.3333333333333333,\"#9c179e\"],[0.4444444444444444,\"#bd3786\"],[0.5555555555555556,\"#d8576b\"],[0.6666666666666666,\"#ed7953\"],[0.7777777777777778,\"#fb9f3a\"],[0.8888888888888888,\"#fdca26\"],[1.0,\"#f0f921\"]],\"sequentialminus\":[[0.0,\"#0d0887\"],[0.1111111111111111,\"#46039f\"],[0.2222222222222222,\"#7201a8\"],[0.3333333333333333,\"#9c179e\"],[0.4444444444444444,\"#bd3786\"],[0.5555555555555556,\"#d8576b\"],[0.6666666666666666,\"#ed7953\"],[0.7777777777777778,\"#fb9f3a\"],[0.8888888888888888,\"#fdca26\"],[1.0,\"#f0f921\"]]},\"colorway\":[\"#636efa\",\"#EF553B\",\"#00cc96\",\"#ab63fa\",\"#FFA15A\",\"#19d3f3\",\"#FF6692\",\"#B6E880\",\"#FF97FF\",\"#FECB52\"],\"font\":{\"color\":\"#2a3f5f\"},\"geo\":{\"bgcolor\":\"white\",\"lakecolor\":\"white\",\"landcolor\":\"#E5ECF6\",\"showlakes\":true,\"showland\":true,\"subunitcolor\":\"white\"},\"hoverlabel\":{\"align\":\"left\"},\"hovermode\":\"closest\",\"mapbox\":{\"style\":\"light\"},\"paper_bgcolor\":\"white\",\"plot_bgcolor\":\"#E5ECF6\",\"polar\":{\"angularaxis\":{\"gridcolor\":\"white\",\"linecolor\":\"white\",\"ticks\":\"\"},\"bgcolor\":\"#E5ECF6\",\"radialaxis\":{\"gridcolor\":\"white\",\"linecolor\":\"white\",\"ticks\":\"\"}},\"scene\":{\"xaxis\":{\"backgroundcolor\":\"#E5ECF6\",\"gridcolor\":\"white\",\"gridwidth\":2,\"linecolor\":\"white\",\"showbackground\":true,\"ticks\":\"\",\"zerolinecolor\":\"white\"},\"yaxis\":{\"backgroundcolor\":\"#E5ECF6\",\"gridcolor\":\"white\",\"gridwidth\":2,\"linecolor\":\"white\",\"showbackground\":true,\"ticks\":\"\",\"zerolinecolor\":\"white\"},\"zaxis\":{\"backgroundcolor\":\"#E5ECF6\",\"gridcolor\":\"white\",\"gridwidth\":2,\"linecolor\":\"white\",\"showbackground\":true,\"ticks\":\"\",\"zerolinecolor\":\"white\"}},\"shapedefaults\":{\"line\":{\"color\":\"#2a3f5f\"}},\"ternary\":{\"aaxis\":{\"gridcolor\":\"white\",\"linecolor\":\"white\",\"ticks\":\"\"},\"baxis\":{\"gridcolor\":\"white\",\"linecolor\":\"white\",\"ticks\":\"\"},\"bgcolor\":\"#E5ECF6\",\"caxis\":{\"gridcolor\":\"white\",\"linecolor\":\"white\",\"ticks\":\"\"}},\"title\":{\"x\":0.05},\"xaxis\":{\"automargin\":true,\"gridcolor\":\"white\",\"linecolor\":\"white\",\"ticks\":\"\",\"title\":{\"standoff\":15},\"zerolinecolor\":\"white\",\"zerolinewidth\":2},\"yaxis\":{\"automargin\":true,\"gridcolor\":\"white\",\"linecolor\":\"white\",\"ticks\":\"\",\"title\":{\"standoff\":15},\"zerolinecolor\":\"white\",\"zerolinewidth\":2}}},\"mapbox\":{\"domain\":{\"x\":[0.0,1.0],\"y\":[0.0,1.0]},\"center\":{\"lat\":51.05338840368509,\"lon\":-0.10521535008375209},\"zoom\":8,\"style\":\"carto-positron\"},\"legend\":{\"title\":{\"text\":\"OBJECT TYPE\"},\"tracegroupgap\":0},\"title\":{\"text\":\"Distribution of Non-Optimized Object-Types\"}},                        {\"responsive\": true}                    ).then(function(){\n",
              "                            \n",
              "var gd = document.getElementById('5c49ec81-4dff-4c20-ba11-eec1fc99a24b');\n",
              "var x = new MutationObserver(function (mutations, observer) {{\n",
              "        var display = window.getComputedStyle(gd).display;\n",
              "        if (!display || display === 'none') {{\n",
              "            console.log([gd, 'removed!']);\n",
              "            Plotly.purge(gd);\n",
              "            observer.disconnect();\n",
              "        }}\n",
              "}});\n",
              "\n",
              "// Listen for the removal of the full notebook cells\n",
              "var notebookContainer = gd.closest('#notebook-container');\n",
              "if (notebookContainer) {{\n",
              "    x.observe(notebookContainer, {childList: true});\n",
              "}}\n",
              "\n",
              "// Listen for the clearing of the current output cell\n",
              "var outputEl = gd.closest('.output');\n",
              "if (outputEl) {{\n",
              "    x.observe(outputEl, {childList: true});\n",
              "}}\n",
              "\n",
              "                        })                };                            </script>        </div>\n",
              "</body>\n",
              "</html>"
            ]
          },
          "metadata": {}
        }
      ],
      "source": [
        "fig = px.scatter_mapbox(\n",
        "    optimized,\n",
        "    lat=\"STATION_LATITUDE\",\n",
        "    lon=\"STATION_LONGITUDE\",\n",
        "    color=\"OBJECT_TYPE\",\n",
        "    mapbox_style=\"carto-positron\",\n",
        "    labels={\"OBJECT_TYPE\": \"OBJECT TYPE\"},\n",
        "    title=\"Distribution of Optimized Object Types\",\n",
        ")\n",
        "fig.show()\n",
        "\n",
        "fig = px.scatter_mapbox(\n",
        "    non_optimized,\n",
        "    lat=\"STATION_LATITUDE\",\n",
        "    lon=\"STATION_LONGITUDE\",\n",
        "    color=\"OBJECT_TYPE\",\n",
        "    mapbox_style=\"carto-positron\",\n",
        "    labels={\"OBJECT_TYPE\": \"OBJECT TYPE\"},\n",
        "    title=\"Distribution of Non-Optimized Object-Types\",\n",
        ")\n",
        "fig.show()"
      ]
    },
    {
      "cell_type": "markdown",
      "metadata": {
        "id": "0Etr43c7ZcWQ"
      },
      "source": [
        "## Insight\n",
        "\n",
        "The data are in two forms: one is Optimized and the other is Non-optimized. Both are in csv files.\n",
        "\n",
        "The Optimized data (supposedly, the clean data) has the following:\n",
        "\n",
        "*   It is made up of 90 rows (stations) and 7 columns (features of a station).\n",
        "\n",
        "*   The values of the data in this dataset are all 'non-null'. Meaning there are no null, empty or missing values therein. \n",
        "\n",
        "*   Of the 7 columns, 5 are of 'object' data-type and 2 are of 'float' data-type.\n",
        "\n",
        "*   The 'OBJECT_TYPE' column has only catchment\n",
        "\n",
        "\n",
        "\n",
        "The same can not be said about the the Non-optimized data. \n",
        "\n",
        "*   This dataset has a total of 597 stations and 7 columns. \n",
        "\n",
        "*   There are null values, up to 541 rows, in the 'STATION-AREA-WKT' column.\n",
        "\n",
        "*   The data-types are 5 objects and 2 floats.\n",
        "\n",
        "*   The 'OBJECT_TYPE' column has 541 Hotspots (the null values in the 'STATION-AREA-WKT' column), 49 Catchments and 7 Zones of interest\n",
        "\n",
        "Peculiar to both datasets:\n",
        "\n",
        "*   The dataframes are: datatype of: <class 'pandas.core.frame.DataFrame'>\n",
        "\n",
        "*   They lack the geometry column that makes for a GeoPandas GeoDataFrame.\n",
        "\n",
        "*   The columns give information about each station, which include, STATION_NO, STATION_LATITUDE, STATION_LONGITUDE, OBJECT_TYPE, OBJECT_TYPE_SHORTNAME, STATION_AREA_WKT and CREATIONTIME.\n",
        "\n",
        "*WKT* stands for Well Known Text.\n",
        "\n",
        "The plots above shows the geographical references of these object types in the Optimized and Non-optimized datasets. Obviously the plot with multiple colours represents the Non-optimized data.\n",
        "\n",
        "\n",
        "\n",
        "\n",
        "\n"
      ]
    },
    {
      "cell_type": "markdown",
      "source": [
        "# The Instruction\n",
        "\n",
        "The present data DOES NOT include any actual rainfall data.\n",
        "\n",
        "*   Identify which object to retrieve data for the project\n",
        "\n",
        "The 5-step instruction gives the procedures to arrive at the stations for which data will be released for the project.\n",
        "\n"
      ],
      "metadata": {
        "id": "7C5lNozqIGGm"
      }
    },
    {
      "cell_type": "markdown",
      "source": [
        "## 1. Create Hotspot Dataframe from Non-optimized\n",
        "\n",
        "*   use only 'hotspot' (indicated in OBJECT_TYPE:) from the Non_optimized_rainfall_object_20229.csv\n",
        "\n",
        "First, create Dataframes from Non-optimized rainfall data."
      ],
      "metadata": {
        "id": "RT-hHSdJpKk2"
      }
    },
    {
      "cell_type": "markdown",
      "source": [
        "### Zone-of-Interest Dataframe"
      ],
      "metadata": {
        "id": "XXpZ6E_5et5k"
      }
    },
    {
      "cell_type": "code",
      "source": [
        "zone_of_interest = non_optimized[\n",
        "    non_optimized.loc[\n",
        "        :, 'OBJECT_TYPE'\n",
        "        ]\n",
        "        =='Zone of interest'\n",
        "        ]"
      ],
      "metadata": {
        "id": "21XUCgp0dIPm"
      },
      "execution_count": 182,
      "outputs": []
    },
    {
      "cell_type": "markdown",
      "source": [
        "### Catchment Dataframe"
      ],
      "metadata": {
        "id": "2JyuF3tnehDk"
      }
    },
    {
      "cell_type": "code",
      "source": [
        "n_catchment = non_optimized[\n",
        "    non_optimized.loc[\n",
        "        :,'OBJECT_TYPE'\n",
        "        ]\n",
        "         == 'Catchment'\n",
        "        ]"
      ],
      "metadata": {
        "id": "ZTd9AW7IbbmV"
      },
      "execution_count": 183,
      "outputs": []
    },
    {
      "cell_type": "markdown",
      "source": [
        "### Hotspot Dataframe"
      ],
      "metadata": {
        "id": "BYWRzekAv-gX"
      }
    },
    {
      "cell_type": "code",
      "execution_count": 184,
      "metadata": {
        "id": "ZKEATC4fHby1"
      },
      "outputs": [],
      "source": [
        "#Filter the datafram to contain only hotspot object type\n",
        "hotspot_df = non_optimized[\n",
        "    non_optimized.loc[\n",
        "        :, 'OBJECT_TYPE'\n",
        "        ]\n",
        "        =='Hotspot'\n",
        "        ]\n",
        "\n",
        "#Drop WKT column\n",
        "hotspot_df = hotspot_df.drop(\n",
        "    'STATION_AREA_WKT', axis=1\n",
        "    )"
      ]
    },
    {
      "cell_type": "markdown",
      "metadata": {
        "id": "mklyQ8bRH98K"
      },
      "source": [
        "## 2. Create the geometry columns in the dataframes\n",
        "\n",
        "*   for the object in step 1, get the geometry from the column STATION_AREA_WKT. This geometry should only consist of a pair of coordinates"
      ]
    },
    {
      "cell_type": "code",
      "source": [
        "n_catchment['geometry'] = n_catchment.STATION_AREA_WKT.apply(wkt.loads)\n",
        "#Drop WKT column\n",
        "n_catchment.drop(\n",
        "    'STATION_AREA_WKT', axis=1, inplace=True\n",
        "    ) \n",
        "\n",
        "# Geopandas GeoDataFrame\n",
        "n_catchment = gpd.GeoDataFrame(\n",
        "    n_catchment, geometry='geometry'\n",
        "    )\n",
        "\n",
        "# create a csv file called 'n_catchment_csv'\n",
        "#n_catchment.to_csv('n_catchment_csv.csv', index=True)\n",
        "\n",
        "print(\n",
        "    'The size of n_catchment dataframe is', n_catchment.shape\n",
        "    )\n",
        "\n",
        "\n",
        "zone_of_interest['geometry'] = zone_of_interest.STATION_AREA_WKT.apply(wkt.loads)\n",
        "#Drop WKT column\n",
        "zone_of_interest.drop(\n",
        "    'STATION_AREA_WKT', axis=1, inplace=True\n",
        "    ) \n",
        "# Geopandas GeoDataFrame\n",
        "zone_of_interest = gpd.GeoDataFrame(\n",
        "    zone_of_interest, geometry='geometry'\n",
        "    )\n",
        "# create a csv file called 'zone_of_interest_csv'\n",
        "#zone_of_interest.to_csv('zone_of_interest_csv.csv', index=True)\n",
        "\n",
        "print(\n",
        "    'The size of zone_of_interest dataframe is', zone_of_interest.shape\n",
        "    )\n"
      ],
      "metadata": {
        "colab": {
          "base_uri": "https://localhost:8080/"
        },
        "id": "vRAQ2y-Hy-6_",
        "outputId": "47b2748a-5b90-4a7e-d12e-73190d27ed11"
      },
      "execution_count": 185,
      "outputs": [
        {
          "output_type": "stream",
          "name": "stdout",
          "text": [
            "The size of n_catchment dataframe is (49, 7)\n",
            "The size of zone_of_interest dataframe is (7, 7)\n"
          ]
        },
        {
          "output_type": "stream",
          "name": "stderr",
          "text": [
            "/usr/local/lib/python3.7/dist-packages/ipykernel_launcher.py:1: SettingWithCopyWarning:\n",
            "\n",
            "\n",
            "A value is trying to be set on a copy of a slice from a DataFrame.\n",
            "Try using .loc[row_indexer,col_indexer] = value instead\n",
            "\n",
            "See the caveats in the documentation: https://pandas.pydata.org/pandas-docs/stable/user_guide/indexing.html#returning-a-view-versus-a-copy\n",
            "\n",
            "/usr/local/lib/python3.7/dist-packages/pandas/core/frame.py:4913: SettingWithCopyWarning:\n",
            "\n",
            "\n",
            "A value is trying to be set on a copy of a slice from a DataFrame\n",
            "\n",
            "See the caveats in the documentation: https://pandas.pydata.org/pandas-docs/stable/user_guide/indexing.html#returning-a-view-versus-a-copy\n",
            "\n",
            "/usr/local/lib/python3.7/dist-packages/ipykernel_launcher.py:20: SettingWithCopyWarning:\n",
            "\n",
            "\n",
            "A value is trying to be set on a copy of a slice from a DataFrame.\n",
            "Try using .loc[row_indexer,col_indexer] = value instead\n",
            "\n",
            "See the caveats in the documentation: https://pandas.pydata.org/pandas-docs/stable/user_guide/indexing.html#returning-a-view-versus-a-copy\n",
            "\n",
            "/usr/local/lib/python3.7/dist-packages/pandas/core/frame.py:4913: SettingWithCopyWarning:\n",
            "\n",
            "\n",
            "A value is trying to be set on a copy of a slice from a DataFrame\n",
            "\n",
            "See the caveats in the documentation: https://pandas.pydata.org/pandas-docs/stable/user_guide/indexing.html#returning-a-view-versus-a-copy\n",
            "\n"
          ]
        }
      ]
    },
    {
      "cell_type": "code",
      "execution_count": 186,
      "metadata": {
        "colab": {
          "base_uri": "https://localhost:8080/",
          "height": 302
        },
        "id": "55GPJmXZICkl",
        "outputId": "55ba956a-901f-4a15-b123-43b39e0ba027"
      },
      "outputs": [
        {
          "output_type": "stream",
          "name": "stdout",
          "text": [
            "Datatype is; <class 'geopandas.geodataframe.GeoDataFrame'>\n",
            "Shape is: (541, 7)\n",
            "None\n"
          ]
        },
        {
          "output_type": "execute_result",
          "data": {
            "text/plain": [
              "                               STATION_NO  STATION_LATITUDE  \\\n",
              "0  HSadee6548-d797-49a3-a2a0-b7e8348f0b27         51.130919   \n",
              "1  HSfd30138a-5a83-450a-81d3-7d1335d69c09         50.846194   \n",
              "2  HSefb5e85c-71f8-42a4-b529-44cdd306486d         50.839552   \n",
              "3  HS9037443f-c430-4468-86b8-8c2c0362e1c6         51.416060   \n",
              "4  HS27e9d11e-c6ce-4e8f-ba3a-aac71fd09ff3         50.824115   \n",
              "\n",
              "   STATION_LONGITUDE OBJECT_TYPE OBJECT_TYPE_SHORTNAME  \\\n",
              "0           1.317469     Hotspot                    HS   \n",
              "1          -1.055814     Hotspot                    HS   \n",
              "2          -1.044914     Hotspot                    HS   \n",
              "3           0.752698     Hotspot                    HS   \n",
              "4          -0.426342     Hotspot                    HS   \n",
              "\n",
              "              CREATIONTIME                   geometry  \n",
              "0  2019-05-23 10:22:57.000   POINT (1.31747 51.13092)  \n",
              "1  2019-05-20 11:42:16.000  POINT (-1.05581 50.84619)  \n",
              "2  2019-05-20 12:12:35.000  POINT (-1.04491 50.83955)  \n",
              "3  2019-05-23 14:28:36.000   POINT (0.75270 51.41606)  \n",
              "4  2018-04-10 12:31:01.000  POINT (-0.42634 50.82411)  "
            ],
            "text/html": [
              "\n",
              "  <div id=\"df-38d648af-acdd-4342-bb90-84888f0aaf84\">\n",
              "    <div class=\"colab-df-container\">\n",
              "      <div>\n",
              "<style scoped>\n",
              "    .dataframe tbody tr th:only-of-type {\n",
              "        vertical-align: middle;\n",
              "    }\n",
              "\n",
              "    .dataframe tbody tr th {\n",
              "        vertical-align: top;\n",
              "    }\n",
              "\n",
              "    .dataframe thead th {\n",
              "        text-align: right;\n",
              "    }\n",
              "</style>\n",
              "<table border=\"1\" class=\"dataframe\">\n",
              "  <thead>\n",
              "    <tr style=\"text-align: right;\">\n",
              "      <th></th>\n",
              "      <th>STATION_NO</th>\n",
              "      <th>STATION_LATITUDE</th>\n",
              "      <th>STATION_LONGITUDE</th>\n",
              "      <th>OBJECT_TYPE</th>\n",
              "      <th>OBJECT_TYPE_SHORTNAME</th>\n",
              "      <th>CREATIONTIME</th>\n",
              "      <th>geometry</th>\n",
              "    </tr>\n",
              "  </thead>\n",
              "  <tbody>\n",
              "    <tr>\n",
              "      <th>0</th>\n",
              "      <td>HSadee6548-d797-49a3-a2a0-b7e8348f0b27</td>\n",
              "      <td>51.130919</td>\n",
              "      <td>1.317469</td>\n",
              "      <td>Hotspot</td>\n",
              "      <td>HS</td>\n",
              "      <td>2019-05-23 10:22:57.000</td>\n",
              "      <td>POINT (1.31747 51.13092)</td>\n",
              "    </tr>\n",
              "    <tr>\n",
              "      <th>1</th>\n",
              "      <td>HSfd30138a-5a83-450a-81d3-7d1335d69c09</td>\n",
              "      <td>50.846194</td>\n",
              "      <td>-1.055814</td>\n",
              "      <td>Hotspot</td>\n",
              "      <td>HS</td>\n",
              "      <td>2019-05-20 11:42:16.000</td>\n",
              "      <td>POINT (-1.05581 50.84619)</td>\n",
              "    </tr>\n",
              "    <tr>\n",
              "      <th>2</th>\n",
              "      <td>HSefb5e85c-71f8-42a4-b529-44cdd306486d</td>\n",
              "      <td>50.839552</td>\n",
              "      <td>-1.044914</td>\n",
              "      <td>Hotspot</td>\n",
              "      <td>HS</td>\n",
              "      <td>2019-05-20 12:12:35.000</td>\n",
              "      <td>POINT (-1.04491 50.83955)</td>\n",
              "    </tr>\n",
              "    <tr>\n",
              "      <th>3</th>\n",
              "      <td>HS9037443f-c430-4468-86b8-8c2c0362e1c6</td>\n",
              "      <td>51.416060</td>\n",
              "      <td>0.752698</td>\n",
              "      <td>Hotspot</td>\n",
              "      <td>HS</td>\n",
              "      <td>2019-05-23 14:28:36.000</td>\n",
              "      <td>POINT (0.75270 51.41606)</td>\n",
              "    </tr>\n",
              "    <tr>\n",
              "      <th>4</th>\n",
              "      <td>HS27e9d11e-c6ce-4e8f-ba3a-aac71fd09ff3</td>\n",
              "      <td>50.824115</td>\n",
              "      <td>-0.426342</td>\n",
              "      <td>Hotspot</td>\n",
              "      <td>HS</td>\n",
              "      <td>2018-04-10 12:31:01.000</td>\n",
              "      <td>POINT (-0.42634 50.82411)</td>\n",
              "    </tr>\n",
              "  </tbody>\n",
              "</table>\n",
              "</div>\n",
              "      <button class=\"colab-df-convert\" onclick=\"convertToInteractive('df-38d648af-acdd-4342-bb90-84888f0aaf84')\"\n",
              "              title=\"Convert this dataframe to an interactive table.\"\n",
              "              style=\"display:none;\">\n",
              "        \n",
              "  <svg xmlns=\"http://www.w3.org/2000/svg\" height=\"24px\"viewBox=\"0 0 24 24\"\n",
              "       width=\"24px\">\n",
              "    <path d=\"M0 0h24v24H0V0z\" fill=\"none\"/>\n",
              "    <path d=\"M18.56 5.44l.94 2.06.94-2.06 2.06-.94-2.06-.94-.94-2.06-.94 2.06-2.06.94zm-11 1L8.5 8.5l.94-2.06 2.06-.94-2.06-.94L8.5 2.5l-.94 2.06-2.06.94zm10 10l.94 2.06.94-2.06 2.06-.94-2.06-.94-.94-2.06-.94 2.06-2.06.94z\"/><path d=\"M17.41 7.96l-1.37-1.37c-.4-.4-.92-.59-1.43-.59-.52 0-1.04.2-1.43.59L10.3 9.45l-7.72 7.72c-.78.78-.78 2.05 0 2.83L4 21.41c.39.39.9.59 1.41.59.51 0 1.02-.2 1.41-.59l7.78-7.78 2.81-2.81c.8-.78.8-2.07 0-2.86zM5.41 20L4 18.59l7.72-7.72 1.47 1.35L5.41 20z\"/>\n",
              "  </svg>\n",
              "      </button>\n",
              "      \n",
              "  <style>\n",
              "    .colab-df-container {\n",
              "      display:flex;\n",
              "      flex-wrap:wrap;\n",
              "      gap: 12px;\n",
              "    }\n",
              "\n",
              "    .colab-df-convert {\n",
              "      background-color: #E8F0FE;\n",
              "      border: none;\n",
              "      border-radius: 50%;\n",
              "      cursor: pointer;\n",
              "      display: none;\n",
              "      fill: #1967D2;\n",
              "      height: 32px;\n",
              "      padding: 0 0 0 0;\n",
              "      width: 32px;\n",
              "    }\n",
              "\n",
              "    .colab-df-convert:hover {\n",
              "      background-color: #E2EBFA;\n",
              "      box-shadow: 0px 1px 2px rgba(60, 64, 67, 0.3), 0px 1px 3px 1px rgba(60, 64, 67, 0.15);\n",
              "      fill: #174EA6;\n",
              "    }\n",
              "\n",
              "    [theme=dark] .colab-df-convert {\n",
              "      background-color: #3B4455;\n",
              "      fill: #D2E3FC;\n",
              "    }\n",
              "\n",
              "    [theme=dark] .colab-df-convert:hover {\n",
              "      background-color: #434B5C;\n",
              "      box-shadow: 0px 1px 3px 1px rgba(0, 0, 0, 0.15);\n",
              "      filter: drop-shadow(0px 1px 2px rgba(0, 0, 0, 0.3));\n",
              "      fill: #FFFFFF;\n",
              "    }\n",
              "  </style>\n",
              "\n",
              "      <script>\n",
              "        const buttonEl =\n",
              "          document.querySelector('#df-38d648af-acdd-4342-bb90-84888f0aaf84 button.colab-df-convert');\n",
              "        buttonEl.style.display =\n",
              "          google.colab.kernel.accessAllowed ? 'block' : 'none';\n",
              "\n",
              "        async function convertToInteractive(key) {\n",
              "          const element = document.querySelector('#df-38d648af-acdd-4342-bb90-84888f0aaf84');\n",
              "          const dataTable =\n",
              "            await google.colab.kernel.invokeFunction('convertToInteractive',\n",
              "                                                     [key], {});\n",
              "          if (!dataTable) return;\n",
              "\n",
              "          const docLinkHtml = 'Like what you see? Visit the ' +\n",
              "            '<a target=\"_blank\" href=https://colab.research.google.com/notebooks/data_table.ipynb>data table notebook</a>'\n",
              "            + ' to learn more about interactive tables.';\n",
              "          element.innerHTML = '';\n",
              "          dataTable['output_type'] = 'display_data';\n",
              "          await google.colab.output.renderOutput(dataTable, element);\n",
              "          const docLink = document.createElement('div');\n",
              "          docLink.innerHTML = docLinkHtml;\n",
              "          element.appendChild(docLink);\n",
              "        }\n",
              "      </script>\n",
              "    </div>\n",
              "  </div>\n",
              "  "
            ]
          },
          "metadata": {},
          "execution_count": 186
        }
      ],
      "source": [
        "# obtain the geometries for Hotspots\n",
        "hotspot_gdf = gpd.GeoDataFrame(\n",
        "    hotspot_df, geometry = gpd.points_from_xy(\n",
        "        hotspot_df['STATION_LONGITUDE'],hotspot_df['STATION_LATITUDE']\n",
        "    )\n",
        ")\n",
        "\n",
        "# create a csv file called 'hotspot_df_csv'\n",
        "#hotspot_df.to_csv('hotspot_df_csv.csv', index=True)\n",
        "\n",
        "\n",
        "print('Datatype is;', type(hotspot_gdf))\n",
        "print('Shape is:', hotspot_gdf.shape)\n",
        "print(hotspot_gdf.crs)\n",
        "hotspot_gdf.head()"
      ]
    },
    {
      "cell_type": "code",
      "execution_count": 187,
      "metadata": {
        "colab": {
          "base_uri": "https://localhost:8080/"
        },
        "id": "-I_leTGhIGjt",
        "outputId": "9640fe18-e799-4ec4-f9fb-6d64a9dcea61"
      },
      "outputs": [
        {
          "output_type": "stream",
          "name": "stdout",
          "text": [
            "<class 'geopandas.geodataframe.GeoDataFrame'>\n",
            "Int64Index: 541 entries, 0 to 595\n",
            "Data columns (total 7 columns):\n",
            " #   Column                 Non-Null Count  Dtype   \n",
            "---  ------                 --------------  -----   \n",
            " 0   STATION_NO             541 non-null    object  \n",
            " 1   STATION_LATITUDE       541 non-null    float64 \n",
            " 2   STATION_LONGITUDE      541 non-null    float64 \n",
            " 3   OBJECT_TYPE            541 non-null    object  \n",
            " 4   OBJECT_TYPE_SHORTNAME  541 non-null    object  \n",
            " 5   CREATIONTIME           541 non-null    object  \n",
            " 6   geometry               541 non-null    geometry\n",
            "dtypes: float64(2), geometry(1), object(4)\n",
            "memory usage: 33.8+ KB\n"
          ]
        }
      ],
      "source": [
        "hotspot_gdf.info()"
      ]
    },
    {
      "cell_type": "code",
      "source": [
        "n_catchment.info()"
      ],
      "metadata": {
        "colab": {
          "base_uri": "https://localhost:8080/"
        },
        "id": "6HYdSwkh-rHV",
        "outputId": "295f37e7-1e72-4780-e0ee-45e5bc8ccc0e"
      },
      "execution_count": 188,
      "outputs": [
        {
          "output_type": "stream",
          "name": "stdout",
          "text": [
            "<class 'geopandas.geodataframe.GeoDataFrame'>\n",
            "Int64Index: 49 entries, 13 to 596\n",
            "Data columns (total 7 columns):\n",
            " #   Column                 Non-Null Count  Dtype   \n",
            "---  ------                 --------------  -----   \n",
            " 0   STATION_NO             49 non-null     object  \n",
            " 1   STATION_LATITUDE       49 non-null     float64 \n",
            " 2   STATION_LONGITUDE      49 non-null     float64 \n",
            " 3   OBJECT_TYPE            49 non-null     object  \n",
            " 4   OBJECT_TYPE_SHORTNAME  49 non-null     object  \n",
            " 5   CREATIONTIME           49 non-null     object  \n",
            " 6   geometry               49 non-null     geometry\n",
            "dtypes: float64(2), geometry(1), object(4)\n",
            "memory usage: 3.1+ KB\n"
          ]
        }
      ]
    },
    {
      "cell_type": "code",
      "source": [
        "zone_of_interest.info()"
      ],
      "metadata": {
        "colab": {
          "base_uri": "https://localhost:8080/"
        },
        "id": "EoVceoHK-q2P",
        "outputId": "e7871fd5-a7c7-4247-b5d9-9307192e7ab6"
      },
      "execution_count": 189,
      "outputs": [
        {
          "output_type": "stream",
          "name": "stdout",
          "text": [
            "<class 'geopandas.geodataframe.GeoDataFrame'>\n",
            "Int64Index: 7 entries, 15 to 566\n",
            "Data columns (total 7 columns):\n",
            " #   Column                 Non-Null Count  Dtype   \n",
            "---  ------                 --------------  -----   \n",
            " 0   STATION_NO             7 non-null      object  \n",
            " 1   STATION_LATITUDE       7 non-null      float64 \n",
            " 2   STATION_LONGITUDE      7 non-null      float64 \n",
            " 3   OBJECT_TYPE            7 non-null      object  \n",
            " 4   OBJECT_TYPE_SHORTNAME  7 non-null      object  \n",
            " 5   CREATIONTIME           7 non-null      object  \n",
            " 6   geometry               7 non-null      geometry\n",
            "dtypes: float64(2), geometry(1), object(4)\n",
            "memory usage: 448.0+ bytes\n"
          ]
        }
      ]
    },
    {
      "cell_type": "code",
      "source": [
        "# plot the zone of interest for clear visualization\n",
        "zone_of_interest.plot(edgecolor = 'black') \n",
        "\n",
        "#plotting multi layers of hotspot, n_catchment and zone_of_interest dataframes \n",
        "fig,ax = plt.subplots(figsize=(20, 14), edgecolor='k')\n",
        "#world.plot(ax=ax, color='white', edgecolor='black')\n",
        "zone_of_interest.plot(ax=ax, cmap='hsv', edgecolor='red', column='OBJECT_TYPE')\n",
        "n_catchment.plot(ax=ax, edgecolor = 'black')\n",
        "hotspot_gdf.plot(ax=ax, edgecolor = 'green')"
      ],
      "metadata": {
        "colab": {
          "base_uri": "https://localhost:8080/",
          "height": 500
        },
        "id": "gdip_eCb25ZW",
        "outputId": "b709dd58-ba3d-4b6e-a6c6-d55597c62fef"
      },
      "execution_count": 190,
      "outputs": [
        {
          "output_type": "execute_result",
          "data": {
            "text/plain": [
              "<matplotlib.axes._subplots.AxesSubplot at 0x7f515b77e590>"
            ]
          },
          "metadata": {},
          "execution_count": 190
        },
        {
          "output_type": "display_data",
          "data": {
            "text/plain": [
              "<Figure size 432x288 with 1 Axes>"
            ],
            "image/png": "[encoded data removed]"
          },
          "metadata": {
            "needs_background": "light"
          }
        },
        {
          "output_type": "display_data",
          "data": {
            "text/plain": [
              "<Figure size 1440x1008 with 1 Axes>"
            ],
            "image/png": "[encoded data removed]"
          },
          "metadata": {
            "needs_background": "light"
          }
        }
      ]
    },
    {
      "cell_type": "markdown",
      "source": [
        "### Insight\n",
        "\n",
        "\n",
        "*   The Non-optimized rainfall data has been broken into zone_of_interest, n_catchment and hotspot dataframes. \n",
        "\n",
        "*   A geometry column was created in each of them with their 'STATION_AREA_WKT' and pairs of longitudes and latitudes, to qualify them for GeoPandas GeoDataFrames. The info() function shows these created columns.\n",
        "\n",
        "\n",
        "*   The station-area-wkt columns were removed.\n",
        "\n",
        "*   GeoPandas GeoDataFrame for the Hotspot is now called 'hotspot_gdf'.  \n",
        "\n",
        "In the plot above, the zones of interest are defined by the red-edged colour. The catchments are defined by the black-edged colour.The hotspots are the green-edged spots.\n",
        "\n",
        "A group of Hotspots can be found in a Catchment and group of Catchments in a Zone of interest.\n",
        "\n",
        "*   The little plot at the top gives the full visual of the zone of interest.\n",
        "\n",
        "\n"
      ],
      "metadata": {
        "id": "4brmJDe5HG-A"
      }
    },
    {
      "cell_type": "markdown",
      "metadata": {
        "id": "X5ACJ7vtIM2V"
      },
      "source": [
        "## 3. Create geometry column in the optimized data\n",
        "\n",
        "*   get the reference geometry values from the STATION_AREA_WKT in optimized_rainfall_object_20229.csv.This geometry will be a polygon and have many points."
      ]
    },
    {
      "cell_type": "code",
      "execution_count": 191,
      "metadata": {
        "colab": {
          "base_uri": "https://localhost:8080/",
          "height": 389
        },
        "id": "u7cljF2xIPy-",
        "outputId": "11fbab56-ed16-4a30-fd9c-6d1daff1aeed"
      },
      "outputs": [
        {
          "output_type": "stream",
          "name": "stdout",
          "text": [
            "Datatype is; <class 'geopandas.geodataframe.GeoDataFrame'>\n",
            "Shape is: (90, 7)\n",
            "None\n"
          ]
        },
        {
          "output_type": "execute_result",
          "data": {
            "text/plain": [
              "                               STATION_NO  STATION_LATITUDE  \\\n",
              "0  CM53010213-cbd2-4f6d-b3ca-48380c1a9182         50.890245   \n",
              "1  CM145cd21b-3329-4d9f-b44c-14da1a9824a2         51.146506   \n",
              "2  CM1f9fd786-9dcd-4a88-9fd7-14ebf61ad0b2         50.794966   \n",
              "3  CMae692cd6-fefe-4e1b-8777-25a90d8017fa         51.112963   \n",
              "4  CM17f5cc28-e241-4bef-9afb-4b1fdbe2deba         51.336560   \n",
              "\n",
              "   STATION_LONGITUDE OBJECT_TYPE OBJECT_TYPE_SHORTNAME  \\\n",
              "0           0.557153   Catchment                    CM   \n",
              "1          -0.004037   Catchment                    CM   \n",
              "2          -1.023181   Catchment                    CM   \n",
              "3           0.183215   Catchment                    CM   \n",
              "4           1.369312   Catchment                    CM   \n",
              "\n",
              "              CREATIONTIME                                           geometry  \n",
              "0  2022-03-23 18:02:52.000  POLYGON ((0.55538 50.88834, 0.55589 50.88935, ...  \n",
              "1  2022-03-23 18:02:52.000  POLYGON ((-0.01021 51.14791, -0.00357 51.14734...  \n",
              "2  2022-03-23 18:02:53.000  POLYGON ((-1.01676 50.79210, -1.01733 50.79221...  \n",
              "3  2022-03-23 18:02:54.000  POLYGON ((0.18672 51.11561, 0.18656 51.11552, ...  \n",
              "4  2022-03-23 18:02:54.000  POLYGON ((1.38138 51.33300, 1.38128 51.33304, ...  "
            ],
            "text/html": [
              "\n",
              "  <div id=\"df-bf6a7175-8aad-4c2f-b872-d6ed6557bf70\">\n",
              "    <div class=\"colab-df-container\">\n",
              "      <div>\n",
              "<style scoped>\n",
              "    .dataframe tbody tr th:only-of-type {\n",
              "        vertical-align: middle;\n",
              "    }\n",
              "\n",
              "    .dataframe tbody tr th {\n",
              "        vertical-align: top;\n",
              "    }\n",
              "\n",
              "    .dataframe thead th {\n",
              "        text-align: right;\n",
              "    }\n",
              "</style>\n",
              "<table border=\"1\" class=\"dataframe\">\n",
              "  <thead>\n",
              "    <tr style=\"text-align: right;\">\n",
              "      <th></th>\n",
              "      <th>STATION_NO</th>\n",
              "      <th>STATION_LATITUDE</th>\n",
              "      <th>STATION_LONGITUDE</th>\n",
              "      <th>OBJECT_TYPE</th>\n",
              "      <th>OBJECT_TYPE_SHORTNAME</th>\n",
              "      <th>CREATIONTIME</th>\n",
              "      <th>geometry</th>\n",
              "    </tr>\n",
              "  </thead>\n",
              "  <tbody>\n",
              "    <tr>\n",
              "      <th>0</th>\n",
              "      <td>CM53010213-cbd2-4f6d-b3ca-48380c1a9182</td>\n",
              "      <td>50.890245</td>\n",
              "      <td>0.557153</td>\n",
              "      <td>Catchment</td>\n",
              "      <td>CM</td>\n",
              "      <td>2022-03-23 18:02:52.000</td>\n",
              "      <td>POLYGON ((0.55538 50.88834, 0.55589 50.88935, ...</td>\n",
              "    </tr>\n",
              "    <tr>\n",
              "      <th>1</th>\n",
              "      <td>CM145cd21b-3329-4d9f-b44c-14da1a9824a2</td>\n",
              "      <td>51.146506</td>\n",
              "      <td>-0.004037</td>\n",
              "      <td>Catchment</td>\n",
              "      <td>CM</td>\n",
              "      <td>2022-03-23 18:02:52.000</td>\n",
              "      <td>POLYGON ((-0.01021 51.14791, -0.00357 51.14734...</td>\n",
              "    </tr>\n",
              "    <tr>\n",
              "      <th>2</th>\n",
              "      <td>CM1f9fd786-9dcd-4a88-9fd7-14ebf61ad0b2</td>\n",
              "      <td>50.794966</td>\n",
              "      <td>-1.023181</td>\n",
              "      <td>Catchment</td>\n",
              "      <td>CM</td>\n",
              "      <td>2022-03-23 18:02:53.000</td>\n",
              "      <td>POLYGON ((-1.01676 50.79210, -1.01733 50.79221...</td>\n",
              "    </tr>\n",
              "    <tr>\n",
              "      <th>3</th>\n",
              "      <td>CMae692cd6-fefe-4e1b-8777-25a90d8017fa</td>\n",
              "      <td>51.112963</td>\n",
              "      <td>0.183215</td>\n",
              "      <td>Catchment</td>\n",
              "      <td>CM</td>\n",
              "      <td>2022-03-23 18:02:54.000</td>\n",
              "      <td>POLYGON ((0.18672 51.11561, 0.18656 51.11552, ...</td>\n",
              "    </tr>\n",
              "    <tr>\n",
              "      <th>4</th>\n",
              "      <td>CM17f5cc28-e241-4bef-9afb-4b1fdbe2deba</td>\n",
              "      <td>51.336560</td>\n",
              "      <td>1.369312</td>\n",
              "      <td>Catchment</td>\n",
              "      <td>CM</td>\n",
              "      <td>2022-03-23 18:02:54.000</td>\n",
              "      <td>POLYGON ((1.38138 51.33300, 1.38128 51.33304, ...</td>\n",
              "    </tr>\n",
              "  </tbody>\n",
              "</table>\n",
              "</div>\n",
              "      <button class=\"colab-df-convert\" onclick=\"convertToInteractive('df-bf6a7175-8aad-4c2f-b872-d6ed6557bf70')\"\n",
              "              title=\"Convert this dataframe to an interactive table.\"\n",
              "              style=\"display:none;\">\n",
              "        \n",
              "  <svg xmlns=\"http://www.w3.org/2000/svg\" height=\"24px\"viewBox=\"0 0 24 24\"\n",
              "       width=\"24px\">\n",
              "    <path d=\"M0 0h24v24H0V0z\" fill=\"none\"/>\n",
              "    <path d=\"M18.56 5.44l.94 2.06.94-2.06 2.06-.94-2.06-.94-.94-2.06-.94 2.06-2.06.94zm-11 1L8.5 8.5l.94-2.06 2.06-.94-2.06-.94L8.5 2.5l-.94 2.06-2.06.94zm10 10l.94 2.06.94-2.06 2.06-.94-2.06-.94-.94-2.06-.94 2.06-2.06.94z\"/><path d=\"M17.41 7.96l-1.37-1.37c-.4-.4-.92-.59-1.43-.59-.52 0-1.04.2-1.43.59L10.3 9.45l-7.72 7.72c-.78.78-.78 2.05 0 2.83L4 21.41c.39.39.9.59 1.41.59.51 0 1.02-.2 1.41-.59l7.78-7.78 2.81-2.81c.8-.78.8-2.07 0-2.86zM5.41 20L4 18.59l7.72-7.72 1.47 1.35L5.41 20z\"/>\n",
              "  </svg>\n",
              "      </button>\n",
              "      \n",
              "  <style>\n",
              "    .colab-df-container {\n",
              "      display:flex;\n",
              "      flex-wrap:wrap;\n",
              "      gap: 12px;\n",
              "    }\n",
              "\n",
              "    .colab-df-convert {\n",
              "      background-color: #E8F0FE;\n",
              "      border: none;\n",
              "      border-radius: 50%;\n",
              "      cursor: pointer;\n",
              "      display: none;\n",
              "      fill: #1967D2;\n",
              "      height: 32px;\n",
              "      padding: 0 0 0 0;\n",
              "      width: 32px;\n",
              "    }\n",
              "\n",
              "    .colab-df-convert:hover {\n",
              "      background-color: #E2EBFA;\n",
              "      box-shadow: 0px 1px 2px rgba(60, 64, 67, 0.3), 0px 1px 3px 1px rgba(60, 64, 67, 0.15);\n",
              "      fill: #174EA6;\n",
              "    }\n",
              "\n",
              "    [theme=dark] .colab-df-convert {\n",
              "      background-color: #3B4455;\n",
              "      fill: #D2E3FC;\n",
              "    }\n",
              "\n",
              "    [theme=dark] .colab-df-convert:hover {\n",
              "      background-color: #434B5C;\n",
              "      box-shadow: 0px 1px 3px 1px rgba(0, 0, 0, 0.15);\n",
              "      filter: drop-shadow(0px 1px 2px rgba(0, 0, 0, 0.3));\n",
              "      fill: #FFFFFF;\n",
              "    }\n",
              "  </style>\n",
              "\n",
              "      <script>\n",
              "        const buttonEl =\n",
              "          document.querySelector('#df-bf6a7175-8aad-4c2f-b872-d6ed6557bf70 button.colab-df-convert');\n",
              "        buttonEl.style.display =\n",
              "          google.colab.kernel.accessAllowed ? 'block' : 'none';\n",
              "\n",
              "        async function convertToInteractive(key) {\n",
              "          const element = document.querySelector('#df-bf6a7175-8aad-4c2f-b872-d6ed6557bf70');\n",
              "          const dataTable =\n",
              "            await google.colab.kernel.invokeFunction('convertToInteractive',\n",
              "                                                     [key], {});\n",
              "          if (!dataTable) return;\n",
              "\n",
              "          const docLinkHtml = 'Like what you see? Visit the ' +\n",
              "            '<a target=\"_blank\" href=https://colab.research.google.com/notebooks/data_table.ipynb>data table notebook</a>'\n",
              "            + ' to learn more about interactive tables.';\n",
              "          element.innerHTML = '';\n",
              "          dataTable['output_type'] = 'display_data';\n",
              "          await google.colab.output.renderOutput(dataTable, element);\n",
              "          const docLink = document.createElement('div');\n",
              "          docLink.innerHTML = docLinkHtml;\n",
              "          element.appendChild(docLink);\n",
              "        }\n",
              "      </script>\n",
              "    </div>\n",
              "  </div>\n",
              "  "
            ]
          },
          "metadata": {},
          "execution_count": 191
        }
      ],
      "source": [
        "optimized['geometry'] = optimized.STATION_AREA_WKT.apply(wkt.loads)\n",
        "optimized.drop('STATION_AREA_WKT', axis=1, inplace=True) #Drop WKT column\n",
        "\n",
        "# Geopandas GeoDataFrame\n",
        "optimized_gdf = gpd.GeoDataFrame(optimized, geometry='geometry')\n",
        "print('Datatype is;', type(optimized_gdf))\n",
        "print('Shape is:', optimized_gdf.shape)\n",
        "print(optimized_gdf.crs)\n",
        "optimized_gdf.head()"
      ]
    },
    {
      "cell_type": "code",
      "execution_count": 192,
      "metadata": {
        "colab": {
          "base_uri": "https://localhost:8080/"
        },
        "id": "ZikvGLqIIVF5",
        "outputId": "66175aee-5656-4106-ce7f-086ef8e64473"
      },
      "outputs": [
        {
          "output_type": "stream",
          "name": "stdout",
          "text": [
            "<class 'geopandas.geodataframe.GeoDataFrame'>\n",
            "RangeIndex: 90 entries, 0 to 89\n",
            "Data columns (total 7 columns):\n",
            " #   Column                 Non-Null Count  Dtype   \n",
            "---  ------                 --------------  -----   \n",
            " 0   STATION_NO             90 non-null     object  \n",
            " 1   STATION_LATITUDE       90 non-null     float64 \n",
            " 2   STATION_LONGITUDE      90 non-null     float64 \n",
            " 3   OBJECT_TYPE            90 non-null     object  \n",
            " 4   OBJECT_TYPE_SHORTNAME  90 non-null     object  \n",
            " 5   CREATIONTIME           90 non-null     object  \n",
            " 6   geometry               90 non-null     geometry\n",
            "dtypes: float64(2), geometry(1), object(4)\n",
            "memory usage: 5.0+ KB\n"
          ]
        }
      ],
      "source": [
        "optimized_gdf.info()"
      ]
    },
    {
      "cell_type": "markdown",
      "metadata": {
        "id": "Dyhdbd-3nJeO"
      },
      "source": [
        "The station-area-wkt column in the Optiimized dataframe consisted of inactive geometries (POLYGONS). \n",
        "\n",
        "*   This has been converted to an active geometry column, and the latter has been removed from the dataframe. \n",
        "\n",
        "*   The dataframe became a GeoPandas GeoDataFrame, called optimized_gdf, as a result. This can be seen as shown by the info() function."
      ]
    },
    {
      "cell_type": "markdown",
      "metadata": {
        "id": "K7-t_E8TC26K"
      },
      "source": [
        "### Convert the GeoPandas GeoDataFrame to an ESRI Shapefile\n",
        "\n",
        "\n"
      ]
    },
    {
      "cell_type": "code",
      "execution_count": 193,
      "metadata": {
        "colab": {
          "base_uri": "https://localhost:8080/"
        },
        "id": "vqojQ6elItoC",
        "outputId": "1d910fc4-3f13-4066-f526-34c48e4c727b"
      },
      "outputs": [
        {
          "output_type": "stream",
          "name": "stderr",
          "text": [
            "/usr/local/lib/python3.7/dist-packages/ipykernel_launcher.py:5: UserWarning:\n",
            "\n",
            "Column names longer than 10 characters will be truncated when saved to ESRI Shapefile.\n",
            "\n",
            "WARNING:fiona._env:Normalized/laundered field name: 'STATION_LATITUDE' to 'STATION_LA'\n",
            "WARNING:fiona._env:Normalized/laundered field name: 'STATION_LONGITUDE' to 'STATION_LO'\n",
            "WARNING:fiona._env:Normalized/laundered field name: 'OBJECT_TYPE' to 'OBJECT_TYP'\n",
            "WARNING:fiona._env:Normalized/laundered field name: 'OBJECT_TYPE_SHORTNAME' to 'OBJECT_T_1'\n",
            "WARNING:fiona._env:Normalized/laundered field name: 'CREATIONTIME' to 'CREATIONTI'\n",
            "/usr/local/lib/python3.7/dist-packages/ipykernel_launcher.py:6: UserWarning:\n",
            "\n",
            "Column names longer than 10 characters will be truncated when saved to ESRI Shapefile.\n",
            "\n",
            "WARNING:fiona._env:Normalized/laundered field name: 'STATION_LATITUDE' to 'STATION_LA'\n",
            "WARNING:fiona._env:Normalized/laundered field name: 'STATION_LONGITUDE' to 'STATION_LO'\n",
            "WARNING:fiona._env:Normalized/laundered field name: 'OBJECT_TYPE' to 'OBJECT_TYP'\n",
            "WARNING:fiona._env:Normalized/laundered field name: 'OBJECT_TYPE_SHORTNAME' to 'OBJECT_T_1'\n",
            "WARNING:fiona._env:Normalized/laundered field name: 'CREATIONTIME' to 'CREATIONTI'\n"
          ]
        }
      ],
      "source": [
        "#save the file as an ESRI shapefile\n",
        "hotspot_gdf.crs = \"EPSG:4326\"\n",
        "optimized_gdf.crs = \"EPSG:4326\"\n",
        "\n",
        "optimized_gdf.to_file(filename = 'optimized_gdf.shp', driver = 'ESRI Shapefile')\n",
        "hotspot_gdf.to_file(filename = 'hotspot_gdf.shp', driver = 'ESRI Shapefile')"
      ]
    },
    {
      "cell_type": "markdown",
      "metadata": {
        "id": "d2kkpoaoDK5V"
      },
      "source": [
        "### Read ESRI *Shapefiles* into GeoPandas GeoDataFrame"
      ]
    },
    {
      "cell_type": "code",
      "execution_count": 194,
      "metadata": {
        "id": "gfVXiTRvIwOf"
      },
      "outputs": [],
      "source": [
        "# Reload the data in shp (ESRI shapefile) format\n",
        "optimized_shp = gpd.read_file(r'optimized_gdf.shp')\n",
        "hotspot_shp = gpd.read_file(r'hotspot_gdf.shp')\n",
        "\n",
        "# drop unnecessary columns\n",
        "optimized_shp = optimized_shp.drop(['OBJECT_T_1',\t'CREATIONTI'], axis = 1)\n",
        "hotspot_shp = hotspot_shp.drop(['OBJECT_T_1',\t'CREATIONTI'], axis = 1)\n",
        "\n",
        "# Set the station number column as the index\n",
        "optimized_shp = optimized_shp.set_index(\"STATION_NO\")\n",
        "hotspot_shp = hotspot_shp.set_index(\"STATION_NO\")\n"
      ]
    },
    {
      "cell_type": "code",
      "execution_count": 195,
      "metadata": {
        "colab": {
          "base_uri": "https://localhost:8080/",
          "height": 272
        },
        "id": "iyto-B3dJABJ",
        "outputId": "d4dd2ff3-fc6f-49d5-e876-26666dc291bb"
      },
      "outputs": [
        {
          "output_type": "stream",
          "name": "stdout",
          "text": [
            "epsg:4326\n",
            "(541, 4)\n"
          ]
        },
        {
          "output_type": "execute_result",
          "data": {
            "text/plain": [
              "                                        STATION_LA  STATION_LO OBJECT_TYP  \\\n",
              "STATION_NO                                                                  \n",
              "HSadee6548-d797-49a3-a2a0-b7e8348f0b27   51.130919    1.317469    Hotspot   \n",
              "HSfd30138a-5a83-450a-81d3-7d1335d69c09   50.846194   -1.055814    Hotspot   \n",
              "HSefb5e85c-71f8-42a4-b529-44cdd306486d   50.839552   -1.044914    Hotspot   \n",
              "HS9037443f-c430-4468-86b8-8c2c0362e1c6   51.416060    0.752698    Hotspot   \n",
              "HS27e9d11e-c6ce-4e8f-ba3a-aac71fd09ff3   50.824115   -0.426342    Hotspot   \n",
              "\n",
              "                                                         geometry  \n",
              "STATION_NO                                                         \n",
              "HSadee6548-d797-49a3-a2a0-b7e8348f0b27   POINT (1.31747 51.13092)  \n",
              "HSfd30138a-5a83-450a-81d3-7d1335d69c09  POINT (-1.05581 50.84619)  \n",
              "HSefb5e85c-71f8-42a4-b529-44cdd306486d  POINT (-1.04491 50.83955)  \n",
              "HS9037443f-c430-4468-86b8-8c2c0362e1c6   POINT (0.75270 51.41606)  \n",
              "HS27e9d11e-c6ce-4e8f-ba3a-aac71fd09ff3  POINT (-0.42634 50.82411)  "
            ],
            "text/html": [
              "\n",
              "  <div id=\"df-30c312a3-98cb-4492-8959-c075b26bc775\">\n",
              "    <div class=\"colab-df-container\">\n",
              "      <div>\n",
              "<style scoped>\n",
              "    .dataframe tbody tr th:only-of-type {\n",
              "        vertical-align: middle;\n",
              "    }\n",
              "\n",
              "    .dataframe tbody tr th {\n",
              "        vertical-align: top;\n",
              "    }\n",
              "\n",
              "    .dataframe thead th {\n",
              "        text-align: right;\n",
              "    }\n",
              "</style>\n",
              "<table border=\"1\" class=\"dataframe\">\n",
              "  <thead>\n",
              "    <tr style=\"text-align: right;\">\n",
              "      <th></th>\n",
              "      <th>STATION_LA</th>\n",
              "      <th>STATION_LO</th>\n",
              "      <th>OBJECT_TYP</th>\n",
              "      <th>geometry</th>\n",
              "    </tr>\n",
              "    <tr>\n",
              "      <th>STATION_NO</th>\n",
              "      <th></th>\n",
              "      <th></th>\n",
              "      <th></th>\n",
              "      <th></th>\n",
              "    </tr>\n",
              "  </thead>\n",
              "  <tbody>\n",
              "    <tr>\n",
              "      <th>HSadee6548-d797-49a3-a2a0-b7e8348f0b27</th>\n",
              "      <td>51.130919</td>\n",
              "      <td>1.317469</td>\n",
              "      <td>Hotspot</td>\n",
              "      <td>POINT (1.31747 51.13092)</td>\n",
              "    </tr>\n",
              "    <tr>\n",
              "      <th>HSfd30138a-5a83-450a-81d3-7d1335d69c09</th>\n",
              "      <td>50.846194</td>\n",
              "      <td>-1.055814</td>\n",
              "      <td>Hotspot</td>\n",
              "      <td>POINT (-1.05581 50.84619)</td>\n",
              "    </tr>\n",
              "    <tr>\n",
              "      <th>HSefb5e85c-71f8-42a4-b529-44cdd306486d</th>\n",
              "      <td>50.839552</td>\n",
              "      <td>-1.044914</td>\n",
              "      <td>Hotspot</td>\n",
              "      <td>POINT (-1.04491 50.83955)</td>\n",
              "    </tr>\n",
              "    <tr>\n",
              "      <th>HS9037443f-c430-4468-86b8-8c2c0362e1c6</th>\n",
              "      <td>51.416060</td>\n",
              "      <td>0.752698</td>\n",
              "      <td>Hotspot</td>\n",
              "      <td>POINT (0.75270 51.41606)</td>\n",
              "    </tr>\n",
              "    <tr>\n",
              "      <th>HS27e9d11e-c6ce-4e8f-ba3a-aac71fd09ff3</th>\n",
              "      <td>50.824115</td>\n",
              "      <td>-0.426342</td>\n",
              "      <td>Hotspot</td>\n",
              "      <td>POINT (-0.42634 50.82411)</td>\n",
              "    </tr>\n",
              "  </tbody>\n",
              "</table>\n",
              "</div>\n",
              "      <button class=\"colab-df-convert\" onclick=\"convertToInteractive('df-30c312a3-98cb-4492-8959-c075b26bc775')\"\n",
              "              title=\"Convert this dataframe to an interactive table.\"\n",
              "              style=\"display:none;\">\n",
              "        \n",
              "  <svg xmlns=\"http://www.w3.org/2000/svg\" height=\"24px\"viewBox=\"0 0 24 24\"\n",
              "       width=\"24px\">\n",
              "    <path d=\"M0 0h24v24H0V0z\" fill=\"none\"/>\n",
              "    <path d=\"M18.56 5.44l.94 2.06.94-2.06 2.06-.94-2.06-.94-.94-2.06-.94 2.06-2.06.94zm-11 1L8.5 8.5l.94-2.06 2.06-.94-2.06-.94L8.5 2.5l-.94 2.06-2.06.94zm10 10l.94 2.06.94-2.06 2.06-.94-2.06-.94-.94-2.06-.94 2.06-2.06.94z\"/><path d=\"M17.41 7.96l-1.37-1.37c-.4-.4-.92-.59-1.43-.59-.52 0-1.04.2-1.43.59L10.3 9.45l-7.72 7.72c-.78.78-.78 2.05 0 2.83L4 21.41c.39.39.9.59 1.41.59.51 0 1.02-.2 1.41-.59l7.78-7.78 2.81-2.81c.8-.78.8-2.07 0-2.86zM5.41 20L4 18.59l7.72-7.72 1.47 1.35L5.41 20z\"/>\n",
              "  </svg>\n",
              "      </button>\n",
              "      \n",
              "  <style>\n",
              "    .colab-df-container {\n",
              "      display:flex;\n",
              "      flex-wrap:wrap;\n",
              "      gap: 12px;\n",
              "    }\n",
              "\n",
              "    .colab-df-convert {\n",
              "      background-color: #E8F0FE;\n",
              "      border: none;\n",
              "      border-radius: 50%;\n",
              "      cursor: pointer;\n",
              "      display: none;\n",
              "      fill: #1967D2;\n",
              "      height: 32px;\n",
              "      padding: 0 0 0 0;\n",
              "      width: 32px;\n",
              "    }\n",
              "\n",
              "    .colab-df-convert:hover {\n",
              "      background-color: #E2EBFA;\n",
              "      box-shadow: 0px 1px 2px rgba(60, 64, 67, 0.3), 0px 1px 3px 1px rgba(60, 64, 67, 0.15);\n",
              "      fill: #174EA6;\n",
              "    }\n",
              "\n",
              "    [theme=dark] .colab-df-convert {\n",
              "      background-color: #3B4455;\n",
              "      fill: #D2E3FC;\n",
              "    }\n",
              "\n",
              "    [theme=dark] .colab-df-convert:hover {\n",
              "      background-color: #434B5C;\n",
              "      box-shadow: 0px 1px 3px 1px rgba(0, 0, 0, 0.15);\n",
              "      filter: drop-shadow(0px 1px 2px rgba(0, 0, 0, 0.3));\n",
              "      fill: #FFFFFF;\n",
              "    }\n",
              "  </style>\n",
              "\n",
              "      <script>\n",
              "        const buttonEl =\n",
              "          document.querySelector('#df-30c312a3-98cb-4492-8959-c075b26bc775 button.colab-df-convert');\n",
              "        buttonEl.style.display =\n",
              "          google.colab.kernel.accessAllowed ? 'block' : 'none';\n",
              "\n",
              "        async function convertToInteractive(key) {\n",
              "          const element = document.querySelector('#df-30c312a3-98cb-4492-8959-c075b26bc775');\n",
              "          const dataTable =\n",
              "            await google.colab.kernel.invokeFunction('convertToInteractive',\n",
              "                                                     [key], {});\n",
              "          if (!dataTable) return;\n",
              "\n",
              "          const docLinkHtml = 'Like what you see? Visit the ' +\n",
              "            '<a target=\"_blank\" href=https://colab.research.google.com/notebooks/data_table.ipynb>data table notebook</a>'\n",
              "            + ' to learn more about interactive tables.';\n",
              "          element.innerHTML = '';\n",
              "          dataTable['output_type'] = 'display_data';\n",
              "          await google.colab.output.renderOutput(dataTable, element);\n",
              "          const docLink = document.createElement('div');\n",
              "          docLink.innerHTML = docLinkHtml;\n",
              "          element.appendChild(docLink);\n",
              "        }\n",
              "      </script>\n",
              "    </div>\n",
              "  </div>\n",
              "  "
            ]
          },
          "metadata": {},
          "execution_count": 195
        }
      ],
      "source": [
        "print(hotspot_shp.crs)\n",
        "print(hotspot_shp.shape)\n",
        "hotspot_shp.head()"
      ]
    },
    {
      "cell_type": "code",
      "execution_count": 196,
      "metadata": {
        "colab": {
          "base_uri": "https://localhost:8080/",
          "height": 272
        },
        "id": "CrPhDFmxJBrC",
        "outputId": "e6b41672-a7cf-4964-8628-255daae281fb"
      },
      "outputs": [
        {
          "output_type": "stream",
          "name": "stdout",
          "text": [
            "epsg:4326\n",
            "(90, 4)\n"
          ]
        },
        {
          "output_type": "execute_result",
          "data": {
            "text/plain": [
              "                                        STATION_LA  STATION_LO OBJECT_TYP  \\\n",
              "STATION_NO                                                                  \n",
              "CM53010213-cbd2-4f6d-b3ca-48380c1a9182   50.890245    0.557153  Catchment   \n",
              "CM145cd21b-3329-4d9f-b44c-14da1a9824a2   51.146506   -0.004037  Catchment   \n",
              "CM1f9fd786-9dcd-4a88-9fd7-14ebf61ad0b2   50.794966   -1.023181  Catchment   \n",
              "CMae692cd6-fefe-4e1b-8777-25a90d8017fa   51.112963    0.183215  Catchment   \n",
              "CM17f5cc28-e241-4bef-9afb-4b1fdbe2deba   51.336560    1.369312  Catchment   \n",
              "\n",
              "                                                                                 geometry  \n",
              "STATION_NO                                                                                 \n",
              "CM53010213-cbd2-4f6d-b3ca-48380c1a9182  POLYGON ((0.55538 50.88834, 0.55589 50.88935, ...  \n",
              "CM145cd21b-3329-4d9f-b44c-14da1a9824a2  POLYGON ((-0.01021 51.14791, -0.00357 51.14734...  \n",
              "CM1f9fd786-9dcd-4a88-9fd7-14ebf61ad0b2  POLYGON ((-1.01676 50.79210, -1.01676 50.79208...  \n",
              "CMae692cd6-fefe-4e1b-8777-25a90d8017fa  POLYGON ((0.18672 51.11561, 0.18656 51.11552, ...  \n",
              "CM17f5cc28-e241-4bef-9afb-4b1fdbe2deba  POLYGON ((1.38138 51.33300, 1.37961 51.33247, ...  "
            ],
            "text/html": [
              "\n",
              "  <div id=\"df-67c251f1-331c-4eb9-8a97-2e10927c227d\">\n",
              "    <div class=\"colab-df-container\">\n",
              "      <div>\n",
              "<style scoped>\n",
              "    .dataframe tbody tr th:only-of-type {\n",
              "        vertical-align: middle;\n",
              "    }\n",
              "\n",
              "    .dataframe tbody tr th {\n",
              "        vertical-align: top;\n",
              "    }\n",
              "\n",
              "    .dataframe thead th {\n",
              "        text-align: right;\n",
              "    }\n",
              "</style>\n",
              "<table border=\"1\" class=\"dataframe\">\n",
              "  <thead>\n",
              "    <tr style=\"text-align: right;\">\n",
              "      <th></th>\n",
              "      <th>STATION_LA</th>\n",
              "      <th>STATION_LO</th>\n",
              "      <th>OBJECT_TYP</th>\n",
              "      <th>geometry</th>\n",
              "    </tr>\n",
              "    <tr>\n",
              "      <th>STATION_NO</th>\n",
              "      <th></th>\n",
              "      <th></th>\n",
              "      <th></th>\n",
              "      <th></th>\n",
              "    </tr>\n",
              "  </thead>\n",
              "  <tbody>\n",
              "    <tr>\n",
              "      <th>CM53010213-cbd2-4f6d-b3ca-48380c1a9182</th>\n",
              "      <td>50.890245</td>\n",
              "      <td>0.557153</td>\n",
              "      <td>Catchment</td>\n",
              "      <td>POLYGON ((0.55538 50.88834, 0.55589 50.88935, ...</td>\n",
              "    </tr>\n",
              "    <tr>\n",
              "      <th>CM145cd21b-3329-4d9f-b44c-14da1a9824a2</th>\n",
              "      <td>51.146506</td>\n",
              "      <td>-0.004037</td>\n",
              "      <td>Catchment</td>\n",
              "      <td>POLYGON ((-0.01021 51.14791, -0.00357 51.14734...</td>\n",
              "    </tr>\n",
              "    <tr>\n",
              "      <th>CM1f9fd786-9dcd-4a88-9fd7-14ebf61ad0b2</th>\n",
              "      <td>50.794966</td>\n",
              "      <td>-1.023181</td>\n",
              "      <td>Catchment</td>\n",
              "      <td>POLYGON ((-1.01676 50.79210, -1.01676 50.79208...</td>\n",
              "    </tr>\n",
              "    <tr>\n",
              "      <th>CMae692cd6-fefe-4e1b-8777-25a90d8017fa</th>\n",
              "      <td>51.112963</td>\n",
              "      <td>0.183215</td>\n",
              "      <td>Catchment</td>\n",
              "      <td>POLYGON ((0.18672 51.11561, 0.18656 51.11552, ...</td>\n",
              "    </tr>\n",
              "    <tr>\n",
              "      <th>CM17f5cc28-e241-4bef-9afb-4b1fdbe2deba</th>\n",
              "      <td>51.336560</td>\n",
              "      <td>1.369312</td>\n",
              "      <td>Catchment</td>\n",
              "      <td>POLYGON ((1.38138 51.33300, 1.37961 51.33247, ...</td>\n",
              "    </tr>\n",
              "  </tbody>\n",
              "</table>\n",
              "</div>\n",
              "      <button class=\"colab-df-convert\" onclick=\"convertToInteractive('df-67c251f1-331c-4eb9-8a97-2e10927c227d')\"\n",
              "              title=\"Convert this dataframe to an interactive table.\"\n",
              "              style=\"display:none;\">\n",
              "        \n",
              "  <svg xmlns=\"http://www.w3.org/2000/svg\" height=\"24px\"viewBox=\"0 0 24 24\"\n",
              "       width=\"24px\">\n",
              "    <path d=\"M0 0h24v24H0V0z\" fill=\"none\"/>\n",
              "    <path d=\"M18.56 5.44l.94 2.06.94-2.06 2.06-.94-2.06-.94-.94-2.06-.94 2.06-2.06.94zm-11 1L8.5 8.5l.94-2.06 2.06-.94-2.06-.94L8.5 2.5l-.94 2.06-2.06.94zm10 10l.94 2.06.94-2.06 2.06-.94-2.06-.94-.94-2.06-.94 2.06-2.06.94z\"/><path d=\"M17.41 7.96l-1.37-1.37c-.4-.4-.92-.59-1.43-.59-.52 0-1.04.2-1.43.59L10.3 9.45l-7.72 7.72c-.78.78-.78 2.05 0 2.83L4 21.41c.39.39.9.59 1.41.59.51 0 1.02-.2 1.41-.59l7.78-7.78 2.81-2.81c.8-.78.8-2.07 0-2.86zM5.41 20L4 18.59l7.72-7.72 1.47 1.35L5.41 20z\"/>\n",
              "  </svg>\n",
              "      </button>\n",
              "      \n",
              "  <style>\n",
              "    .colab-df-container {\n",
              "      display:flex;\n",
              "      flex-wrap:wrap;\n",
              "      gap: 12px;\n",
              "    }\n",
              "\n",
              "    .colab-df-convert {\n",
              "      background-color: #E8F0FE;\n",
              "      border: none;\n",
              "      border-radius: 50%;\n",
              "      cursor: pointer;\n",
              "      display: none;\n",
              "      fill: #1967D2;\n",
              "      height: 32px;\n",
              "      padding: 0 0 0 0;\n",
              "      width: 32px;\n",
              "    }\n",
              "\n",
              "    .colab-df-convert:hover {\n",
              "      background-color: #E2EBFA;\n",
              "      box-shadow: 0px 1px 2px rgba(60, 64, 67, 0.3), 0px 1px 3px 1px rgba(60, 64, 67, 0.15);\n",
              "      fill: #174EA6;\n",
              "    }\n",
              "\n",
              "    [theme=dark] .colab-df-convert {\n",
              "      background-color: #3B4455;\n",
              "      fill: #D2E3FC;\n",
              "    }\n",
              "\n",
              "    [theme=dark] .colab-df-convert:hover {\n",
              "      background-color: #434B5C;\n",
              "      box-shadow: 0px 1px 3px 1px rgba(0, 0, 0, 0.15);\n",
              "      filter: drop-shadow(0px 1px 2px rgba(0, 0, 0, 0.3));\n",
              "      fill: #FFFFFF;\n",
              "    }\n",
              "  </style>\n",
              "\n",
              "      <script>\n",
              "        const buttonEl =\n",
              "          document.querySelector('#df-67c251f1-331c-4eb9-8a97-2e10927c227d button.colab-df-convert');\n",
              "        buttonEl.style.display =\n",
              "          google.colab.kernel.accessAllowed ? 'block' : 'none';\n",
              "\n",
              "        async function convertToInteractive(key) {\n",
              "          const element = document.querySelector('#df-67c251f1-331c-4eb9-8a97-2e10927c227d');\n",
              "          const dataTable =\n",
              "            await google.colab.kernel.invokeFunction('convertToInteractive',\n",
              "                                                     [key], {});\n",
              "          if (!dataTable) return;\n",
              "\n",
              "          const docLinkHtml = 'Like what you see? Visit the ' +\n",
              "            '<a target=\"_blank\" href=https://colab.research.google.com/notebooks/data_table.ipynb>data table notebook</a>'\n",
              "            + ' to learn more about interactive tables.';\n",
              "          element.innerHTML = '';\n",
              "          dataTable['output_type'] = 'display_data';\n",
              "          await google.colab.output.renderOutput(dataTable, element);\n",
              "          const docLink = document.createElement('div');\n",
              "          docLink.innerHTML = docLinkHtml;\n",
              "          element.appendChild(docLink);\n",
              "        }\n",
              "      </script>\n",
              "    </div>\n",
              "  </div>\n",
              "  "
            ]
          },
          "metadata": {},
          "execution_count": 196
        }
      ],
      "source": [
        "print(optimized_shp.crs)\n",
        "print(optimized_shp.shape)\n",
        "optimized_shp.head()"
      ]
    },
    {
      "cell_type": "markdown",
      "metadata": {
        "id": "4D65GoXGIZeN"
      },
      "source": [
        "## 4. Determine which points (Hotspots) fall within the polygons\n",
        "\n",
        "*   determine which point from step 2 fall within the polygon from step 3, the geopandas can be useful here"
      ]
    },
    {
      "cell_type": "code",
      "execution_count": 197,
      "metadata": {
        "colab": {
          "base_uri": "https://localhost:8080/",
          "height": 570
        },
        "id": "h5fHiRGSIb0s",
        "outputId": "9c565481-6e11-44be-bde3-9b80483efc66"
      },
      "outputs": [
        {
          "output_type": "execute_result",
          "data": {
            "text/plain": [
              "<matplotlib.axes._subplots.AxesSubplot at 0x7f515b6c7c50>"
            ]
          },
          "metadata": {},
          "execution_count": 197
        },
        {
          "output_type": "display_data",
          "data": {
            "text/plain": [
              "<Figure size 1440x1008 with 1 Axes>"
            ],
            "image/png": "[encoded data removed]"
          },
          "metadata": {
            "needs_background": "light"
          }
        }
      ],
      "source": [
        "#plotting multi layers of optimized and hotspot \n",
        "fig,ax = plt.subplots(figsize=(20, 14), edgecolor='k')\n",
        "hotspot_shp.plot(ax=ax, cmap='hsv', edgecolor='none', column='OBJECT_TYP')\n",
        "optimized_shp.plot(ax=ax, edgecolor = 'black')\n",
        "#map = folium.Map(location = [50.824115,-0.426342\t], tiles='OpenStreetMap' , zoom_start = 9)\n",
        "\n"
      ]
    },
    {
      "cell_type": "markdown",
      "metadata": {
        "id": "HQR17FZ9t2pG"
      },
      "source": [
        "The POINTS from the 'hotspot_gdf' that fall within the POLYGONS from the 'optimized_gdf' can be recognised in the plot above as those points where the red points (representing hotspots) intersect the black polygons (representing catchments)."
      ]
    },
    {
      "cell_type": "markdown",
      "metadata": {
        "id": "8ILnDDsAIkDe"
      },
      "source": [
        "## 5. Points (Hotspots) located inside the polygons (Catchments)\n",
        "\n",
        "*   send me a list of STATION_NO Ids for all the sites identified in step 4."
      ]
    },
    {
      "cell_type": "markdown",
      "metadata": {
        "id": "KwSX1M2Z2DjM"
      },
      "source": [
        "The following pairs of coordinates were hand-picked from exploring the data on kepler.gl\n",
        "\n",
        "1.   HSf1853941-a029-4cd2-bf85-6337b3a3446e- POINT (-1.321106 50.858857)\n",
        "\n",
        "2.   HSfcaf96e2-db37-427a-bde4-c2d407153429- POINT (-1.166267 50.726717)\n",
        "\n",
        "3.   HS0a4a592c-dbb3-4f11-a1d6-68920a910e92- POINT (0.286555 51.287484)\n",
        "\n",
        "4.   HS0446ab5b-5462-44c9-a216-b0a0850191d3- POINT (0.252288 51.2206).\n",
        "\n",
        "However, the code snippet below shows the distances between the POINTS and POLYGONS. Fair enough, the first four are the same points that were hand-picked.\n",
        "\n",
        "The 'STATION_NO' with to zero-distances are the POINTS (pairs of coordinated) located within (intersecting) the POLYGONS.\n",
        "\n",
        "\n"
      ]
    },
    {
      "cell_type": "code",
      "source": [
        "# the stations inside the polygon have zero distances\n",
        "hotspot_intersect_optimized = gpd.sjoin(hotspot_shp, optimized_shp)\n",
        "print(hotspot_intersect_optimized.shape)\n",
        "hotspot_intersect_optimized"
      ],
      "metadata": {
        "colab": {
          "base_uri": "https://localhost:8080/",
          "height": 340
        },
        "id": "GjiREUZQy3Xc",
        "outputId": "54a59bf0-402b-40ce-b2cb-b2d75950a795"
      },
      "execution_count": 198,
      "outputs": [
        {
          "output_type": "stream",
          "name": "stdout",
          "text": [
            "(3, 8)\n"
          ]
        },
        {
          "output_type": "execute_result",
          "data": {
            "text/plain": [
              "                                        STATION_LA_left  STATION_LO_left  \\\n",
              "STATION_NO                                                                 \n",
              "HSf1853941-a029-4cd2-bf85-6337b3a3446e        50.858857        -1.321106   \n",
              "HS0a4a592c-dbb3-4f11-a1d6-68920a910e92        51.287484         0.286555   \n",
              "HS0446ab5b-5462-44c9-a216-b0a0850191d3        51.220600         0.252288   \n",
              "\n",
              "                                       OBJECT_TYP_left  \\\n",
              "STATION_NO                                               \n",
              "HSf1853941-a029-4cd2-bf85-6337b3a3446e         Hotspot   \n",
              "HS0a4a592c-dbb3-4f11-a1d6-68920a910e92         Hotspot   \n",
              "HS0446ab5b-5462-44c9-a216-b0a0850191d3         Hotspot   \n",
              "\n",
              "                                                         geometry  \\\n",
              "STATION_NO                                                          \n",
              "HSf1853941-a029-4cd2-bf85-6337b3a3446e  POINT (-1.32111 50.85886)   \n",
              "HS0a4a592c-dbb3-4f11-a1d6-68920a910e92   POINT (0.28656 51.28748)   \n",
              "HS0446ab5b-5462-44c9-a216-b0a0850191d3   POINT (0.25229 51.22060)   \n",
              "\n",
              "                                                                   index_right  \\\n",
              "STATION_NO                                                                       \n",
              "HSf1853941-a029-4cd2-bf85-6337b3a3446e  CM2dc2b371-a0b5-4309-9a75-2a0e6d1e65ea   \n",
              "HS0a4a592c-dbb3-4f11-a1d6-68920a910e92  CM11dfcd06-63ed-461a-8b29-9f9690a585c6   \n",
              "HS0446ab5b-5462-44c9-a216-b0a0850191d3  CM347c6d5d-2c35-4a5c-a498-e173661b37dd   \n",
              "\n",
              "                                        STATION_LA_right  STATION_LO_right  \\\n",
              "STATION_NO                                                                   \n",
              "HSf1853941-a029-4cd2-bf85-6337b3a3446e         50.860208         -1.315635   \n",
              "HS0a4a592c-dbb3-4f11-a1d6-68920a910e92         51.282425          0.279488   \n",
              "HS0446ab5b-5462-44c9-a216-b0a0850191d3         51.227190          0.243767   \n",
              "\n",
              "                                       OBJECT_TYP_right  \n",
              "STATION_NO                                               \n",
              "HSf1853941-a029-4cd2-bf85-6337b3a3446e        Catchment  \n",
              "HS0a4a592c-dbb3-4f11-a1d6-68920a910e92        Catchment  \n",
              "HS0446ab5b-5462-44c9-a216-b0a0850191d3        Catchment  "
            ],
            "text/html": [
              "\n",
              "  <div id=\"df-95e7be07-bb2b-4980-8b4f-cfcee8408e3d\">\n",
              "    <div class=\"colab-df-container\">\n",
              "      <div>\n",
              "<style scoped>\n",
              "    .dataframe tbody tr th:only-of-type {\n",
              "        vertical-align: middle;\n",
              "    }\n",
              "\n",
              "    .dataframe tbody tr th {\n",
              "        vertical-align: top;\n",
              "    }\n",
              "\n",
              "    .dataframe thead th {\n",
              "        text-align: right;\n",
              "    }\n",
              "</style>\n",
              "<table border=\"1\" class=\"dataframe\">\n",
              "  <thead>\n",
              "    <tr style=\"text-align: right;\">\n",
              "      <th></th>\n",
              "      <th>STATION_LA_left</th>\n",
              "      <th>STATION_LO_left</th>\n",
              "      <th>OBJECT_TYP_left</th>\n",
              "      <th>geometry</th>\n",
              "      <th>index_right</th>\n",
              "      <th>STATION_LA_right</th>\n",
              "      <th>STATION_LO_right</th>\n",
              "      <th>OBJECT_TYP_right</th>\n",
              "    </tr>\n",
              "    <tr>\n",
              "      <th>STATION_NO</th>\n",
              "      <th></th>\n",
              "      <th></th>\n",
              "      <th></th>\n",
              "      <th></th>\n",
              "      <th></th>\n",
              "      <th></th>\n",
              "      <th></th>\n",
              "      <th></th>\n",
              "    </tr>\n",
              "  </thead>\n",
              "  <tbody>\n",
              "    <tr>\n",
              "      <th>HSf1853941-a029-4cd2-bf85-6337b3a3446e</th>\n",
              "      <td>50.858857</td>\n",
              "      <td>-1.321106</td>\n",
              "      <td>Hotspot</td>\n",
              "      <td>POINT (-1.32111 50.85886)</td>\n",
              "      <td>CM2dc2b371-a0b5-4309-9a75-2a0e6d1e65ea</td>\n",
              "      <td>50.860208</td>\n",
              "      <td>-1.315635</td>\n",
              "      <td>Catchment</td>\n",
              "    </tr>\n",
              "    <tr>\n",
              "      <th>HS0a4a592c-dbb3-4f11-a1d6-68920a910e92</th>\n",
              "      <td>51.287484</td>\n",
              "      <td>0.286555</td>\n",
              "      <td>Hotspot</td>\n",
              "      <td>POINT (0.28656 51.28748)</td>\n",
              "      <td>CM11dfcd06-63ed-461a-8b29-9f9690a585c6</td>\n",
              "      <td>51.282425</td>\n",
              "      <td>0.279488</td>\n",
              "      <td>Catchment</td>\n",
              "    </tr>\n",
              "    <tr>\n",
              "      <th>HS0446ab5b-5462-44c9-a216-b0a0850191d3</th>\n",
              "      <td>51.220600</td>\n",
              "      <td>0.252288</td>\n",
              "      <td>Hotspot</td>\n",
              "      <td>POINT (0.25229 51.22060)</td>\n",
              "      <td>CM347c6d5d-2c35-4a5c-a498-e173661b37dd</td>\n",
              "      <td>51.227190</td>\n",
              "      <td>0.243767</td>\n",
              "      <td>Catchment</td>\n",
              "    </tr>\n",
              "  </tbody>\n",
              "</table>\n",
              "</div>\n",
              "      <button class=\"colab-df-convert\" onclick=\"convertToInteractive('df-95e7be07-bb2b-4980-8b4f-cfcee8408e3d')\"\n",
              "              title=\"Convert this dataframe to an interactive table.\"\n",
              "              style=\"display:none;\">\n",
              "        \n",
              "  <svg xmlns=\"http://www.w3.org/2000/svg\" height=\"24px\"viewBox=\"0 0 24 24\"\n",
              "       width=\"24px\">\n",
              "    <path d=\"M0 0h24v24H0V0z\" fill=\"none\"/>\n",
              "    <path d=\"M18.56 5.44l.94 2.06.94-2.06 2.06-.94-2.06-.94-.94-2.06-.94 2.06-2.06.94zm-11 1L8.5 8.5l.94-2.06 2.06-.94-2.06-.94L8.5 2.5l-.94 2.06-2.06.94zm10 10l.94 2.06.94-2.06 2.06-.94-2.06-.94-.94-2.06-.94 2.06-2.06.94z\"/><path d=\"M17.41 7.96l-1.37-1.37c-.4-.4-.92-.59-1.43-.59-.52 0-1.04.2-1.43.59L10.3 9.45l-7.72 7.72c-.78.78-.78 2.05 0 2.83L4 21.41c.39.39.9.59 1.41.59.51 0 1.02-.2 1.41-.59l7.78-7.78 2.81-2.81c.8-.78.8-2.07 0-2.86zM5.41 20L4 18.59l7.72-7.72 1.47 1.35L5.41 20z\"/>\n",
              "  </svg>\n",
              "      </button>\n",
              "      \n",
              "  <style>\n",
              "    .colab-df-container {\n",
              "      display:flex;\n",
              "      flex-wrap:wrap;\n",
              "      gap: 12px;\n",
              "    }\n",
              "\n",
              "    .colab-df-convert {\n",
              "      background-color: #E8F0FE;\n",
              "      border: none;\n",
              "      border-radius: 50%;\n",
              "      cursor: pointer;\n",
              "      display: none;\n",
              "      fill: #1967D2;\n",
              "      height: 32px;\n",
              "      padding: 0 0 0 0;\n",
              "      width: 32px;\n",
              "    }\n",
              "\n",
              "    .colab-df-convert:hover {\n",
              "      background-color: #E2EBFA;\n",
              "      box-shadow: 0px 1px 2px rgba(60, 64, 67, 0.3), 0px 1px 3px 1px rgba(60, 64, 67, 0.15);\n",
              "      fill: #174EA6;\n",
              "    }\n",
              "\n",
              "    [theme=dark] .colab-df-convert {\n",
              "      background-color: #3B4455;\n",
              "      fill: #D2E3FC;\n",
              "    }\n",
              "\n",
              "    [theme=dark] .colab-df-convert:hover {\n",
              "      background-color: #434B5C;\n",
              "      box-shadow: 0px 1px 3px 1px rgba(0, 0, 0, 0.15);\n",
              "      filter: drop-shadow(0px 1px 2px rgba(0, 0, 0, 0.3));\n",
              "      fill: #FFFFFF;\n",
              "    }\n",
              "  </style>\n",
              "\n",
              "      <script>\n",
              "        const buttonEl =\n",
              "          document.querySelector('#df-95e7be07-bb2b-4980-8b4f-cfcee8408e3d button.colab-df-convert');\n",
              "        buttonEl.style.display =\n",
              "          google.colab.kernel.accessAllowed ? 'block' : 'none';\n",
              "\n",
              "        async function convertToInteractive(key) {\n",
              "          const element = document.querySelector('#df-95e7be07-bb2b-4980-8b4f-cfcee8408e3d');\n",
              "          const dataTable =\n",
              "            await google.colab.kernel.invokeFunction('convertToInteractive',\n",
              "                                                     [key], {});\n",
              "          if (!dataTable) return;\n",
              "\n",
              "          const docLinkHtml = 'Like what you see? Visit the ' +\n",
              "            '<a target=\"_blank\" href=https://colab.research.google.com/notebooks/data_table.ipynb>data table notebook</a>'\n",
              "            + ' to learn more about interactive tables.';\n",
              "          element.innerHTML = '';\n",
              "          dataTable['output_type'] = 'display_data';\n",
              "          await google.colab.output.renderOutput(dataTable, element);\n",
              "          const docLink = document.createElement('div');\n",
              "          docLink.innerHTML = docLinkHtml;\n",
              "          element.appendChild(docLink);\n",
              "        }\n",
              "      </script>\n",
              "    </div>\n",
              "  </div>\n",
              "  "
            ]
          },
          "metadata": {},
          "execution_count": 198
        }
      ]
    },
    {
      "cell_type": "markdown",
      "source": [
        "### Hotspots Closest to Catchments"
      ],
      "metadata": {
        "id": "pJN7jIKsLtgn"
      }
    },
    {
      "cell_type": "code",
      "execution_count": 199,
      "metadata": {
        "colab": {
          "base_uri": "https://localhost:8080/",
          "height": 362
        },
        "id": "ogQD1PsvJbkp",
        "outputId": "bd2feb01-7d86-41e9-9ae2-eb2370776940"
      },
      "outputs": [
        {
          "output_type": "stream",
          "name": "stdout",
          "text": [
            "(541, 9)\n"
          ]
        },
        {
          "output_type": "stream",
          "name": "stderr",
          "text": [
            "/usr/local/lib/python3.7/dist-packages/geopandas/array.py:348: UserWarning:\n",
            "\n",
            "Geometry is in a geographic CRS. Results from 'sjoin_nearest' are likely incorrect. Use 'GeoSeries.to_crs()' to re-project geometries to a projected CRS before this operation.\n",
            "\n",
            "\n"
          ]
        },
        {
          "output_type": "execute_result",
          "data": {
            "text/plain": [
              "                                                                   index_right  \\\n",
              "STATION_NO                                                                       \n",
              "HSadee6548-d797-49a3-a2a0-b7e8348f0b27  CM17f5cc28-e241-4bef-9afb-4b1fdbe2deba   \n",
              "HS38a3bb31-4dbd-4bf4-9f61-7cec9ce3e29e  CM17f5cc28-e241-4bef-9afb-4b1fdbe2deba   \n",
              "HSeee87958-1c02-4935-a29b-fde86e13390c  CM17f5cc28-e241-4bef-9afb-4b1fdbe2deba   \n",
              "HSe615616e-f13e-47d0-8a1c-636c3896b248  CM17f5cc28-e241-4bef-9afb-4b1fdbe2deba   \n",
              "HS88d7c273-c678-49a8-b0d0-9031f21ae4fa  CM17f5cc28-e241-4bef-9afb-4b1fdbe2deba   \n",
              "\n",
              "                                        distances  \n",
              "STATION_NO                                         \n",
              "HSadee6548-d797-49a3-a2a0-b7e8348f0b27   0.199708  \n",
              "HS38a3bb31-4dbd-4bf4-9f61-7cec9ce3e29e   0.098130  \n",
              "HSeee87958-1c02-4935-a29b-fde86e13390c   0.100468  \n",
              "HSe615616e-f13e-47d0-8a1c-636c3896b248   0.103860  \n",
              "HS88d7c273-c678-49a8-b0d0-9031f21ae4fa   0.098130  "
            ],
            "text/html": [
              "\n",
              "  <div id=\"df-d535bbde-5723-4a96-a0ca-205fb9497519\">\n",
              "    <div class=\"colab-df-container\">\n",
              "      <div>\n",
              "<style scoped>\n",
              "    .dataframe tbody tr th:only-of-type {\n",
              "        vertical-align: middle;\n",
              "    }\n",
              "\n",
              "    .dataframe tbody tr th {\n",
              "        vertical-align: top;\n",
              "    }\n",
              "\n",
              "    .dataframe thead th {\n",
              "        text-align: right;\n",
              "    }\n",
              "</style>\n",
              "<table border=\"1\" class=\"dataframe\">\n",
              "  <thead>\n",
              "    <tr style=\"text-align: right;\">\n",
              "      <th></th>\n",
              "      <th>index_right</th>\n",
              "      <th>distances</th>\n",
              "    </tr>\n",
              "    <tr>\n",
              "      <th>STATION_NO</th>\n",
              "      <th></th>\n",
              "      <th></th>\n",
              "    </tr>\n",
              "  </thead>\n",
              "  <tbody>\n",
              "    <tr>\n",
              "      <th>HSadee6548-d797-49a3-a2a0-b7e8348f0b27</th>\n",
              "      <td>CM17f5cc28-e241-4bef-9afb-4b1fdbe2deba</td>\n",
              "      <td>0.199708</td>\n",
              "    </tr>\n",
              "    <tr>\n",
              "      <th>HS38a3bb31-4dbd-4bf4-9f61-7cec9ce3e29e</th>\n",
              "      <td>CM17f5cc28-e241-4bef-9afb-4b1fdbe2deba</td>\n",
              "      <td>0.098130</td>\n",
              "    </tr>\n",
              "    <tr>\n",
              "      <th>HSeee87958-1c02-4935-a29b-fde86e13390c</th>\n",
              "      <td>CM17f5cc28-e241-4bef-9afb-4b1fdbe2deba</td>\n",
              "      <td>0.100468</td>\n",
              "    </tr>\n",
              "    <tr>\n",
              "      <th>HSe615616e-f13e-47d0-8a1c-636c3896b248</th>\n",
              "      <td>CM17f5cc28-e241-4bef-9afb-4b1fdbe2deba</td>\n",
              "      <td>0.103860</td>\n",
              "    </tr>\n",
              "    <tr>\n",
              "      <th>HS88d7c273-c678-49a8-b0d0-9031f21ae4fa</th>\n",
              "      <td>CM17f5cc28-e241-4bef-9afb-4b1fdbe2deba</td>\n",
              "      <td>0.098130</td>\n",
              "    </tr>\n",
              "  </tbody>\n",
              "</table>\n",
              "</div>\n",
              "      <button class=\"colab-df-convert\" onclick=\"convertToInteractive('df-d535bbde-5723-4a96-a0ca-205fb9497519')\"\n",
              "              title=\"Convert this dataframe to an interactive table.\"\n",
              "              style=\"display:none;\">\n",
              "        \n",
              "  <svg xmlns=\"http://www.w3.org/2000/svg\" height=\"24px\"viewBox=\"0 0 24 24\"\n",
              "       width=\"24px\">\n",
              "    <path d=\"M0 0h24v24H0V0z\" fill=\"none\"/>\n",
              "    <path d=\"M18.56 5.44l.94 2.06.94-2.06 2.06-.94-2.06-.94-.94-2.06-.94 2.06-2.06.94zm-11 1L8.5 8.5l.94-2.06 2.06-.94-2.06-.94L8.5 2.5l-.94 2.06-2.06.94zm10 10l.94 2.06.94-2.06 2.06-.94-2.06-.94-.94-2.06-.94 2.06-2.06.94z\"/><path d=\"M17.41 7.96l-1.37-1.37c-.4-.4-.92-.59-1.43-.59-.52 0-1.04.2-1.43.59L10.3 9.45l-7.72 7.72c-.78.78-.78 2.05 0 2.83L4 21.41c.39.39.9.59 1.41.59.51 0 1.02-.2 1.41-.59l7.78-7.78 2.81-2.81c.8-.78.8-2.07 0-2.86zM5.41 20L4 18.59l7.72-7.72 1.47 1.35L5.41 20z\"/>\n",
              "  </svg>\n",
              "      </button>\n",
              "      \n",
              "  <style>\n",
              "    .colab-df-container {\n",
              "      display:flex;\n",
              "      flex-wrap:wrap;\n",
              "      gap: 12px;\n",
              "    }\n",
              "\n",
              "    .colab-df-convert {\n",
              "      background-color: #E8F0FE;\n",
              "      border: none;\n",
              "      border-radius: 50%;\n",
              "      cursor: pointer;\n",
              "      display: none;\n",
              "      fill: #1967D2;\n",
              "      height: 32px;\n",
              "      padding: 0 0 0 0;\n",
              "      width: 32px;\n",
              "    }\n",
              "\n",
              "    .colab-df-convert:hover {\n",
              "      background-color: #E2EBFA;\n",
              "      box-shadow: 0px 1px 2px rgba(60, 64, 67, 0.3), 0px 1px 3px 1px rgba(60, 64, 67, 0.15);\n",
              "      fill: #174EA6;\n",
              "    }\n",
              "\n",
              "    [theme=dark] .colab-df-convert {\n",
              "      background-color: #3B4455;\n",
              "      fill: #D2E3FC;\n",
              "    }\n",
              "\n",
              "    [theme=dark] .colab-df-convert:hover {\n",
              "      background-color: #434B5C;\n",
              "      box-shadow: 0px 1px 3px 1px rgba(0, 0, 0, 0.15);\n",
              "      filter: drop-shadow(0px 1px 2px rgba(0, 0, 0, 0.3));\n",
              "      fill: #FFFFFF;\n",
              "    }\n",
              "  </style>\n",
              "\n",
              "      <script>\n",
              "        const buttonEl =\n",
              "          document.querySelector('#df-d535bbde-5723-4a96-a0ca-205fb9497519 button.colab-df-convert');\n",
              "        buttonEl.style.display =\n",
              "          google.colab.kernel.accessAllowed ? 'block' : 'none';\n",
              "\n",
              "        async function convertToInteractive(key) {\n",
              "          const element = document.querySelector('#df-d535bbde-5723-4a96-a0ca-205fb9497519');\n",
              "          const dataTable =\n",
              "            await google.colab.kernel.invokeFunction('convertToInteractive',\n",
              "                                                     [key], {});\n",
              "          if (!dataTable) return;\n",
              "\n",
              "          const docLinkHtml = 'Like what you see? Visit the ' +\n",
              "            '<a target=\"_blank\" href=https://colab.research.google.com/notebooks/data_table.ipynb>data table notebook</a>'\n",
              "            + ' to learn more about interactive tables.';\n",
              "          element.innerHTML = '';\n",
              "          dataTable['output_type'] = 'display_data';\n",
              "          await google.colab.output.renderOutput(dataTable, element);\n",
              "          const docLink = document.createElement('div');\n",
              "          docLink.innerHTML = docLinkHtml;\n",
              "          element.appendChild(docLink);\n",
              "        }\n",
              "      </script>\n",
              "    </div>\n",
              "  </div>\n",
              "  "
            ]
          },
          "metadata": {},
          "execution_count": 199
        }
      ],
      "source": [
        "# get the nearest catchment to a hotspot by applying geopandas 'sjoin_nearest' function\n",
        "# the stations inside the polygon have zero distances\n",
        "hotspot_catchment_closest = gpd.sjoin_nearest(hotspot_shp, optimized_shp, distance_col='distances')\n",
        "print(hotspot_catchment_closest.shape)\n",
        "hotspot_catchment_closest[['index_right', 'distances']].head()"
      ]
    },
    {
      "cell_type": "markdown",
      "source": [
        "### Insight\n",
        "\n",
        "*   Only three Hotspots are found inside the Catchments (as shown by the sjoin funcion).\n",
        "\n",
        "The sjoin_nearest  shows the distance of each Hotspot from the nearest Catchment.\n",
        "\n",
        "*   Some Catchment have multiple Hotspots attached to them\n",
        "\n",
        "*   Others have single Hotspot attached.\n",
        "\n",
        "There are only 77 unique Catchments as opposed the 90 in the Optimized data -- why?\n",
        "\n"
      ],
      "metadata": {
        "id": "ozq1tY3dKCLb"
      }
    },
    {
      "cell_type": "code",
      "execution_count": 200,
      "metadata": {
        "id": "mHPSola0DoCv"
      },
      "outputs": [],
      "source": [
        "#selected_10_sites.to_csv('selected_10_sites.csv', index=True)"
      ]
    },
    {
      "cell_type": "markdown",
      "metadata": {
        "id": "u22FHXkUI2fV"
      },
      "source": [
        "# **Coordinate reference systems** (CRS)\n",
        "These are important because the geometric shapes in a GeoDataFrame are simply a collection of coordinates in an arbitrary space. A CRS tells Python how those coordinates related to places on the Earth. CRS provides information that assigns Cartesian x and y map coordinates to physical locations\n",
        "\n",
        "A map projection (or a projected coordinate system) is a systematic transformation of the latitudes and longitudes into a plain surface where units are quite commonly represented as meters (instead of decimal degrees).\n",
        "\n",
        "*Buffer* is a GeoPandas helper function that expands a point to a circle-like polygon. Buffer is used on a geodataframe series (column) to create a polygon around a line or point."
      ]
    },
    {
      "cell_type": "code",
      "execution_count": 201,
      "metadata": {
        "id": "hP2N2eDEI7Xh"
      },
      "outputs": [],
      "source": [
        "# Reprojecting the into a projected crs (coordinate reference system)\n",
        "optimized_projected = optimized_shp['geometry'].to_crs(epsg=32629)\n",
        "\n",
        "# create a projected crs for the hotspot and optimized (convert to meter)\n",
        "hotspot_shp['projpoint'] = hotspot_shp['geometry'].to_crs(epsg=32629)\n",
        "optimized_shp['projpoly'] = optimized_projected\n",
        "\n",
        "# create the centroid, area and boundary features in the optimized Geopandas Geodataframe\n",
        "optimized_shp['area'] = optimized_projected.area\n",
        "\n",
        "# use a buffer for projected crs for the optimized (expand the polygons' circumfereces)\n",
        "optimized_shp['buffer_projpoly'] = optimized_projected.buffer(distance=1000)\n"
      ]
    },
    {
      "cell_type": "code",
      "execution_count": 202,
      "metadata": {
        "id": "gVdP2xwGJEhb",
        "colab": {
          "base_uri": "https://localhost:8080/"
        },
        "outputId": "6c653efe-2ee1-4f89-cceb-94df23e44c53"
      },
      "outputs": [
        {
          "output_type": "stream",
          "name": "stdout",
          "text": [
            "Area of largest polygon in meters sq = 2190966.790407718\n",
            "Area of smallest polygon in meters sq = 3416.476346660458\n",
            "Average area of polygon in meters sq = 302188.6226968252\n"
          ]
        }
      ],
      "source": [
        "# area of the polygon in a projected crs\n",
        "print('Area of largest polygon in meters sq =',optimized_shp['area'].max())\n",
        "print('Area of smallest polygon in meters sq =',optimized_shp['area'].min())\n",
        "print('Average area of polygon in meters sq =',optimized_shp['area'].mean())"
      ]
    },
    {
      "cell_type": "markdown",
      "metadata": {
        "id": "wN8t_dAXJMm9"
      },
      "source": [
        "## Let's see the difference in the 3 plots- degree units, meter units and projected buffer"
      ]
    },
    {
      "cell_type": "code",
      "execution_count": 203,
      "metadata": {
        "id": "nRlD1IS2JHCq",
        "colab": {
          "base_uri": "https://localhost:8080/",
          "height": 305
        },
        "outputId": "3cd2af03-8393-4550-d427-521f47dc81bd"
      },
      "outputs": [
        {
          "output_type": "execute_result",
          "data": {
            "text/plain": [
              "<matplotlib.axes._subplots.AxesSubplot at 0x7f515ba9f110>"
            ]
          },
          "metadata": {},
          "execution_count": 203
        },
        {
          "output_type": "display_data",
          "data": {
            "text/plain": [
              "<Figure size 720x504 with 1 Axes>"
            ],
            "image/png": "[encoded data removed]"
          },
          "metadata": {
            "needs_background": "light"
          }
        }
      ],
      "source": [
        "# Data points in decimal degree units\n",
        "optimized_shp.plot(edgecolor='green', figsize= (10,7))"
      ]
    },
    {
      "cell_type": "code",
      "execution_count": 204,
      "metadata": {
        "id": "WEverk1JJP0v",
        "colab": {
          "base_uri": "https://localhost:8080/",
          "height": 370
        },
        "outputId": "71f80672-bca5-41bf-a0a0-cc249880ed86"
      },
      "outputs": [
        {
          "output_type": "execute_result",
          "data": {
            "text/plain": [
              "<matplotlib.axes._subplots.AxesSubplot at 0x7f515baa6e90>"
            ]
          },
          "metadata": {},
          "execution_count": 204
        },
        {
          "output_type": "display_data",
          "data": {
            "text/plain": [
              "<Figure size 720x504 with 1 Axes>"
            ],
            "image/png": "[encoded data removed]"
          },
          "metadata": {
            "needs_background": "light"
          }
        }
      ],
      "source": [
        "# Data points in projected coordinate system (meter units)\n",
        "optimized_shp['projpoly'].plot(edgecolor='green', figsize= (10,7))"
      ]
    },
    {
      "cell_type": "code",
      "execution_count": 205,
      "metadata": {
        "id": "JuG8sXqtJYVF",
        "colab": {
          "base_uri": "https://localhost:8080/",
          "height": 373
        },
        "outputId": "57c82dd3-7ae0-4fa4-8412-5cd1ecb897c9"
      },
      "outputs": [
        {
          "output_type": "execute_result",
          "data": {
            "text/plain": [
              "<matplotlib.axes._subplots.AxesSubplot at 0x7f515b619a90>"
            ]
          },
          "metadata": {},
          "execution_count": 205
        },
        {
          "output_type": "display_data",
          "data": {
            "text/plain": [
              "<Figure size 720x504 with 1 Axes>"
            ],
            "image/png": "[encoded data removed]"
          },
          "metadata": {
            "needs_background": "light"
          }
        }
      ],
      "source": [
        "# Data points with the buffer (distance of 500m around the point)\n",
        "optimized_shp['buffer_projpoly'].plot(edgecolor='green', figsize=(10, 7))"
      ]
    },
    {
      "cell_type": "markdown",
      "source": [
        "### Insight\n",
        "\n",
        "The first plot is in degree unit, the second is a projected crs in meter unit. There are no much differences except that the units of measurement changed on the axes.\n",
        "\n",
        "There is an obvious difference in the projected buffered plot, unlike those units in degree and meter, the size of the polygons have been enlarged because of the buffer.\n",
        "\n",
        "*   going with the projected buffered, more hotspots will be included in the  catchments. \n",
        "\n"
      ],
      "metadata": {
        "id": "dtSJw0Cm4-HK"
      }
    },
    {
      "cell_type": "markdown",
      "source": [
        "## Try Reprojection With Buffer on Optimized data\n",
        "\n",
        "Units are in meter and polygon are expanded (buffered) to accommodate more hotspots.\n",
        "\n",
        "First, change the active geometry columns of both hotspot and optimized dataframes.\n",
        "\n",
        "\n"
      ],
      "metadata": {
        "id": "tbN-QiXhsnyO"
      }
    },
    {
      "cell_type": "code",
      "source": [
        "# change the active columns of both dataframes\n",
        "optimized_mq = optimized_shp.set_geometry(\"buffer_projpoly\")\n",
        "hotspot_mq = hotspot_shp.set_geometry(\"projpoint\")"
      ],
      "metadata": {
        "id": "ZPAL0wsS-QGo"
      },
      "execution_count": 206,
      "outputs": []
    },
    {
      "cell_type": "code",
      "source": [
        "# multi layer plot of projections \n",
        "fig,ax = plt.subplots(figsize=(20, 14), edgecolor='k')\n",
        "#world.plot(ax=ax, color='white', edgecolor='black')\n",
        "hotspot_mq.plot(ax=ax, cmap='hsv', edgecolor='none', column='OBJECT_TYP')\n",
        "optimized_mq.plot(ax=ax, edgecolor = 'black')"
      ],
      "metadata": {
        "id": "ykvl3FmgAuPb",
        "colab": {
          "base_uri": "https://localhost:8080/",
          "height": 688
        },
        "outputId": "18afe3c6-9a27-415c-a3b2-378bb104271c"
      },
      "execution_count": 207,
      "outputs": [
        {
          "output_type": "execute_result",
          "data": {
            "text/plain": [
              "<matplotlib.axes._subplots.AxesSubplot at 0x7f515b641ad0>"
            ]
          },
          "metadata": {},
          "execution_count": 207
        },
        {
          "output_type": "display_data",
          "data": {
            "text/plain": [
              "<Figure size 1440x1008 with 1 Axes>"
            ],
            "image/png": "[encoded data removed]"
          },
          "metadata": {
            "needs_background": "light"
          }
        }
      ]
    },
    {
      "cell_type": "code",
      "source": [
        "# get the nearest polygon to a point by applying geopandas 'sjoin_nearest' function\n",
        "# the stations inside the polygons have zero distances\n",
        "projected_intersect = gpd.sjoin_nearest(hotspot_mq, optimized_mq, distance_col=\"distances_mq\").sort_values('index_right')\n",
        "\n",
        "# get hotspots within polygons (those with zero distances only)\n",
        "projected_intersect = projected_intersect[projected_intersect['distances_mq'] == 0]\n",
        "\n",
        "# reverse the active columns of both dataframes\n",
        "optimized_mq = optimized_shp.set_geometry(\"geometry\")\n",
        "hotspot_mq = hotspot_shp.set_geometry(\"geometry\")\n",
        "\n",
        "print(projected_intersect.shape)\n",
        "projected_intersect[['index_right', 'distances_mq']].head()"
      ],
      "metadata": {
        "id": "MWZ1YN3iCgvk",
        "colab": {
          "base_uri": "https://localhost:8080/",
          "height": 255
        },
        "outputId": "073fc485-3f79-4965-bb3d-202fd5c3a168"
      },
      "execution_count": 208,
      "outputs": [
        {
          "output_type": "stream",
          "name": "stdout",
          "text": [
            "(31, 13)\n"
          ]
        },
        {
          "output_type": "execute_result",
          "data": {
            "text/plain": [
              "                                                                   index_right  \\\n",
              "STATION_NO                                                                       \n",
              "HS0a4a592c-dbb3-4f11-a1d6-68920a910e92  CM11dfcd06-63ed-461a-8b29-9f9690a585c6   \n",
              "HS0393383c-6104-466b-8c29-f37979b8f3a7  CM145cd21b-3329-4d9f-b44c-14da1a9824a2   \n",
              "HS763fccd6-bf96-4e98-b033-94f4d07645ba  CM14ca1962-ab20-4212-bd5a-6418a21c7a5c   \n",
              "HSb4de0330-eadc-4456-8bd1-a6c5efb56bc5  CM17f5cc28-e241-4bef-9afb-4b1fdbe2deba   \n",
              "HS2bb66812-e229-4e75-9b6b-c52052917ab3  CM17f5cc28-e241-4bef-9afb-4b1fdbe2deba   \n",
              "\n",
              "                                        distances_mq  \n",
              "STATION_NO                                            \n",
              "HS0a4a592c-dbb3-4f11-a1d6-68920a910e92           0.0  \n",
              "HS0393383c-6104-466b-8c29-f37979b8f3a7           0.0  \n",
              "HS763fccd6-bf96-4e98-b033-94f4d07645ba           0.0  \n",
              "HSb4de0330-eadc-4456-8bd1-a6c5efb56bc5           0.0  \n",
              "HS2bb66812-e229-4e75-9b6b-c52052917ab3           0.0  "
            ],
            "text/html": [
              "\n",
              "  <div id=\"df-a0f2766f-2a96-41ca-89ad-726ff8f7e6fa\">\n",
              "    <div class=\"colab-df-container\">\n",
              "      <div>\n",
              "<style scoped>\n",
              "    .dataframe tbody tr th:only-of-type {\n",
              "        vertical-align: middle;\n",
              "    }\n",
              "\n",
              "    .dataframe tbody tr th {\n",
              "        vertical-align: top;\n",
              "    }\n",
              "\n",
              "    .dataframe thead th {\n",
              "        text-align: right;\n",
              "    }\n",
              "</style>\n",
              "<table border=\"1\" class=\"dataframe\">\n",
              "  <thead>\n",
              "    <tr style=\"text-align: right;\">\n",
              "      <th></th>\n",
              "      <th>index_right</th>\n",
              "      <th>distances_mq</th>\n",
              "    </tr>\n",
              "    <tr>\n",
              "      <th>STATION_NO</th>\n",
              "      <th></th>\n",
              "      <th></th>\n",
              "    </tr>\n",
              "  </thead>\n",
              "  <tbody>\n",
              "    <tr>\n",
              "      <th>HS0a4a592c-dbb3-4f11-a1d6-68920a910e92</th>\n",
              "      <td>CM11dfcd06-63ed-461a-8b29-9f9690a585c6</td>\n",
              "      <td>0.0</td>\n",
              "    </tr>\n",
              "    <tr>\n",
              "      <th>HS0393383c-6104-466b-8c29-f37979b8f3a7</th>\n",
              "      <td>CM145cd21b-3329-4d9f-b44c-14da1a9824a2</td>\n",
              "      <td>0.0</td>\n",
              "    </tr>\n",
              "    <tr>\n",
              "      <th>HS763fccd6-bf96-4e98-b033-94f4d07645ba</th>\n",
              "      <td>CM14ca1962-ab20-4212-bd5a-6418a21c7a5c</td>\n",
              "      <td>0.0</td>\n",
              "    </tr>\n",
              "    <tr>\n",
              "      <th>HSb4de0330-eadc-4456-8bd1-a6c5efb56bc5</th>\n",
              "      <td>CM17f5cc28-e241-4bef-9afb-4b1fdbe2deba</td>\n",
              "      <td>0.0</td>\n",
              "    </tr>\n",
              "    <tr>\n",
              "      <th>HS2bb66812-e229-4e75-9b6b-c52052917ab3</th>\n",
              "      <td>CM17f5cc28-e241-4bef-9afb-4b1fdbe2deba</td>\n",
              "      <td>0.0</td>\n",
              "    </tr>\n",
              "  </tbody>\n",
              "</table>\n",
              "</div>\n",
              "      <button class=\"colab-df-convert\" onclick=\"convertToInteractive('df-a0f2766f-2a96-41ca-89ad-726ff8f7e6fa')\"\n",
              "              title=\"Convert this dataframe to an interactive table.\"\n",
              "              style=\"display:none;\">\n",
              "        \n",
              "  <svg xmlns=\"http://www.w3.org/2000/svg\" height=\"24px\"viewBox=\"0 0 24 24\"\n",
              "       width=\"24px\">\n",
              "    <path d=\"M0 0h24v24H0V0z\" fill=\"none\"/>\n",
              "    <path d=\"M18.56 5.44l.94 2.06.94-2.06 2.06-.94-2.06-.94-.94-2.06-.94 2.06-2.06.94zm-11 1L8.5 8.5l.94-2.06 2.06-.94-2.06-.94L8.5 2.5l-.94 2.06-2.06.94zm10 10l.94 2.06.94-2.06 2.06-.94-2.06-.94-.94-2.06-.94 2.06-2.06.94z\"/><path d=\"M17.41 7.96l-1.37-1.37c-.4-.4-.92-.59-1.43-.59-.52 0-1.04.2-1.43.59L10.3 9.45l-7.72 7.72c-.78.78-.78 2.05 0 2.83L4 21.41c.39.39.9.59 1.41.59.51 0 1.02-.2 1.41-.59l7.78-7.78 2.81-2.81c.8-.78.8-2.07 0-2.86zM5.41 20L4 18.59l7.72-7.72 1.47 1.35L5.41 20z\"/>\n",
              "  </svg>\n",
              "      </button>\n",
              "      \n",
              "  <style>\n",
              "    .colab-df-container {\n",
              "      display:flex;\n",
              "      flex-wrap:wrap;\n",
              "      gap: 12px;\n",
              "    }\n",
              "\n",
              "    .colab-df-convert {\n",
              "      background-color: #E8F0FE;\n",
              "      border: none;\n",
              "      border-radius: 50%;\n",
              "      cursor: pointer;\n",
              "      display: none;\n",
              "      fill: #1967D2;\n",
              "      height: 32px;\n",
              "      padding: 0 0 0 0;\n",
              "      width: 32px;\n",
              "    }\n",
              "\n",
              "    .colab-df-convert:hover {\n",
              "      background-color: #E2EBFA;\n",
              "      box-shadow: 0px 1px 2px rgba(60, 64, 67, 0.3), 0px 1px 3px 1px rgba(60, 64, 67, 0.15);\n",
              "      fill: #174EA6;\n",
              "    }\n",
              "\n",
              "    [theme=dark] .colab-df-convert {\n",
              "      background-color: #3B4455;\n",
              "      fill: #D2E3FC;\n",
              "    }\n",
              "\n",
              "    [theme=dark] .colab-df-convert:hover {\n",
              "      background-color: #434B5C;\n",
              "      box-shadow: 0px 1px 3px 1px rgba(0, 0, 0, 0.15);\n",
              "      filter: drop-shadow(0px 1px 2px rgba(0, 0, 0, 0.3));\n",
              "      fill: #FFFFFF;\n",
              "    }\n",
              "  </style>\n",
              "\n",
              "      <script>\n",
              "        const buttonEl =\n",
              "          document.querySelector('#df-a0f2766f-2a96-41ca-89ad-726ff8f7e6fa button.colab-df-convert');\n",
              "        buttonEl.style.display =\n",
              "          google.colab.kernel.accessAllowed ? 'block' : 'none';\n",
              "\n",
              "        async function convertToInteractive(key) {\n",
              "          const element = document.querySelector('#df-a0f2766f-2a96-41ca-89ad-726ff8f7e6fa');\n",
              "          const dataTable =\n",
              "            await google.colab.kernel.invokeFunction('convertToInteractive',\n",
              "                                                     [key], {});\n",
              "          if (!dataTable) return;\n",
              "\n",
              "          const docLinkHtml = 'Like what you see? Visit the ' +\n",
              "            '<a target=\"_blank\" href=https://colab.research.google.com/notebooks/data_table.ipynb>data table notebook</a>'\n",
              "            + ' to learn more about interactive tables.';\n",
              "          element.innerHTML = '';\n",
              "          dataTable['output_type'] = 'display_data';\n",
              "          await google.colab.output.renderOutput(dataTable, element);\n",
              "          const docLink = document.createElement('div');\n",
              "          docLink.innerHTML = docLinkHtml;\n",
              "          element.appendChild(docLink);\n",
              "        }\n",
              "      </script>\n",
              "    </div>\n",
              "  </div>\n",
              "  "
            ]
          },
          "metadata": {},
          "execution_count": 208
        }
      ]
    },
    {
      "cell_type": "markdown",
      "source": [
        "### Insight\n",
        "\n",
        "*   With a buffer of 1000 meters, 31 hotspots intersect the catchments.\n",
        "\n",
        "*   Equally, catchments close to each other intersect\n",
        "\n",
        "Buffer can be increased to accommodate more Hotspots. Well, it is worth noting that there are only 90 Catchments which are not evenly spread across.\n",
        "\n",
        "*   While there are areas with clusters of Catchments\n",
        "\n",
        "*   There are areas without Catchments, just Hotspots.\n",
        "\n"
      ],
      "metadata": {
        "id": "_Tp0DaBtWM4x"
      }
    },
    {
      "cell_type": "markdown",
      "source": [
        "## Function to return the top two closest Hotspots to a Catchment\n",
        "First, change the index of the hotspot_catchment_closest dataframe. This is necessary for the function to iterate through the station_no as iteration cannot be carried out on an index."
      ],
      "metadata": {
        "id": "ACDEjH0ALSP9"
      }
    },
    {
      "cell_type": "code",
      "source": [
        "# change the index of the hotspot_catchment_closest dataframe\n",
        "hotspot_catchment_closest.reset_index(inplace=True)"
      ],
      "metadata": {
        "id": "AuNc4aRWNRC6"
      },
      "execution_count": 209,
      "outputs": []
    },
    {
      "cell_type": "code",
      "source": [
        "def closest_station(df):\n",
        "    ''' Function to return the two closest stations to a catchment (right index)\n",
        "        input:   df -> (dataframe) containing columns STATION_NO, index_right and distances\n",
        "        Output:  returns a dictionary containing index_right as keys and the two closest distances as a list of values\n",
        "    '''\n",
        "    \n",
        "    closests = {}\n",
        "    \n",
        "    for index_right in df.index_right.unique():\n",
        "        df_stations = df[df.index_right == index_right]\n",
        "        df_stations = df_stations.sort_values(by='distances')\n",
        "        closests.update({\n",
        "            index_right : list(df_stations[0:2].STATION_NO)\n",
        "        })\n",
        "    return closests"
      ],
      "metadata": {
        "id": "VgZ1n3SnH4E4"
      },
      "execution_count": 210,
      "outputs": []
    },
    {
      "cell_type": "code",
      "source": [
        "# convert the  dictionary to a dataframe with Catchments and Hotspots\n",
        "needed_station_df = pd.DataFrame(dict([ (k,pd.Series(v)) for k,v in closest_station(hotspot_catchment_closest).items() ])).T\n",
        "print('Total hotspots in each column are:\\n', needed_station_df.nunique())\n",
        "needed_station_df.head()"
      ],
      "metadata": {
        "colab": {
          "base_uri": "https://localhost:8080/",
          "height": 276
        },
        "id": "bY8X35wYJqKd",
        "outputId": "051b5ea4-fe29-44bb-b249-556bd0745658"
      },
      "execution_count": 211,
      "outputs": [
        {
          "output_type": "stream",
          "name": "stdout",
          "text": [
            "Total hotspots in each column are:\n",
            " 0    77\n",
            "1    64\n",
            "dtype: int64\n"
          ]
        },
        {
          "output_type": "execute_result",
          "data": {
            "text/plain": [
              "                                                                             0  \\\n",
              "CM17f5cc28-e241-4bef-9afb-4b1fdbe2deba  HSb4de0330-eadc-4456-8bd1-a6c5efb56bc5   \n",
              "CM57693ab0-be34-41e4-bf57-c3199620d806  HS7cd704d1-de5d-4b36-8bf5-4fbd51eff3a4   \n",
              "CM1f9fd786-9dcd-4a88-9fd7-14ebf61ad0b2  HSf9b5c367-8485-4b68-9dce-6e47a9734ff2   \n",
              "CM65a85182-181e-4782-91a5-fcd4e5b94f98  HS9037443f-c430-4468-86b8-8c2c0362e1c6   \n",
              "CMe0b8ad68-347c-40af-bdee-dfdac97b3df4  HS27e9d11e-c6ce-4e8f-ba3a-aac71fd09ff3   \n",
              "\n",
              "                                                                             1  \n",
              "CM17f5cc28-e241-4bef-9afb-4b1fdbe2deba  HS2bb66812-e229-4e75-9b6b-c52052917ab3  \n",
              "CM57693ab0-be34-41e4-bf57-c3199620d806  HS7f6db68b-c71c-48b3-985f-45d66eab5fe7  \n",
              "CM1f9fd786-9dcd-4a88-9fd7-14ebf61ad0b2  HSefb5e85c-71f8-42a4-b529-44cdd306486d  \n",
              "CM65a85182-181e-4782-91a5-fcd4e5b94f98  HS025c8bd9-20c6-4615-a418-71cdaaa214cd  \n",
              "CMe0b8ad68-347c-40af-bdee-dfdac97b3df4  HSf32255da-24c9-497b-ba2e-e5581f0f0cdd  "
            ],
            "text/html": [
              "\n",
              "  <div id=\"df-0420c444-4c44-4dfc-82b6-931ab9d4df03\">\n",
              "    <div class=\"colab-df-container\">\n",
              "      <div>\n",
              "<style scoped>\n",
              "    .dataframe tbody tr th:only-of-type {\n",
              "        vertical-align: middle;\n",
              "    }\n",
              "\n",
              "    .dataframe tbody tr th {\n",
              "        vertical-align: top;\n",
              "    }\n",
              "\n",
              "    .dataframe thead th {\n",
              "        text-align: right;\n",
              "    }\n",
              "</style>\n",
              "<table border=\"1\" class=\"dataframe\">\n",
              "  <thead>\n",
              "    <tr style=\"text-align: right;\">\n",
              "      <th></th>\n",
              "      <th>0</th>\n",
              "      <th>1</th>\n",
              "    </tr>\n",
              "  </thead>\n",
              "  <tbody>\n",
              "    <tr>\n",
              "      <th>CM17f5cc28-e241-4bef-9afb-4b1fdbe2deba</th>\n",
              "      <td>HSb4de0330-eadc-4456-8bd1-a6c5efb56bc5</td>\n",
              "      <td>HS2bb66812-e229-4e75-9b6b-c52052917ab3</td>\n",
              "    </tr>\n",
              "    <tr>\n",
              "      <th>CM57693ab0-be34-41e4-bf57-c3199620d806</th>\n",
              "      <td>HS7cd704d1-de5d-4b36-8bf5-4fbd51eff3a4</td>\n",
              "      <td>HS7f6db68b-c71c-48b3-985f-45d66eab5fe7</td>\n",
              "    </tr>\n",
              "    <tr>\n",
              "      <th>CM1f9fd786-9dcd-4a88-9fd7-14ebf61ad0b2</th>\n",
              "      <td>HSf9b5c367-8485-4b68-9dce-6e47a9734ff2</td>\n",
              "      <td>HSefb5e85c-71f8-42a4-b529-44cdd306486d</td>\n",
              "    </tr>\n",
              "    <tr>\n",
              "      <th>CM65a85182-181e-4782-91a5-fcd4e5b94f98</th>\n",
              "      <td>HS9037443f-c430-4468-86b8-8c2c0362e1c6</td>\n",
              "      <td>HS025c8bd9-20c6-4615-a418-71cdaaa214cd</td>\n",
              "    </tr>\n",
              "    <tr>\n",
              "      <th>CMe0b8ad68-347c-40af-bdee-dfdac97b3df4</th>\n",
              "      <td>HS27e9d11e-c6ce-4e8f-ba3a-aac71fd09ff3</td>\n",
              "      <td>HSf32255da-24c9-497b-ba2e-e5581f0f0cdd</td>\n",
              "    </tr>\n",
              "  </tbody>\n",
              "</table>\n",
              "</div>\n",
              "      <button class=\"colab-df-convert\" onclick=\"convertToInteractive('df-0420c444-4c44-4dfc-82b6-931ab9d4df03')\"\n",
              "              title=\"Convert this dataframe to an interactive table.\"\n",
              "              style=\"display:none;\">\n",
              "        \n",
              "  <svg xmlns=\"http://www.w3.org/2000/svg\" height=\"24px\"viewBox=\"0 0 24 24\"\n",
              "       width=\"24px\">\n",
              "    <path d=\"M0 0h24v24H0V0z\" fill=\"none\"/>\n",
              "    <path d=\"M18.56 5.44l.94 2.06.94-2.06 2.06-.94-2.06-.94-.94-2.06-.94 2.06-2.06.94zm-11 1L8.5 8.5l.94-2.06 2.06-.94-2.06-.94L8.5 2.5l-.94 2.06-2.06.94zm10 10l.94 2.06.94-2.06 2.06-.94-2.06-.94-.94-2.06-.94 2.06-2.06.94z\"/><path d=\"M17.41 7.96l-1.37-1.37c-.4-.4-.92-.59-1.43-.59-.52 0-1.04.2-1.43.59L10.3 9.45l-7.72 7.72c-.78.78-.78 2.05 0 2.83L4 21.41c.39.39.9.59 1.41.59.51 0 1.02-.2 1.41-.59l7.78-7.78 2.81-2.81c.8-.78.8-2.07 0-2.86zM5.41 20L4 18.59l7.72-7.72 1.47 1.35L5.41 20z\"/>\n",
              "  </svg>\n",
              "      </button>\n",
              "      \n",
              "  <style>\n",
              "    .colab-df-container {\n",
              "      display:flex;\n",
              "      flex-wrap:wrap;\n",
              "      gap: 12px;\n",
              "    }\n",
              "\n",
              "    .colab-df-convert {\n",
              "      background-color: #E8F0FE;\n",
              "      border: none;\n",
              "      border-radius: 50%;\n",
              "      cursor: pointer;\n",
              "      display: none;\n",
              "      fill: #1967D2;\n",
              "      height: 32px;\n",
              "      padding: 0 0 0 0;\n",
              "      width: 32px;\n",
              "    }\n",
              "\n",
              "    .colab-df-convert:hover {\n",
              "      background-color: #E2EBFA;\n",
              "      box-shadow: 0px 1px 2px rgba(60, 64, 67, 0.3), 0px 1px 3px 1px rgba(60, 64, 67, 0.15);\n",
              "      fill: #174EA6;\n",
              "    }\n",
              "\n",
              "    [theme=dark] .colab-df-convert {\n",
              "      background-color: #3B4455;\n",
              "      fill: #D2E3FC;\n",
              "    }\n",
              "\n",
              "    [theme=dark] .colab-df-convert:hover {\n",
              "      background-color: #434B5C;\n",
              "      box-shadow: 0px 1px 3px 1px rgba(0, 0, 0, 0.15);\n",
              "      filter: drop-shadow(0px 1px 2px rgba(0, 0, 0, 0.3));\n",
              "      fill: #FFFFFF;\n",
              "    }\n",
              "  </style>\n",
              "\n",
              "      <script>\n",
              "        const buttonEl =\n",
              "          document.querySelector('#df-0420c444-4c44-4dfc-82b6-931ab9d4df03 button.colab-df-convert');\n",
              "        buttonEl.style.display =\n",
              "          google.colab.kernel.accessAllowed ? 'block' : 'none';\n",
              "\n",
              "        async function convertToInteractive(key) {\n",
              "          const element = document.querySelector('#df-0420c444-4c44-4dfc-82b6-931ab9d4df03');\n",
              "          const dataTable =\n",
              "            await google.colab.kernel.invokeFunction('convertToInteractive',\n",
              "                                                     [key], {});\n",
              "          if (!dataTable) return;\n",
              "\n",
              "          const docLinkHtml = 'Like what you see? Visit the ' +\n",
              "            '<a target=\"_blank\" href=https://colab.research.google.com/notebooks/data_table.ipynb>data table notebook</a>'\n",
              "            + ' to learn more about interactive tables.';\n",
              "          element.innerHTML = '';\n",
              "          dataTable['output_type'] = 'display_data';\n",
              "          await google.colab.output.renderOutput(dataTable, element);\n",
              "          const docLink = document.createElement('div');\n",
              "          docLink.innerHTML = docLinkHtml;\n",
              "          element.appendChild(docLink);\n",
              "        }\n",
              "      </script>\n",
              "    </div>\n",
              "  </div>\n",
              "  "
            ]
          },
          "metadata": {},
          "execution_count": 211
        }
      ]
    },
    {
      "cell_type": "markdown",
      "source": [
        "### Insight\n",
        "The function, closest_station(), iterates through those Hotspots located near the Catchments and pulls out the two closest.\n",
        "\n",
        "*   64 Catchments have two or more Hostspots closest to them, from these 128 Hotspots are pulled\n",
        "\n",
        "*   13 Catchments have single Hotspots closest to them and 13 Hotspots are pulled from them\n",
        "\n",
        "*   141 total Hotspots are pulled from 77 Catchments.\n",
        "\n",
        "*   13 NaN are found in column 1.This because only one Hotspot is close to each of these Catchments.\n",
        "\n",
        "The function can be tweaked to increase the number of Hospots pulled from a Catchment.\n",
        "\n",
        "The sjoin_nearest geopandas function displays the distances between a Catchment and its nearest Hotspots.\n",
        "\n",
        "The nearest Hotspots to each Catchment range from 1 to 36. This becomes obvious when you run the code snippet 'hotspot_catchment_closest['index_right'].value_counts()'. "
      ],
      "metadata": {
        "id": "-Wy0Mu27Cu7G"
      }
    },
    {
      "cell_type": "code",
      "source": [
        "#needed_station_df.to_csv('needed_station_csv.csv', index=True)"
      ],
      "metadata": {
        "id": "aL0o_1U6llX8"
      },
      "execution_count": 212,
      "outputs": []
    }
  ],
  "metadata": {
    "colab": {
      "collapsed_sections": [],
      "provenance": []
    },
    "kernelspec": {
      "display_name": "Python 3",
      "name": "python3"
    },
    "language_info": {
      "name": "python"
    }
  },
  "nbformat": 4,
  "nbformat_minor": 0
}