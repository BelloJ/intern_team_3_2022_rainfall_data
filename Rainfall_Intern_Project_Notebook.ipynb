{
 "cells": [
  {
   "cell_type": "markdown",
   "id": "2b33f7aa",
   "metadata": {},
   "source": [
    "<a id=\"top\"></a>\n",
    "# Internship project: Transforming raw rainfall data into a high quality data product  \n",
    "\n",
    "### Team 3: Explore DS Academy\n",
    "---\n",
    "<img src=\"https://www.esri.com/content/dam/esrisites/en-us/about/what-is-gis/assets/image-switcher-maps/identify-problems-what-is-gis-image-switcher.jpg\" align=\"left\">"
   ]
  },
  {
   "cell_type": "markdown",
   "id": "d85304a5",
   "metadata": {},
   "source": [
    "**Team Members:** Okon Prince, Elvis Esharegharan, Abiemwense Omokaro, Elmund Dotsey, Joseph Okonkwo, Alfred Mondi  \n",
    "**Internship Mentors:** Mzi Xaba, Kelly Ile\n",
    "\n",
    "* [Notebook repo](https://github.com/Muzi-EXPLORE/intern_team_3_2022_rainfall_data)\n",
    "* [Trello board](https://trello.com/b/UtTFA0JS/team-3) "
   ]
  },
  {
   "cell_type": "code",
   "execution_count": 1,
   "id": "1cda7840",
   "metadata": {},
   "outputs": [],
   "source": [
    "import geopandas as gpd\n",
    "import shapely.wkt\n",
    "import pandas as pd\n",
    "import matplotlib.pyplot as plt\n",
    "import seaborn as sns\n",
    "from sklearn.feature_selection import VarianceThreshold"
   ]
  },
  {
   "cell_type": "code",
   "execution_count": 2,
   "id": "f18539c8",
   "metadata": {},
   "outputs": [],
   "source": [
    "# load the data\n",
    "df_o= pd.read_csv('Optimised_rainfall_objects_202209.csv') \n",
    "df_no= pd.read_csv('Non-optimised_rainfall_objects_202209.csv') "
   ]
  },
  {
   "cell_type": "code",
   "execution_count": 3,
   "id": "e0589b77",
   "metadata": {},
   "outputs": [
    {
     "data": {
      "text/html": [
       "<div>\n",
       "<style scoped>\n",
       "    .dataframe tbody tr th:only-of-type {\n",
       "        vertical-align: middle;\n",
       "    }\n",
       "\n",
       "    .dataframe tbody tr th {\n",
       "        vertical-align: top;\n",
       "    }\n",
       "\n",
       "    .dataframe thead th {\n",
       "        text-align: right;\n",
       "    }\n",
       "</style>\n",
       "<table border=\"1\" class=\"dataframe\">\n",
       "  <thead>\n",
       "    <tr style=\"text-align: right;\">\n",
       "      <th></th>\n",
       "      <th>STATION_NO</th>\n",
       "      <th>STATION_LATITUDE</th>\n",
       "      <th>STATION_LONGITUDE</th>\n",
       "      <th>OBJECT_TYPE</th>\n",
       "      <th>OBJECT_TYPE_SHORTNAME</th>\n",
       "      <th>STATION_AREA_WKT</th>\n",
       "      <th>CREATIONTIME</th>\n",
       "    </tr>\n",
       "  </thead>\n",
       "  <tbody>\n",
       "    <tr>\n",
       "      <th>0</th>\n",
       "      <td>CM53010213-cbd2-4f6d-b3ca-48380c1a9182</td>\n",
       "      <td>50.890245</td>\n",
       "      <td>0.557153</td>\n",
       "      <td>Catchment</td>\n",
       "      <td>CM</td>\n",
       "      <td>POLYGON ((0.555378 50.88834,0.555892 50.889354...</td>\n",
       "      <td>2022-03-23 18:02:52.000</td>\n",
       "    </tr>\n",
       "    <tr>\n",
       "      <th>1</th>\n",
       "      <td>CM145cd21b-3329-4d9f-b44c-14da1a9824a2</td>\n",
       "      <td>51.146506</td>\n",
       "      <td>-0.004037</td>\n",
       "      <td>Catchment</td>\n",
       "      <td>CM</td>\n",
       "      <td>POLYGON ((-0.010209 51.147913,-0.003574 51.147...</td>\n",
       "      <td>2022-03-23 18:02:52.000</td>\n",
       "    </tr>\n",
       "    <tr>\n",
       "      <th>2</th>\n",
       "      <td>CM1f9fd786-9dcd-4a88-9fd7-14ebf61ad0b2</td>\n",
       "      <td>50.794966</td>\n",
       "      <td>-1.023181</td>\n",
       "      <td>Catchment</td>\n",
       "      <td>CM</td>\n",
       "      <td>POLYGON ((-1.016756 50.792095,-1.017329 50.792...</td>\n",
       "      <td>2022-03-23 18:02:53.000</td>\n",
       "    </tr>\n",
       "    <tr>\n",
       "      <th>3</th>\n",
       "      <td>CMae692cd6-fefe-4e1b-8777-25a90d8017fa</td>\n",
       "      <td>51.112963</td>\n",
       "      <td>0.183215</td>\n",
       "      <td>Catchment</td>\n",
       "      <td>CM</td>\n",
       "      <td>POLYGON ((0.186719 51.11561,0.18656 51.115525,...</td>\n",
       "      <td>2022-03-23 18:02:54.000</td>\n",
       "    </tr>\n",
       "    <tr>\n",
       "      <th>4</th>\n",
       "      <td>CM17f5cc28-e241-4bef-9afb-4b1fdbe2deba</td>\n",
       "      <td>51.336560</td>\n",
       "      <td>1.369312</td>\n",
       "      <td>Catchment</td>\n",
       "      <td>CM</td>\n",
       "      <td>POLYGON ((1.381381 51.333004,1.38128 51.333037...</td>\n",
       "      <td>2022-03-23 18:02:54.000</td>\n",
       "    </tr>\n",
       "  </tbody>\n",
       "</table>\n",
       "</div>"
      ],
      "text/plain": [
       "                               STATION_NO  STATION_LATITUDE  \\\n",
       "0  CM53010213-cbd2-4f6d-b3ca-48380c1a9182         50.890245   \n",
       "1  CM145cd21b-3329-4d9f-b44c-14da1a9824a2         51.146506   \n",
       "2  CM1f9fd786-9dcd-4a88-9fd7-14ebf61ad0b2         50.794966   \n",
       "3  CMae692cd6-fefe-4e1b-8777-25a90d8017fa         51.112963   \n",
       "4  CM17f5cc28-e241-4bef-9afb-4b1fdbe2deba         51.336560   \n",
       "\n",
       "   STATION_LONGITUDE OBJECT_TYPE OBJECT_TYPE_SHORTNAME  \\\n",
       "0           0.557153   Catchment                    CM   \n",
       "1          -0.004037   Catchment                    CM   \n",
       "2          -1.023181   Catchment                    CM   \n",
       "3           0.183215   Catchment                    CM   \n",
       "4           1.369312   Catchment                    CM   \n",
       "\n",
       "                                    STATION_AREA_WKT             CREATIONTIME  \n",
       "0  POLYGON ((0.555378 50.88834,0.555892 50.889354...  2022-03-23 18:02:52.000  \n",
       "1  POLYGON ((-0.010209 51.147913,-0.003574 51.147...  2022-03-23 18:02:52.000  \n",
       "2  POLYGON ((-1.016756 50.792095,-1.017329 50.792...  2022-03-23 18:02:53.000  \n",
       "3  POLYGON ((0.186719 51.11561,0.18656 51.115525,...  2022-03-23 18:02:54.000  \n",
       "4  POLYGON ((1.381381 51.333004,1.38128 51.333037...  2022-03-23 18:02:54.000  "
      ]
     },
     "execution_count": 3,
     "metadata": {},
     "output_type": "execute_result"
    }
   ],
   "source": [
    "df_o.head()"
   ]
  },
  {
   "cell_type": "code",
   "execution_count": 4,
   "id": "9bafd9bc",
   "metadata": {},
   "outputs": [
    {
     "data": {
      "text/html": [
       "<div>\n",
       "<style scoped>\n",
       "    .dataframe tbody tr th:only-of-type {\n",
       "        vertical-align: middle;\n",
       "    }\n",
       "\n",
       "    .dataframe tbody tr th {\n",
       "        vertical-align: top;\n",
       "    }\n",
       "\n",
       "    .dataframe thead th {\n",
       "        text-align: right;\n",
       "    }\n",
       "</style>\n",
       "<table border=\"1\" class=\"dataframe\">\n",
       "  <thead>\n",
       "    <tr style=\"text-align: right;\">\n",
       "      <th></th>\n",
       "      <th>STATION_NO</th>\n",
       "      <th>STATION_LATITUDE</th>\n",
       "      <th>STATION_LONGITUDE</th>\n",
       "      <th>OBJECT_TYPE</th>\n",
       "      <th>OBJECT_TYPE_SHORTNAME</th>\n",
       "      <th>STATION_AREA_WKT</th>\n",
       "      <th>CREATIONTIME</th>\n",
       "    </tr>\n",
       "  </thead>\n",
       "  <tbody>\n",
       "    <tr>\n",
       "      <th>0</th>\n",
       "      <td>HSadee6548-d797-49a3-a2a0-b7e8348f0b27</td>\n",
       "      <td>51.130919</td>\n",
       "      <td>1.317469</td>\n",
       "      <td>Hotspot</td>\n",
       "      <td>HS</td>\n",
       "      <td>NaN</td>\n",
       "      <td>2019-05-23 10:22:57.000</td>\n",
       "    </tr>\n",
       "    <tr>\n",
       "      <th>1</th>\n",
       "      <td>HSfd30138a-5a83-450a-81d3-7d1335d69c09</td>\n",
       "      <td>50.846194</td>\n",
       "      <td>-1.055814</td>\n",
       "      <td>Hotspot</td>\n",
       "      <td>HS</td>\n",
       "      <td>NaN</td>\n",
       "      <td>2019-05-20 11:42:16.000</td>\n",
       "    </tr>\n",
       "    <tr>\n",
       "      <th>2</th>\n",
       "      <td>HSefb5e85c-71f8-42a4-b529-44cdd306486d</td>\n",
       "      <td>50.839552</td>\n",
       "      <td>-1.044914</td>\n",
       "      <td>Hotspot</td>\n",
       "      <td>HS</td>\n",
       "      <td>NaN</td>\n",
       "      <td>2019-05-20 12:12:35.000</td>\n",
       "    </tr>\n",
       "    <tr>\n",
       "      <th>3</th>\n",
       "      <td>HS9037443f-c430-4468-86b8-8c2c0362e1c6</td>\n",
       "      <td>51.416060</td>\n",
       "      <td>0.752698</td>\n",
       "      <td>Hotspot</td>\n",
       "      <td>HS</td>\n",
       "      <td>NaN</td>\n",
       "      <td>2019-05-23 14:28:36.000</td>\n",
       "    </tr>\n",
       "    <tr>\n",
       "      <th>4</th>\n",
       "      <td>HS27e9d11e-c6ce-4e8f-ba3a-aac71fd09ff3</td>\n",
       "      <td>50.824115</td>\n",
       "      <td>-0.426342</td>\n",
       "      <td>Hotspot</td>\n",
       "      <td>HS</td>\n",
       "      <td>NaN</td>\n",
       "      <td>2018-04-10 12:31:01.000</td>\n",
       "    </tr>\n",
       "  </tbody>\n",
       "</table>\n",
       "</div>"
      ],
      "text/plain": [
       "                               STATION_NO  STATION_LATITUDE  \\\n",
       "0  HSadee6548-d797-49a3-a2a0-b7e8348f0b27         51.130919   \n",
       "1  HSfd30138a-5a83-450a-81d3-7d1335d69c09         50.846194   \n",
       "2  HSefb5e85c-71f8-42a4-b529-44cdd306486d         50.839552   \n",
       "3  HS9037443f-c430-4468-86b8-8c2c0362e1c6         51.416060   \n",
       "4  HS27e9d11e-c6ce-4e8f-ba3a-aac71fd09ff3         50.824115   \n",
       "\n",
       "   STATION_LONGITUDE OBJECT_TYPE OBJECT_TYPE_SHORTNAME STATION_AREA_WKT  \\\n",
       "0           1.317469     Hotspot                    HS              NaN   \n",
       "1          -1.055814     Hotspot                    HS              NaN   \n",
       "2          -1.044914     Hotspot                    HS              NaN   \n",
       "3           0.752698     Hotspot                    HS              NaN   \n",
       "4          -0.426342     Hotspot                    HS              NaN   \n",
       "\n",
       "              CREATIONTIME  \n",
       "0  2019-05-23 10:22:57.000  \n",
       "1  2019-05-20 11:42:16.000  \n",
       "2  2019-05-20 12:12:35.000  \n",
       "3  2019-05-23 14:28:36.000  \n",
       "4  2018-04-10 12:31:01.000  "
      ]
     },
     "execution_count": 4,
     "metadata": {},
     "output_type": "execute_result"
    }
   ],
   "source": [
    "df_no.head()"
   ]
  },
  {
   "cell_type": "code",
   "execution_count": 5,
   "id": "2d6cd162",
   "metadata": {},
   "outputs": [
    {
     "data": {
      "text/plain": [
       "((90, 7), (597, 7))"
      ]
     },
     "execution_count": 5,
     "metadata": {},
     "output_type": "execute_result"
    }
   ],
   "source": [
    "df_o.shape, df_no.shape"
   ]
  },
  {
   "cell_type": "code",
   "execution_count": 6,
   "id": "58273175",
   "metadata": {},
   "outputs": [
    {
     "name": "stdout",
     "output_type": "stream",
     "text": [
      "<class 'pandas.core.frame.DataFrame'>\n",
      "RangeIndex: 90 entries, 0 to 89\n",
      "Data columns (total 7 columns):\n",
      " #   Column                 Non-Null Count  Dtype  \n",
      "---  ------                 --------------  -----  \n",
      " 0   STATION_NO             90 non-null     object \n",
      " 1   STATION_LATITUDE       90 non-null     float64\n",
      " 2   STATION_LONGITUDE      90 non-null     float64\n",
      " 3   OBJECT_TYPE            90 non-null     object \n",
      " 4   OBJECT_TYPE_SHORTNAME  90 non-null     object \n",
      " 5   STATION_AREA_WKT       90 non-null     object \n",
      " 6   CREATIONTIME           90 non-null     object \n",
      "dtypes: float64(2), object(5)\n",
      "memory usage: 5.0+ KB\n"
     ]
    }
   ],
   "source": [
    "df_o.info()"
   ]
  },
  {
   "cell_type": "code",
   "execution_count": 7,
   "id": "4d6a90d4",
   "metadata": {},
   "outputs": [
    {
     "name": "stdout",
     "output_type": "stream",
     "text": [
      "<class 'pandas.core.frame.DataFrame'>\n",
      "RangeIndex: 597 entries, 0 to 596\n",
      "Data columns (total 7 columns):\n",
      " #   Column                 Non-Null Count  Dtype  \n",
      "---  ------                 --------------  -----  \n",
      " 0   STATION_NO             597 non-null    object \n",
      " 1   STATION_LATITUDE       597 non-null    float64\n",
      " 2   STATION_LONGITUDE      597 non-null    float64\n",
      " 3   OBJECT_TYPE            597 non-null    object \n",
      " 4   OBJECT_TYPE_SHORTNAME  597 non-null    object \n",
      " 5   STATION_AREA_WKT       56 non-null     object \n",
      " 6   CREATIONTIME           597 non-null    object \n",
      "dtypes: float64(2), object(5)\n",
      "memory usage: 32.8+ KB\n"
     ]
    }
   ],
   "source": [
    "df_no.info()"
   ]
  },
  {
   "cell_type": "code",
   "execution_count": 8,
   "id": "659958a8",
   "metadata": {},
   "outputs": [
    {
     "data": {
      "text/plain": [
       "Hotspot             541\n",
       "Catchment            49\n",
       "Zone of interest      7\n",
       "Name: OBJECT_TYPE, dtype: int64"
      ]
     },
     "execution_count": 8,
     "metadata": {},
     "output_type": "execute_result"
    }
   ],
   "source": [
    "# Check the unique classes or values in the OBJECT TYPE feature\n",
    "df_no['OBJECT_TYPE'].value_counts()"
   ]
  },
  {
   "cell_type": "code",
   "execution_count": 10,
   "id": "0d07f9ca",
   "metadata": {},
   "outputs": [
    {
     "data": {
      "text/plain": [
       "Hotspot             541\n",
       "Catchment            49\n",
       "Zone of interest      7\n",
       "Name: OBJECT_TYPE, dtype: int64"
      ]
     },
     "execution_count": 10,
     "metadata": {},
     "output_type": "execute_result"
    }
   ],
   "source": [
    "df_no['OBJECT_TYPE'].value_counts()"
   ]
  },
  {
   "cell_type": "markdown",
   "id": "826ae502",
   "metadata": {},
   "source": [
    "### Task 1\n",
    "Use only \"hotspots\" (indicated in OBJECT_TYPE column) from the Non-optimised_rainfall_objects_202209.csv \n",
    "\n",
    "To do this, first create a new data frame containing only OBJECT_TYPE \"Hotspot\" from the non-optimised data frame"
   ]
  },
  {
   "cell_type": "code",
   "execution_count": 24,
   "id": "7ae097cf",
   "metadata": {},
   "outputs": [
    {
     "data": {
      "text/plain": [
       "(56, 7)"
      ]
     },
     "execution_count": 24,
     "metadata": {},
     "output_type": "execute_result"
    }
   ],
   "source": [
    "df_nohotspot = df_no[df_no['OBJECT_TYPE']!='Hotspot']\n",
    "df_nohotspot.shape"
   ]
  },
  {
   "cell_type": "code",
   "execution_count": 25,
   "id": "a6d92854",
   "metadata": {},
   "outputs": [
    {
     "data": {
      "text/html": [
       "<div>\n",
       "<style scoped>\n",
       "    .dataframe tbody tr th:only-of-type {\n",
       "        vertical-align: middle;\n",
       "    }\n",
       "\n",
       "    .dataframe tbody tr th {\n",
       "        vertical-align: top;\n",
       "    }\n",
       "\n",
       "    .dataframe thead th {\n",
       "        text-align: right;\n",
       "    }\n",
       "</style>\n",
       "<table border=\"1\" class=\"dataframe\">\n",
       "  <thead>\n",
       "    <tr style=\"text-align: right;\">\n",
       "      <th></th>\n",
       "      <th>STATION_NO</th>\n",
       "      <th>STATION_LATITUDE</th>\n",
       "      <th>STATION_LONGITUDE</th>\n",
       "      <th>OBJECT_TYPE</th>\n",
       "      <th>OBJECT_TYPE_SHORTNAME</th>\n",
       "      <th>STATION_AREA_WKT</th>\n",
       "      <th>CREATIONTIME</th>\n",
       "    </tr>\n",
       "  </thead>\n",
       "  <tbody>\n",
       "    <tr>\n",
       "      <th>13</th>\n",
       "      <td>CM145fbbb3-814c-46c8-b365-545185983755</td>\n",
       "      <td>51.108822</td>\n",
       "      <td>0.951913</td>\n",
       "      <td>Catchment</td>\n",
       "      <td>CM</td>\n",
       "      <td>POLYGON ((0.82771 51.07838,0.82291 51.0794,0.8...</td>\n",
       "      <td>2017-03-14 12:19:01.000</td>\n",
       "    </tr>\n",
       "    <tr>\n",
       "      <th>14</th>\n",
       "      <td>CM687f7f97-3395-43d9-b0e3-7acb9b3b646c</td>\n",
       "      <td>50.849934</td>\n",
       "      <td>-0.380189</td>\n",
       "      <td>Catchment</td>\n",
       "      <td>CM</td>\n",
       "      <td>POLYGON ((-0.22827 50.78343,-0.54124 50.78392,...</td>\n",
       "      <td>2017-11-28 15:37:16.000</td>\n",
       "    </tr>\n",
       "    <tr>\n",
       "      <th>15</th>\n",
       "      <td>ZIfcbee7eb-6a39-4cf5-9352-6f9c00a50552</td>\n",
       "      <td>50.795757</td>\n",
       "      <td>0.281778</td>\n",
       "      <td>Zone of interest</td>\n",
       "      <td>ZI</td>\n",
       "      <td>POLYGON ((0.333008 50.788701,0.249299 50.73368...</td>\n",
       "      <td>2019-05-23 10:39:47.000</td>\n",
       "    </tr>\n",
       "    <tr>\n",
       "      <th>16</th>\n",
       "      <td>CMeb49aace-8421-4d29-b668-a4d9401d52ec</td>\n",
       "      <td>50.857412</td>\n",
       "      <td>0.273727</td>\n",
       "      <td>Catchment</td>\n",
       "      <td>CM</td>\n",
       "      <td>POLYGON ((0.46551 50.83185,0.36475 50.82106,0....</td>\n",
       "      <td>2017-11-28 15:37:53.000</td>\n",
       "    </tr>\n",
       "    <tr>\n",
       "      <th>17</th>\n",
       "      <td>ZI2088b02a-034b-4b7b-9b9c-efa7470d2c7d</td>\n",
       "      <td>51.214673</td>\n",
       "      <td>0.798888</td>\n",
       "      <td>Zone of interest</td>\n",
       "      <td>ZI</td>\n",
       "      <td>POLYGON ((0.696387 50.889944,-0.024591 51.2472...</td>\n",
       "      <td>2021-03-12 16:09:44.000</td>\n",
       "    </tr>\n",
       "  </tbody>\n",
       "</table>\n",
       "</div>"
      ],
      "text/plain": [
       "                                STATION_NO  STATION_LATITUDE  \\\n",
       "13  CM145fbbb3-814c-46c8-b365-545185983755         51.108822   \n",
       "14  CM687f7f97-3395-43d9-b0e3-7acb9b3b646c         50.849934   \n",
       "15  ZIfcbee7eb-6a39-4cf5-9352-6f9c00a50552         50.795757   \n",
       "16  CMeb49aace-8421-4d29-b668-a4d9401d52ec         50.857412   \n",
       "17  ZI2088b02a-034b-4b7b-9b9c-efa7470d2c7d         51.214673   \n",
       "\n",
       "    STATION_LONGITUDE       OBJECT_TYPE OBJECT_TYPE_SHORTNAME  \\\n",
       "13           0.951913         Catchment                    CM   \n",
       "14          -0.380189         Catchment                    CM   \n",
       "15           0.281778  Zone of interest                    ZI   \n",
       "16           0.273727         Catchment                    CM   \n",
       "17           0.798888  Zone of interest                    ZI   \n",
       "\n",
       "                                     STATION_AREA_WKT             CREATIONTIME  \n",
       "13  POLYGON ((0.82771 51.07838,0.82291 51.0794,0.8...  2017-03-14 12:19:01.000  \n",
       "14  POLYGON ((-0.22827 50.78343,-0.54124 50.78392,...  2017-11-28 15:37:16.000  \n",
       "15  POLYGON ((0.333008 50.788701,0.249299 50.73368...  2019-05-23 10:39:47.000  \n",
       "16  POLYGON ((0.46551 50.83185,0.36475 50.82106,0....  2017-11-28 15:37:53.000  \n",
       "17  POLYGON ((0.696387 50.889944,-0.024591 51.2472...  2021-03-12 16:09:44.000  "
      ]
     },
     "execution_count": 25,
     "metadata": {},
     "output_type": "execute_result"
    }
   ],
   "source": [
    "df_nohotspot.head()"
   ]
  },
  {
   "cell_type": "code",
   "execution_count": null,
   "id": "eb6fd839",
   "metadata": {},
   "outputs": [],
   "source": [
    "# Create a new dataframe for the children from extremely low income homes\n",
    "#df_hotspot = df_no[df_no['OBJECT_TYPE']=='Hotspot']\n",
    "#df_hotspot.shape"
   ]
  },
  {
   "cell_type": "markdown",
   "id": "7a00de37",
   "metadata": {},
   "source": [
    "### Task 2\n",
    "For the objects in step 1, get the geometry from the column STATION_AREA_WKT. This geometry should only consist of a pair of coordinates. "
   ]
  },
  {
   "cell_type": "code",
   "execution_count": null,
   "id": "32c4a1fe",
   "metadata": {},
   "outputs": [],
   "source": [
    "df_hotspot.head(1)"
   ]
  },
  {
   "cell_type": "code",
   "execution_count": null,
   "id": "a7280954",
   "metadata": {},
   "outputs": [],
   "source": [
    "df_hotspot.info()"
   ]
  },
  {
   "cell_type": "code",
   "execution_count": null,
   "id": "a47fdcee",
   "metadata": {},
   "outputs": [],
   "source": []
  },
  {
   "cell_type": "code",
   "execution_count": null,
   "id": "7d8b526c",
   "metadata": {},
   "outputs": [],
   "source": []
  },
  {
   "cell_type": "code",
   "execution_count": null,
   "id": "1a4b00aa",
   "metadata": {},
   "outputs": [],
   "source": []
  },
  {
   "cell_type": "code",
   "execution_count": null,
   "id": "5d715227",
   "metadata": {},
   "outputs": [],
   "source": []
  },
  {
   "cell_type": "code",
   "execution_count": null,
   "id": "4d17aeb5",
   "metadata": {},
   "outputs": [],
   "source": []
  },
  {
   "cell_type": "code",
   "execution_count": 31,
   "id": "a894ab8e",
   "metadata": {},
   "outputs": [],
   "source": [
    "geometry = df_nohotspot['STATION_AREA_WKT'].map(shapely.wkt.loads)\n",
    "dfg = df_nohotspot.drop('STATION_AREA_WKT', axis=1)\n",
    "gdf = gpd.GeoDataFrame(df_nohotspot, crs=\"EPSG:4326\", geometry=geometry)"
   ]
  },
  {
   "cell_type": "code",
   "execution_count": null,
   "id": "d4475e24",
   "metadata": {},
   "outputs": [],
   "source": []
  },
  {
   "cell_type": "code",
   "execution_count": null,
   "id": "084934d6",
   "metadata": {},
   "outputs": [],
   "source": [
    "# Check the unique classes or values in the OBJECT TYPE feature\n",
    "gdf['geometry'].value_counts()"
   ]
  },
  {
   "cell_type": "code",
   "execution_count": null,
   "id": "9ec65280",
   "metadata": {},
   "outputs": [],
   "source": []
  },
  {
   "cell_type": "code",
   "execution_count": null,
   "id": "3abea07d",
   "metadata": {},
   "outputs": [],
   "source": []
  },
  {
   "cell_type": "code",
   "execution_count": 29,
   "id": "0af26801",
   "metadata": {},
   "outputs": [
    {
     "data": {
      "text/plain": [
       "13    POLYGON ((0.8277099999999999 51.07838, 0.82291...\n",
       "14    POLYGON ((-0.22827 50.78343, -0.54124000000000...\n",
       "15    POLYGON ((0.333008 50.788701, 0.249299 50.7336...\n",
       "16    POLYGON ((0.46551 50.83185, 0.36475 50.82106, ...\n",
       "17    POLYGON ((0.696387 50.889944, -0.024591 51.247...\n",
       "Name: STATION_AREA_WKT, dtype: object"
      ]
     },
     "execution_count": 29,
     "metadata": {},
     "output_type": "execute_result"
    }
   ],
   "source": [
    "geometry.head()"
   ]
  },
  {
   "cell_type": "code",
   "execution_count": 32,
   "id": "07c919d4",
   "metadata": {},
   "outputs": [
    {
     "data": {
      "text/html": [
       "<div>\n",
       "<style scoped>\n",
       "    .dataframe tbody tr th:only-of-type {\n",
       "        vertical-align: middle;\n",
       "    }\n",
       "\n",
       "    .dataframe tbody tr th {\n",
       "        vertical-align: top;\n",
       "    }\n",
       "\n",
       "    .dataframe thead th {\n",
       "        text-align: right;\n",
       "    }\n",
       "</style>\n",
       "<table border=\"1\" class=\"dataframe\">\n",
       "  <thead>\n",
       "    <tr style=\"text-align: right;\">\n",
       "      <th></th>\n",
       "      <th>STATION_NO</th>\n",
       "      <th>STATION_LATITUDE</th>\n",
       "      <th>STATION_LONGITUDE</th>\n",
       "      <th>OBJECT_TYPE</th>\n",
       "      <th>OBJECT_TYPE_SHORTNAME</th>\n",
       "      <th>CREATIONTIME</th>\n",
       "      <th>geometry</th>\n",
       "    </tr>\n",
       "  </thead>\n",
       "  <tbody>\n",
       "    <tr>\n",
       "      <th>13</th>\n",
       "      <td>CM145fbbb3-814c-46c8-b365-545185983755</td>\n",
       "      <td>51.108822</td>\n",
       "      <td>0.951913</td>\n",
       "      <td>Catchment</td>\n",
       "      <td>CM</td>\n",
       "      <td>2017-03-14 12:19:01.000</td>\n",
       "      <td>POLYGON ((0.82771 51.07838, 0.82291 51.07940, ...</td>\n",
       "    </tr>\n",
       "    <tr>\n",
       "      <th>14</th>\n",
       "      <td>CM687f7f97-3395-43d9-b0e3-7acb9b3b646c</td>\n",
       "      <td>50.849934</td>\n",
       "      <td>-0.380189</td>\n",
       "      <td>Catchment</td>\n",
       "      <td>CM</td>\n",
       "      <td>2017-11-28 15:37:16.000</td>\n",
       "      <td>POLYGON ((-0.22827 50.78343, -0.54124 50.78392...</td>\n",
       "    </tr>\n",
       "    <tr>\n",
       "      <th>15</th>\n",
       "      <td>ZIfcbee7eb-6a39-4cf5-9352-6f9c00a50552</td>\n",
       "      <td>50.795757</td>\n",
       "      <td>0.281778</td>\n",
       "      <td>Zone of interest</td>\n",
       "      <td>ZI</td>\n",
       "      <td>2019-05-23 10:39:47.000</td>\n",
       "      <td>POLYGON ((0.33301 50.78870, 0.24930 50.73368, ...</td>\n",
       "    </tr>\n",
       "    <tr>\n",
       "      <th>16</th>\n",
       "      <td>CMeb49aace-8421-4d29-b668-a4d9401d52ec</td>\n",
       "      <td>50.857412</td>\n",
       "      <td>0.273727</td>\n",
       "      <td>Catchment</td>\n",
       "      <td>CM</td>\n",
       "      <td>2017-11-28 15:37:53.000</td>\n",
       "      <td>POLYGON ((0.46551 50.83185, 0.36475 50.82106, ...</td>\n",
       "    </tr>\n",
       "    <tr>\n",
       "      <th>17</th>\n",
       "      <td>ZI2088b02a-034b-4b7b-9b9c-efa7470d2c7d</td>\n",
       "      <td>51.214673</td>\n",
       "      <td>0.798888</td>\n",
       "      <td>Zone of interest</td>\n",
       "      <td>ZI</td>\n",
       "      <td>2021-03-12 16:09:44.000</td>\n",
       "      <td>POLYGON ((0.69639 50.88994, -0.02459 51.24721,...</td>\n",
       "    </tr>\n",
       "  </tbody>\n",
       "</table>\n",
       "</div>"
      ],
      "text/plain": [
       "                                STATION_NO  STATION_LATITUDE  \\\n",
       "13  CM145fbbb3-814c-46c8-b365-545185983755         51.108822   \n",
       "14  CM687f7f97-3395-43d9-b0e3-7acb9b3b646c         50.849934   \n",
       "15  ZIfcbee7eb-6a39-4cf5-9352-6f9c00a50552         50.795757   \n",
       "16  CMeb49aace-8421-4d29-b668-a4d9401d52ec         50.857412   \n",
       "17  ZI2088b02a-034b-4b7b-9b9c-efa7470d2c7d         51.214673   \n",
       "\n",
       "    STATION_LONGITUDE       OBJECT_TYPE OBJECT_TYPE_SHORTNAME  \\\n",
       "13           0.951913         Catchment                    CM   \n",
       "14          -0.380189         Catchment                    CM   \n",
       "15           0.281778  Zone of interest                    ZI   \n",
       "16           0.273727         Catchment                    CM   \n",
       "17           0.798888  Zone of interest                    ZI   \n",
       "\n",
       "               CREATIONTIME                                           geometry  \n",
       "13  2017-03-14 12:19:01.000  POLYGON ((0.82771 51.07838, 0.82291 51.07940, ...  \n",
       "14  2017-11-28 15:37:16.000  POLYGON ((-0.22827 50.78343, -0.54124 50.78392...  \n",
       "15  2019-05-23 10:39:47.000  POLYGON ((0.33301 50.78870, 0.24930 50.73368, ...  \n",
       "16  2017-11-28 15:37:53.000  POLYGON ((0.46551 50.83185, 0.36475 50.82106, ...  \n",
       "17  2021-03-12 16:09:44.000  POLYGON ((0.69639 50.88994, -0.02459 51.24721,...  "
      ]
     },
     "execution_count": 32,
     "metadata": {},
     "output_type": "execute_result"
    }
   ],
   "source": [
    "dfg.head()"
   ]
  },
  {
   "cell_type": "code",
   "execution_count": 33,
   "id": "57386fcf",
   "metadata": {},
   "outputs": [
    {
     "data": {
      "text/html": [
       "<div>\n",
       "<style scoped>\n",
       "    .dataframe tbody tr th:only-of-type {\n",
       "        vertical-align: middle;\n",
       "    }\n",
       "\n",
       "    .dataframe tbody tr th {\n",
       "        vertical-align: top;\n",
       "    }\n",
       "\n",
       "    .dataframe thead th {\n",
       "        text-align: right;\n",
       "    }\n",
       "</style>\n",
       "<table border=\"1\" class=\"dataframe\">\n",
       "  <thead>\n",
       "    <tr style=\"text-align: right;\">\n",
       "      <th></th>\n",
       "      <th>STATION_NO</th>\n",
       "      <th>STATION_LATITUDE</th>\n",
       "      <th>STATION_LONGITUDE</th>\n",
       "      <th>OBJECT_TYPE</th>\n",
       "      <th>OBJECT_TYPE_SHORTNAME</th>\n",
       "      <th>STATION_AREA_WKT</th>\n",
       "      <th>CREATIONTIME</th>\n",
       "      <th>geometry</th>\n",
       "    </tr>\n",
       "  </thead>\n",
       "  <tbody>\n",
       "    <tr>\n",
       "      <th>13</th>\n",
       "      <td>CM145fbbb3-814c-46c8-b365-545185983755</td>\n",
       "      <td>51.108822</td>\n",
       "      <td>0.951913</td>\n",
       "      <td>Catchment</td>\n",
       "      <td>CM</td>\n",
       "      <td>POLYGON ((0.82771 51.07838,0.82291 51.0794,0.8...</td>\n",
       "      <td>2017-03-14 12:19:01.000</td>\n",
       "      <td>POLYGON ((0.82771 51.07838, 0.82291 51.07940, ...</td>\n",
       "    </tr>\n",
       "    <tr>\n",
       "      <th>14</th>\n",
       "      <td>CM687f7f97-3395-43d9-b0e3-7acb9b3b646c</td>\n",
       "      <td>50.849934</td>\n",
       "      <td>-0.380189</td>\n",
       "      <td>Catchment</td>\n",
       "      <td>CM</td>\n",
       "      <td>POLYGON ((-0.22827 50.78343,-0.54124 50.78392,...</td>\n",
       "      <td>2017-11-28 15:37:16.000</td>\n",
       "      <td>POLYGON ((-0.22827 50.78343, -0.54124 50.78392...</td>\n",
       "    </tr>\n",
       "    <tr>\n",
       "      <th>15</th>\n",
       "      <td>ZIfcbee7eb-6a39-4cf5-9352-6f9c00a50552</td>\n",
       "      <td>50.795757</td>\n",
       "      <td>0.281778</td>\n",
       "      <td>Zone of interest</td>\n",
       "      <td>ZI</td>\n",
       "      <td>POLYGON ((0.333008 50.788701,0.249299 50.73368...</td>\n",
       "      <td>2019-05-23 10:39:47.000</td>\n",
       "      <td>POLYGON ((0.33301 50.78870, 0.24930 50.73368, ...</td>\n",
       "    </tr>\n",
       "    <tr>\n",
       "      <th>16</th>\n",
       "      <td>CMeb49aace-8421-4d29-b668-a4d9401d52ec</td>\n",
       "      <td>50.857412</td>\n",
       "      <td>0.273727</td>\n",
       "      <td>Catchment</td>\n",
       "      <td>CM</td>\n",
       "      <td>POLYGON ((0.46551 50.83185,0.36475 50.82106,0....</td>\n",
       "      <td>2017-11-28 15:37:53.000</td>\n",
       "      <td>POLYGON ((0.46551 50.83185, 0.36475 50.82106, ...</td>\n",
       "    </tr>\n",
       "    <tr>\n",
       "      <th>17</th>\n",
       "      <td>ZI2088b02a-034b-4b7b-9b9c-efa7470d2c7d</td>\n",
       "      <td>51.214673</td>\n",
       "      <td>0.798888</td>\n",
       "      <td>Zone of interest</td>\n",
       "      <td>ZI</td>\n",
       "      <td>POLYGON ((0.696387 50.889944,-0.024591 51.2472...</td>\n",
       "      <td>2021-03-12 16:09:44.000</td>\n",
       "      <td>POLYGON ((0.69639 50.88994, -0.02459 51.24721,...</td>\n",
       "    </tr>\n",
       "  </tbody>\n",
       "</table>\n",
       "</div>"
      ],
      "text/plain": [
       "                                STATION_NO  STATION_LATITUDE  \\\n",
       "13  CM145fbbb3-814c-46c8-b365-545185983755         51.108822   \n",
       "14  CM687f7f97-3395-43d9-b0e3-7acb9b3b646c         50.849934   \n",
       "15  ZIfcbee7eb-6a39-4cf5-9352-6f9c00a50552         50.795757   \n",
       "16  CMeb49aace-8421-4d29-b668-a4d9401d52ec         50.857412   \n",
       "17  ZI2088b02a-034b-4b7b-9b9c-efa7470d2c7d         51.214673   \n",
       "\n",
       "    STATION_LONGITUDE       OBJECT_TYPE OBJECT_TYPE_SHORTNAME  \\\n",
       "13           0.951913         Catchment                    CM   \n",
       "14          -0.380189         Catchment                    CM   \n",
       "15           0.281778  Zone of interest                    ZI   \n",
       "16           0.273727         Catchment                    CM   \n",
       "17           0.798888  Zone of interest                    ZI   \n",
       "\n",
       "                                     STATION_AREA_WKT  \\\n",
       "13  POLYGON ((0.82771 51.07838,0.82291 51.0794,0.8...   \n",
       "14  POLYGON ((-0.22827 50.78343,-0.54124 50.78392,...   \n",
       "15  POLYGON ((0.333008 50.788701,0.249299 50.73368...   \n",
       "16  POLYGON ((0.46551 50.83185,0.36475 50.82106,0....   \n",
       "17  POLYGON ((0.696387 50.889944,-0.024591 51.2472...   \n",
       "\n",
       "               CREATIONTIME                                           geometry  \n",
       "13  2017-03-14 12:19:01.000  POLYGON ((0.82771 51.07838, 0.82291 51.07940, ...  \n",
       "14  2017-11-28 15:37:16.000  POLYGON ((-0.22827 50.78343, -0.54124 50.78392...  \n",
       "15  2019-05-23 10:39:47.000  POLYGON ((0.33301 50.78870, 0.24930 50.73368, ...  \n",
       "16  2017-11-28 15:37:53.000  POLYGON ((0.46551 50.83185, 0.36475 50.82106, ...  \n",
       "17  2021-03-12 16:09:44.000  POLYGON ((0.69639 50.88994, -0.02459 51.24721,...  "
      ]
     },
     "execution_count": 33,
     "metadata": {},
     "output_type": "execute_result"
    }
   ],
   "source": [
    "gdf.head()"
   ]
  },
  {
   "cell_type": "code",
   "execution_count": null,
   "id": "f223091e",
   "metadata": {},
   "outputs": [],
   "source": []
  }
 ],
 "metadata": {
  "kernelspec": {
   "display_name": "Python 3 (ipykernel)",
   "language": "python",
   "name": "python3"
  },
  "language_info": {
   "codemirror_mode": {
    "name": "ipython",
    "version": 3
   },
   "file_extension": ".py",
   "mimetype": "text/x-python",
   "name": "python",
   "nbconvert_exporter": "python",
   "pygments_lexer": "ipython3",
   "version": "3.9.12"
  }
 },
 "nbformat": 4,
 "nbformat_minor": 5
}
