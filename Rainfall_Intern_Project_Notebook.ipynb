{
 "cells": [
  {
   "cell_type": "markdown",
   "id": "2b33f7aa",
   "metadata": {},
   "source": [
    "<a id=\"top\"></a>\n",
    "# Internship project: Transforming raw rainfall data into a high quality data product  \n",
    "\n",
    "### Team 3: Explore DS Academy\n",
    "---\n",
    "<img src=\"https://www.esri.com/content/dam/esrisites/en-us/about/what-is-gis/assets/image-switcher-maps/identify-problems-what-is-gis-image-switcher.jpg\" align=\"left\">"
   ]
  },
  {
   "cell_type": "markdown",
   "id": "d85304a5",
   "metadata": {},
   "source": [
    "**Team Members:** Okon Prince, Elvis Esharegharan, Abiemwense Omokaro, Elmund Dotsey, Joseph Okonkwo, Alfred Mondi  \n",
    "**Internship Mentors:** Mzi Xaba, Kelly Ile\n",
    "\n",
    "* [Notebook repo](https://github.com/Muzi-EXPLORE/intern_team_3_2022_rainfall_data)\n",
    "* [Trello board](https://trello.com/b/UtTFA0JS/team-3) "
   ]
  },
  {
   "cell_type": "code",
   "execution_count": 1,
   "id": "1cda7840",
   "metadata": {},
   "outputs": [],
   "source": [
    "import geopandas as gpd\n",
    "import shapely.wkt\n",
    "import pandas as pd\n",
    "import matplotlib.pyplot as plt\n",
    "import seaborn as sns\n",
    "from sklearn.feature_selection import VarianceThreshold"
   ]
  },
  {
   "cell_type": "code",
   "execution_count": 2,
   "id": "f18539c8",
   "metadata": {},
   "outputs": [],
   "source": [
    "# load the data\n",
    "df_o= pd.read_csv('Optimised_rainfall_objects_202209.csv') \n",
    "df_no= pd.read_csv('Non-optimised_rainfall_objects_202209.csv') "
   ]
  },
  {
   "cell_type": "code",
   "execution_count": 3,
   "id": "e0589b77",
   "metadata": {},
   "outputs": [
    {
     "data": {
      "text/html": [
       "<div>\n",
       "<style scoped>\n",
       "    .dataframe tbody tr th:only-of-type {\n",
       "        vertical-align: middle;\n",
       "    }\n",
       "\n",
       "    .dataframe tbody tr th {\n",
       "        vertical-align: top;\n",
       "    }\n",
       "\n",
       "    .dataframe thead th {\n",
       "        text-align: right;\n",
       "    }\n",
       "</style>\n",
       "<table border=\"1\" class=\"dataframe\">\n",
       "  <thead>\n",
       "    <tr style=\"text-align: right;\">\n",
       "      <th></th>\n",
       "      <th>STATION_NO</th>\n",
       "      <th>STATION_LATITUDE</th>\n",
       "      <th>STATION_LONGITUDE</th>\n",
       "      <th>OBJECT_TYPE</th>\n",
       "      <th>OBJECT_TYPE_SHORTNAME</th>\n",
       "      <th>STATION_AREA_WKT</th>\n",
       "      <th>CREATIONTIME</th>\n",
       "    </tr>\n",
       "  </thead>\n",
       "  <tbody>\n",
       "    <tr>\n",
       "      <th>0</th>\n",
       "      <td>CM53010213-cbd2-4f6d-b3ca-48380c1a9182</td>\n",
       "      <td>50.890245</td>\n",
       "      <td>0.557153</td>\n",
       "      <td>Catchment</td>\n",
       "      <td>CM</td>\n",
       "      <td>POLYGON ((0.555378 50.88834,0.555892 50.889354...</td>\n",
       "      <td>2022-03-23 18:02:52.000</td>\n",
       "    </tr>\n",
       "    <tr>\n",
       "      <th>1</th>\n",
       "      <td>CM145cd21b-3329-4d9f-b44c-14da1a9824a2</td>\n",
       "      <td>51.146506</td>\n",
       "      <td>-0.004037</td>\n",
       "      <td>Catchment</td>\n",
       "      <td>CM</td>\n",
       "      <td>POLYGON ((-0.010209 51.147913,-0.003574 51.147...</td>\n",
       "      <td>2022-03-23 18:02:52.000</td>\n",
       "    </tr>\n",
       "    <tr>\n",
       "      <th>2</th>\n",
       "      <td>CM1f9fd786-9dcd-4a88-9fd7-14ebf61ad0b2</td>\n",
       "      <td>50.794966</td>\n",
       "      <td>-1.023181</td>\n",
       "      <td>Catchment</td>\n",
       "      <td>CM</td>\n",
       "      <td>POLYGON ((-1.016756 50.792095,-1.017329 50.792...</td>\n",
       "      <td>2022-03-23 18:02:53.000</td>\n",
       "    </tr>\n",
       "    <tr>\n",
       "      <th>3</th>\n",
       "      <td>CMae692cd6-fefe-4e1b-8777-25a90d8017fa</td>\n",
       "      <td>51.112963</td>\n",
       "      <td>0.183215</td>\n",
       "      <td>Catchment</td>\n",
       "      <td>CM</td>\n",
       "      <td>POLYGON ((0.186719 51.11561,0.18656 51.115525,...</td>\n",
       "      <td>2022-03-23 18:02:54.000</td>\n",
       "    </tr>\n",
       "    <tr>\n",
       "      <th>4</th>\n",
       "      <td>CM17f5cc28-e241-4bef-9afb-4b1fdbe2deba</td>\n",
       "      <td>51.336560</td>\n",
       "      <td>1.369312</td>\n",
       "      <td>Catchment</td>\n",
       "      <td>CM</td>\n",
       "      <td>POLYGON ((1.381381 51.333004,1.38128 51.333037...</td>\n",
       "      <td>2022-03-23 18:02:54.000</td>\n",
       "    </tr>\n",
       "  </tbody>\n",
       "</table>\n",
       "</div>"
      ],
      "text/plain": [
       "                               STATION_NO  STATION_LATITUDE  \\\n",
       "0  CM53010213-cbd2-4f6d-b3ca-48380c1a9182         50.890245   \n",
       "1  CM145cd21b-3329-4d9f-b44c-14da1a9824a2         51.146506   \n",
       "2  CM1f9fd786-9dcd-4a88-9fd7-14ebf61ad0b2         50.794966   \n",
       "3  CMae692cd6-fefe-4e1b-8777-25a90d8017fa         51.112963   \n",
       "4  CM17f5cc28-e241-4bef-9afb-4b1fdbe2deba         51.336560   \n",
       "\n",
       "   STATION_LONGITUDE OBJECT_TYPE OBJECT_TYPE_SHORTNAME  \\\n",
       "0           0.557153   Catchment                    CM   \n",
       "1          -0.004037   Catchment                    CM   \n",
       "2          -1.023181   Catchment                    CM   \n",
       "3           0.183215   Catchment                    CM   \n",
       "4           1.369312   Catchment                    CM   \n",
       "\n",
       "                                    STATION_AREA_WKT             CREATIONTIME  \n",
       "0  POLYGON ((0.555378 50.88834,0.555892 50.889354...  2022-03-23 18:02:52.000  \n",
       "1  POLYGON ((-0.010209 51.147913,-0.003574 51.147...  2022-03-23 18:02:52.000  \n",
       "2  POLYGON ((-1.016756 50.792095,-1.017329 50.792...  2022-03-23 18:02:53.000  \n",
       "3  POLYGON ((0.186719 51.11561,0.18656 51.115525,...  2022-03-23 18:02:54.000  \n",
       "4  POLYGON ((1.381381 51.333004,1.38128 51.333037...  2022-03-23 18:02:54.000  "
      ]
     },
     "execution_count": 3,
     "metadata": {},
     "output_type": "execute_result"
    }
   ],
   "source": [
    "df_o.head()"
   ]
  },
  {
   "cell_type": "code",
   "execution_count": 4,
   "id": "71c827f4",
   "metadata": {},
   "outputs": [
    {
     "data": {
      "text/html": [
       "<div>\n",
       "<style scoped>\n",
       "    .dataframe tbody tr th:only-of-type {\n",
       "        vertical-align: middle;\n",
       "    }\n",
       "\n",
       "    .dataframe tbody tr th {\n",
       "        vertical-align: top;\n",
       "    }\n",
       "\n",
       "    .dataframe thead th {\n",
       "        text-align: right;\n",
       "    }\n",
       "</style>\n",
       "<table border=\"1\" class=\"dataframe\">\n",
       "  <thead>\n",
       "    <tr style=\"text-align: right;\">\n",
       "      <th></th>\n",
       "      <th>STATION_NO</th>\n",
       "      <th>STATION_LATITUDE</th>\n",
       "      <th>STATION_LONGITUDE</th>\n",
       "      <th>OBJECT_TYPE</th>\n",
       "      <th>OBJECT_TYPE_SHORTNAME</th>\n",
       "      <th>STATION_AREA_WKT</th>\n",
       "      <th>CREATIONTIME</th>\n",
       "    </tr>\n",
       "  </thead>\n",
       "  <tbody>\n",
       "    <tr>\n",
       "      <th>0</th>\n",
       "      <td>HSadee6548-d797-49a3-a2a0-b7e8348f0b27</td>\n",
       "      <td>51.130919</td>\n",
       "      <td>1.317469</td>\n",
       "      <td>Hotspot</td>\n",
       "      <td>HS</td>\n",
       "      <td>NaN</td>\n",
       "      <td>2019-05-23 10:22:57.000</td>\n",
       "    </tr>\n",
       "    <tr>\n",
       "      <th>1</th>\n",
       "      <td>HSfd30138a-5a83-450a-81d3-7d1335d69c09</td>\n",
       "      <td>50.846194</td>\n",
       "      <td>-1.055814</td>\n",
       "      <td>Hotspot</td>\n",
       "      <td>HS</td>\n",
       "      <td>NaN</td>\n",
       "      <td>2019-05-20 11:42:16.000</td>\n",
       "    </tr>\n",
       "    <tr>\n",
       "      <th>2</th>\n",
       "      <td>HSefb5e85c-71f8-42a4-b529-44cdd306486d</td>\n",
       "      <td>50.839552</td>\n",
       "      <td>-1.044914</td>\n",
       "      <td>Hotspot</td>\n",
       "      <td>HS</td>\n",
       "      <td>NaN</td>\n",
       "      <td>2019-05-20 12:12:35.000</td>\n",
       "    </tr>\n",
       "    <tr>\n",
       "      <th>3</th>\n",
       "      <td>HS9037443f-c430-4468-86b8-8c2c0362e1c6</td>\n",
       "      <td>51.416060</td>\n",
       "      <td>0.752698</td>\n",
       "      <td>Hotspot</td>\n",
       "      <td>HS</td>\n",
       "      <td>NaN</td>\n",
       "      <td>2019-05-23 14:28:36.000</td>\n",
       "    </tr>\n",
       "    <tr>\n",
       "      <th>4</th>\n",
       "      <td>HS27e9d11e-c6ce-4e8f-ba3a-aac71fd09ff3</td>\n",
       "      <td>50.824115</td>\n",
       "      <td>-0.426342</td>\n",
       "      <td>Hotspot</td>\n",
       "      <td>HS</td>\n",
       "      <td>NaN</td>\n",
       "      <td>2018-04-10 12:31:01.000</td>\n",
       "    </tr>\n",
       "  </tbody>\n",
       "</table>\n",
       "</div>"
      ],
      "text/plain": [
       "                               STATION_NO  STATION_LATITUDE  \\\n",
       "0  HSadee6548-d797-49a3-a2a0-b7e8348f0b27         51.130919   \n",
       "1  HSfd30138a-5a83-450a-81d3-7d1335d69c09         50.846194   \n",
       "2  HSefb5e85c-71f8-42a4-b529-44cdd306486d         50.839552   \n",
       "3  HS9037443f-c430-4468-86b8-8c2c0362e1c6         51.416060   \n",
       "4  HS27e9d11e-c6ce-4e8f-ba3a-aac71fd09ff3         50.824115   \n",
       "\n",
       "   STATION_LONGITUDE OBJECT_TYPE OBJECT_TYPE_SHORTNAME STATION_AREA_WKT  \\\n",
       "0           1.317469     Hotspot                    HS              NaN   \n",
       "1          -1.055814     Hotspot                    HS              NaN   \n",
       "2          -1.044914     Hotspot                    HS              NaN   \n",
       "3           0.752698     Hotspot                    HS              NaN   \n",
       "4          -0.426342     Hotspot                    HS              NaN   \n",
       "\n",
       "              CREATIONTIME  \n",
       "0  2019-05-23 10:22:57.000  \n",
       "1  2019-05-20 11:42:16.000  \n",
       "2  2019-05-20 12:12:35.000  \n",
       "3  2019-05-23 14:28:36.000  \n",
       "4  2018-04-10 12:31:01.000  "
      ]
     },
     "execution_count": 4,
     "metadata": {},
     "output_type": "execute_result"
    }
   ],
   "source": [
    "df_no.head()"
   ]
  },
  {
   "cell_type": "code",
   "execution_count": 5,
   "id": "88b2bcf5",
   "metadata": {},
   "outputs": [
    {
     "data": {
      "text/plain": [
       "((90, 7), (597, 7))"
      ]
     },
     "execution_count": 5,
     "metadata": {},
     "output_type": "execute_result"
    }
   ],
   "source": [
    "df_o.shape, df_no.shape"
   ]
  },
  {
   "cell_type": "code",
   "execution_count": 6,
   "id": "d61fc253",
   "metadata": {},
   "outputs": [
    {
     "name": "stdout",
     "output_type": "stream",
     "text": [
      "<class 'pandas.core.frame.DataFrame'>\n",
      "RangeIndex: 90 entries, 0 to 89\n",
      "Data columns (total 7 columns):\n",
      " #   Column                 Non-Null Count  Dtype  \n",
      "---  ------                 --------------  -----  \n",
      " 0   STATION_NO             90 non-null     object \n",
      " 1   STATION_LATITUDE       90 non-null     float64\n",
      " 2   STATION_LONGITUDE      90 non-null     float64\n",
      " 3   OBJECT_TYPE            90 non-null     object \n",
      " 4   OBJECT_TYPE_SHORTNAME  90 non-null     object \n",
      " 5   STATION_AREA_WKT       90 non-null     object \n",
      " 6   CREATIONTIME           90 non-null     object \n",
      "dtypes: float64(2), object(5)\n",
      "memory usage: 5.0+ KB\n"
     ]
    }
   ],
   "source": [
    "df_o.info()"
   ]
  },
  {
   "cell_type": "code",
   "execution_count": 7,
   "id": "0a1854a2",
   "metadata": {},
   "outputs": [
    {
     "name": "stdout",
     "output_type": "stream",
     "text": [
      "<class 'pandas.core.frame.DataFrame'>\n",
      "RangeIndex: 597 entries, 0 to 596\n",
      "Data columns (total 7 columns):\n",
      " #   Column                 Non-Null Count  Dtype  \n",
      "---  ------                 --------------  -----  \n",
      " 0   STATION_NO             597 non-null    object \n",
      " 1   STATION_LATITUDE       597 non-null    float64\n",
      " 2   STATION_LONGITUDE      597 non-null    float64\n",
      " 3   OBJECT_TYPE            597 non-null    object \n",
      " 4   OBJECT_TYPE_SHORTNAME  597 non-null    object \n",
      " 5   STATION_AREA_WKT       56 non-null     object \n",
      " 6   CREATIONTIME           597 non-null    object \n",
      "dtypes: float64(2), object(5)\n",
      "memory usage: 32.8+ KB\n"
     ]
    }
   ],
   "source": [
    "df_no.info()"
   ]
  },
  {
   "cell_type": "code",
   "execution_count": 8,
   "id": "c664b414",
   "metadata": {},
   "outputs": [
    {
     "data": {
      "text/plain": [
       "Hotspot             541\n",
       "Catchment            49\n",
       "Zone of interest      7\n",
       "Name: OBJECT_TYPE, dtype: int64"
      ]
     },
     "execution_count": 8,
     "metadata": {},
     "output_type": "execute_result"
    }
   ],
   "source": [
    "# Check the unique classes or values in the OBJECT TYPE feature\n",
    "df_no['OBJECT_TYPE'].value_counts()"
   ]
  },
  {
   "cell_type": "markdown",
   "id": "682d542c",
   "metadata": {},
   "source": [
    "### Task 1\n",
    "Use only \"hotspots\" (indicated in OBJECT_TYPE column) from the Non-optimised_rainfall_objects_202209.csv \n",
    "\n",
    "To do this, first create a new data frame containing only OBJECT_TYPE \"Hotspot\" from the non-optimised data frame"
   ]
  },
  {
   "cell_type": "code",
   "execution_count": 9,
   "id": "54bd29a9",
   "metadata": {},
   "outputs": [
    {
     "data": {
      "text/plain": [
       "(541, 7)"
      ]
     },
     "execution_count": 9,
     "metadata": {},
     "output_type": "execute_result"
    }
   ],
   "source": [
    "# Create a new dataframe for the children from extremely low income homes\n",
    "df_hotspot = df_no[df_no['OBJECT_TYPE']=='Hotspot']\n",
    "df_hotspot.shape"
   ]
  },
  {
   "cell_type": "markdown",
   "id": "55a6c53c",
   "metadata": {},
   "source": [
    "### Task 2\n",
    "For the objects in step 1, get the geometry from the column STATION_AREA_WKT. This geometry should only consist of a pair of coordinates. "
   ]
  },
  {
   "cell_type": "code",
   "execution_count": 10,
   "id": "6fce9c89",
   "metadata": {},
   "outputs": [
    {
     "data": {
      "text/html": [
       "<div>\n",
       "<style scoped>\n",
       "    .dataframe tbody tr th:only-of-type {\n",
       "        vertical-align: middle;\n",
       "    }\n",
       "\n",
       "    .dataframe tbody tr th {\n",
       "        vertical-align: top;\n",
       "    }\n",
       "\n",
       "    .dataframe thead th {\n",
       "        text-align: right;\n",
       "    }\n",
       "</style>\n",
       "<table border=\"1\" class=\"dataframe\">\n",
       "  <thead>\n",
       "    <tr style=\"text-align: right;\">\n",
       "      <th></th>\n",
       "      <th>STATION_NO</th>\n",
       "      <th>STATION_LATITUDE</th>\n",
       "      <th>STATION_LONGITUDE</th>\n",
       "      <th>OBJECT_TYPE</th>\n",
       "      <th>OBJECT_TYPE_SHORTNAME</th>\n",
       "      <th>STATION_AREA_WKT</th>\n",
       "      <th>CREATIONTIME</th>\n",
       "    </tr>\n",
       "  </thead>\n",
       "  <tbody>\n",
       "    <tr>\n",
       "      <th>0</th>\n",
       "      <td>HSadee6548-d797-49a3-a2a0-b7e8348f0b27</td>\n",
       "      <td>51.130919</td>\n",
       "      <td>1.317469</td>\n",
       "      <td>Hotspot</td>\n",
       "      <td>HS</td>\n",
       "      <td>NaN</td>\n",
       "      <td>2019-05-23 10:22:57.000</td>\n",
       "    </tr>\n",
       "  </tbody>\n",
       "</table>\n",
       "</div>"
      ],
      "text/plain": [
       "                               STATION_NO  STATION_LATITUDE  \\\n",
       "0  HSadee6548-d797-49a3-a2a0-b7e8348f0b27         51.130919   \n",
       "\n",
       "   STATION_LONGITUDE OBJECT_TYPE OBJECT_TYPE_SHORTNAME STATION_AREA_WKT  \\\n",
       "0           1.317469     Hotspot                    HS              NaN   \n",
       "\n",
       "              CREATIONTIME  \n",
       "0  2019-05-23 10:22:57.000  "
      ]
     },
     "execution_count": 10,
     "metadata": {},
     "output_type": "execute_result"
    }
   ],
   "source": [
    "df_hotspot.head(1)"
   ]
  },
  {
   "cell_type": "code",
   "execution_count": 13,
   "id": "a3c05e45",
   "metadata": {},
   "outputs": [
    {
     "ename": "TypeError",
     "evalue": "'DataFrame' object is not callable",
     "output_type": "error",
     "traceback": [
      "\u001b[1;31m---------------------------------------------------------------------------\u001b[0m",
      "\u001b[1;31mTypeError\u001b[0m                                 Traceback (most recent call last)",
      "Input \u001b[1;32mIn [13]\u001b[0m, in \u001b[0;36m<cell line: 1>\u001b[1;34m()\u001b[0m\n\u001b[1;32m----> 1\u001b[0m \u001b[43mdf_hotspot\u001b[49m\u001b[43m(\u001b[49m\u001b[43m)\u001b[49m\n",
      "\u001b[1;31mTypeError\u001b[0m: 'DataFrame' object is not callable"
     ]
    }
   ],
   "source": [
    "df_hotspot()"
   ]
  },
  {
   "cell_type": "code",
   "execution_count": null,
   "id": "d6267d0d",
   "metadata": {},
   "outputs": [],
   "source": []
  },
  {
   "cell_type": "code",
   "execution_count": null,
   "id": "cf27fd00",
   "metadata": {},
   "outputs": [],
   "source": []
  },
  {
   "cell_type": "code",
   "execution_count": null,
   "id": "9fae6ce6",
   "metadata": {},
   "outputs": [],
   "source": []
  },
  {
   "cell_type": "code",
   "execution_count": null,
   "id": "8b9d2a97",
   "metadata": {},
   "outputs": [],
   "source": []
  },
  {
   "cell_type": "code",
   "execution_count": null,
   "id": "f4180da0",
   "metadata": {},
   "outputs": [],
   "source": [
    "df_hotspot_update = df_hotspot[df_hotspot['STATION_AREA_WKT']!='NaN']\n",
    "df_hotspot_update.shape"
   ]
  },
  {
   "cell_type": "code",
   "execution_count": null,
   "id": "9f5dc4e3",
   "metadata": {},
   "outputs": [],
   "source": [
    "geometry = df_hotspot['STATION_AREA_WKT'].map(shapely.wkt.loads)\n",
    "df = df_hotspot.drop('STATION_AREA_WKT', axis=1)\n",
    "gdf = gpd.GeoDataFrame(df_hotspot, crs=\"EPSG:4326\", geometry=geometry)"
   ]
  },
  {
   "cell_type": "code",
   "execution_count": null,
   "id": "654f9158",
   "metadata": {},
   "outputs": [],
   "source": [
    "# Check the unique classes or values in the OBJECT TYPE feature\n",
    "gdf['geometry'].value_counts()"
   ]
  },
  {
   "cell_type": "code",
   "execution_count": null,
   "id": "9d15341b",
   "metadata": {},
   "outputs": [],
   "source": []
  }
 ],
 "metadata": {
  "kernelspec": {
   "display_name": "Python 3 (ipykernel)",
   "language": "python",
   "name": "python3"
  },
  "language_info": {
   "codemirror_mode": {
    "name": "ipython",
    "version": 3
   },
   "file_extension": ".py",
   "mimetype": "text/x-python",
   "name": "python",
   "nbconvert_exporter": "python",
   "pygments_lexer": "ipython3",
   "version": "3.9.12"
  }
 },
 "nbformat": 4,
 "nbformat_minor": 5
}
